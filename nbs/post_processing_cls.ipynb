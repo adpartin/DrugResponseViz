{
 "cells": [
  {
   "cell_type": "markdown",
   "metadata": {},
   "source": [
    "From Rick:\n",
    "\n",
    "1. Look at the FP data from a cancer type (agg stats for all cell Lines in a given cancer type), cell line, drug, and drug class perspectives.\n",
    "2. Are some {studies, cell lines, drugs, drug class, cancer type} harder than others to predict correctly?\n",
    "3. If we filter out samples with poor AUC fits do the predictions improve (they should but we should characterize the level of improvement).\n",
    "4. Ideally we want to set some quality thresholds that can be applied to experimental results to improve training.\n",
    "5. AUC fit is a good one --> (ap) Is this a question?\n",
    "6. Test the suggested that we exclude the middle values from training (but not from validation) and see if that improves things.\n",
    "\n",
    "Addressing requests:\n",
    "1. False predictions from different perspectives. By: cancer type, cell line, drug, drug class.\n",
    "   - (A) Parplots or boxplots of the most falsely predictable items (have similar plots)\n",
    "2. Are some (studies, cell lines, drugs, drug class, cancer type) harder than others to predict correctly?\n",
    "   - (NA) Directly falls from part (1)\n",
    "3. If we drop samples with poor AUC fits, do the predictions improve? They should but we should characterize the level of improvement.\n",
    "   - (A) Plot histogram of R2fit values  -->  DONE\n",
    "   - (A) Plot of scores vs minimum R2fit in the dataset (requires to train multiple runs).  -->  DONE\n",
    "     For each tick in R2fit specify the fraction of sample size as compared to the original dataset.\n",
    "4. Ideally we want to set some quality thresholds that can be applied to experimental results to improve training.\n",
    "   - (NA) Conclusion from part (3).\n",
    "5. AUC fit is a good one --> (ap) Is this a question?\n",
    "   - (?) None sure\n",
    "6. Test the suggested that we exclude the middle values from training (but not from validation) and see if that improves things.\n",
    "   - (A) Plot histogram of AUC values\n",
    "   - (A) Plot histogram of AUC values for each of the following: FP, FN, TP, TN"
   ]
  },
  {
   "cell_type": "code",
   "execution_count": 1,
   "metadata": {},
   "outputs": [
    {
     "name": "stdout",
     "output_type": "stream",
     "text": [
      "/vol/ml/apartin/anaconda3/envs/p1/bin/python\n"
     ]
    }
   ],
   "source": [
    "!which python"
   ]
  },
  {
   "cell_type": "code",
   "execution_count": 2,
   "metadata": {},
   "outputs": [],
   "source": [
    "%load_ext autoreload\n",
    "%autoreload 2\n",
    "%matplotlib inline\n",
    "\n",
    "import warnings\n",
    "warnings.filterwarnings('ignore')\n",
    "\n",
    "import os\n",
    "import sys\n",
    "from pathlib import Path\n",
    "import matplotlib.pyplot as plt\n",
    "import seaborn as sns\n",
    "import collections\n",
    "from glob import glob\n",
    "\n",
    "import sklearn\n",
    "import numpy as np\n",
    "import pandas as pd\n",
    "from math import sqrt\n",
    "\n",
    "from sklearn.metrics import confusion_matrix\n",
    "from sklearn.metrics import ConfusionMatrixDisplay  # error"
   ]
  },
  {
   "cell_type": "code",
   "execution_count": 3,
   "metadata": {},
   "outputs": [],
   "source": [
    "# runs_dir_name = 'out_lgbm'\n",
    "# runs_dir_name = 'out_lgbm_cls'\n",
    "# runs_dir_name = 'out_lgbm_cls_811_v1'\n",
    "\n",
    "# runs_dir_name = 'out_cls_r0'\n",
    "# runs_dir_name = 'out_cls_r10'\n",
    "\n",
    "runs_dir_name = 'rv_trains/trn_rv0.0'\n",
    "# runs_dir_name = 'rv_trains/trn_rv0.9'\n",
    "# runs_dir_name = 'gap_trains/gap_0.5_0.7'"
   ]
  },
  {
   "cell_type": "code",
   "execution_count": 4,
   "metadata": {},
   "outputs": [
    {
     "name": "stdout",
     "output_type": "stream",
     "text": [
      "/vol/ml/apartin/projects/DrugResponseViz/notebooks\n",
      "/vol/ml/apartin/projects/DrugResponseViz/notebooks/../rv_trains/trn_rv0.0/post_proc\n"
     ]
    }
   ],
   "source": [
    "file_path = Path.cwd()\n",
    "print(file_path)\n",
    "\n",
    "# mltype = 'reg'\n",
    "mltype = 'cls'\n",
    "\n",
    "out_postproc_fpath = file_path/'..'/runs_dir_name/'post_proc'\n",
    "os.makedirs(out_postproc_fpath, exist_ok=True)\n",
    "print(out_postproc_fpath)\n",
    "\n",
    "# out_figs = file_path / 'out_figs_cls'\n",
    "# os.makedirs(out_figs, exist_ok=True)\n",
    "\n",
    "runs_dir_path = Path(file_path / '..' / runs_dir_name)\n",
    "runs_dirs = [Path(p) for p in glob(str(runs_dir_path/'run_*'))]\n",
    "# pred = pd.read_csv(os.path.join(predsdir, 'dev_lgb_reg_preds.csv'))"
   ]
  },
  {
   "cell_type": "code",
   "execution_count": 5,
   "metadata": {},
   "outputs": [
    {
     "name": "stdout",
     "output_type": "stream",
     "text": [
      "(14590, 2)\n"
     ]
    }
   ],
   "source": [
    "# Load cell metadata\n",
    "cancer_types = pd.read_csv(file_path/'../data/combined_cancer_types', sep='\\t', names=['CELL', 'CTYPE'])\n",
    "print(cancer_types.shape)\n",
    "\n",
    "# cmeta = pd.read_csv(file_path/'../data/combined_metadata_2018May.txt', sep='\\t')\n",
    "# print(cmeta.shape)\n",
    "\n",
    "# dmeta = pd.read_csv(file_path/'../data/drug_info', sep='\\t')\n",
    "# print(dmeta.shape)"
   ]
  },
  {
   "cell_type": "code",
   "execution_count": null,
   "metadata": {},
   "outputs": [],
   "source": []
  },
  {
   "cell_type": "markdown",
   "metadata": {},
   "source": [
    "# Aggregate predictions from all runs (shuffles/splits)"
   ]
  },
  {
   "cell_type": "code",
   "execution_count": 6,
   "metadata": {},
   "outputs": [],
   "source": [
    "def reorg_cols(df, col_first:str):\n",
    "    \"\"\"\n",
    "    Args:\n",
    "        col_first : col name to put first\n",
    "    \"\"\"\n",
    "    cols = df.columns.tolist()\n",
    "    cols.remove(col_first)\n",
    "    return df[[col_first] + cols]\n",
    "    \n",
    "def agg_preds_from_cls_runs(runs_dirs, phase='_te.csv', verbose=False):\n",
    "    \"\"\" Aggregate predictions bootstraped ML trainings. \"\"\"\n",
    "    prd = []\n",
    "    for i, dir_name in enumerate(runs_dirs):\n",
    "        if '_tr.csv' in phase:\n",
    "            prd_ = pd.read_csv(dir_name/'preds_tr.csv')\n",
    "        elif '_vl.csv' in phase:\n",
    "            prd_ = pd.read_csv(dir_name/'preds_vl.csv')\n",
    "        elif '_te.csv' in phase:\n",
    "            prd_ = pd.read_csv(dir_name/'preds_te.csv')\n",
    "        \n",
    "        # prd_te_['err'] = abs(prd_te_['y_true'] - prd_te_['y_pred'])      # add col 'err'\n",
    "        prd_['run'] = str(dir_name).split(os.sep)[-1].split('_')[-1]  # add col 'run' identifier\n",
    "        prd.append(prd_)  # append run data\n",
    "\n",
    "        if verbose:\n",
    "            if i%20==0:\n",
    "                print(f'Processing {dir_name}')\n",
    "            \n",
    "    # Aggregate to df\n",
    "    prd = pd.concat(prd, axis=0)\n",
    "    \n",
    "    # Reorganize cols\n",
    "    prd = reorg_cols(prd, col_first='run').sort_values('run').reset_index(drop=True).reset_index().rename(columns={'index': 'idx'})\n",
    "    return prd"
   ]
  },
  {
   "cell_type": "code",
   "execution_count": 7,
   "metadata": {},
   "outputs": [
    {
     "name": "stdout",
     "output_type": "stream",
     "text": [
      "(3278200, 18)\n"
     ]
    },
    {
     "data": {
      "text/html": [
       "<div>\n",
       "<style scoped>\n",
       "    .dataframe tbody tr th:only-of-type {\n",
       "        vertical-align: middle;\n",
       "    }\n",
       "\n",
       "    .dataframe tbody tr th {\n",
       "        vertical-align: top;\n",
       "    }\n",
       "\n",
       "    .dataframe thead th {\n",
       "        text-align: right;\n",
       "    }\n",
       "</style>\n",
       "<table border=\"1\" class=\"dataframe\">\n",
       "  <thead>\n",
       "    <tr style=\"text-align: right;\">\n",
       "      <th></th>\n",
       "      <th>idx</th>\n",
       "      <th>run</th>\n",
       "      <th>SOURCE</th>\n",
       "      <th>CTYPE</th>\n",
       "      <th>CELL</th>\n",
       "      <th>DRUG</th>\n",
       "      <th>R2fit</th>\n",
       "      <th>AUC</th>\n",
       "      <th>y_true_cls</th>\n",
       "      <th>y_pred_prob</th>\n",
       "      <th>y_pred_cls</th>\n",
       "      <th>prob_err</th>\n",
       "      <th>AUC_bin</th>\n",
       "      <th>prd_cat</th>\n",
       "      <th>TP</th>\n",
       "      <th>TN</th>\n",
       "      <th>FP</th>\n",
       "      <th>FN</th>\n",
       "    </tr>\n",
       "  </thead>\n",
       "  <tbody>\n",
       "    <tr>\n",
       "      <th>0</th>\n",
       "      <td>0</td>\n",
       "      <td>s000</td>\n",
       "      <td>CTRP</td>\n",
       "      <td>Colon_Adenocarcinoma</td>\n",
       "      <td>CTRP.OUMS-23</td>\n",
       "      <td>CTRP.413</td>\n",
       "      <td>0.9884</td>\n",
       "      <td>0.3739</td>\n",
       "      <td>1</td>\n",
       "      <td>0.498734</td>\n",
       "      <td>0</td>\n",
       "      <td>0.501266</td>\n",
       "      <td>(0.3, 0.4]</td>\n",
       "      <td>FN</td>\n",
       "      <td>False</td>\n",
       "      <td>False</td>\n",
       "      <td>False</td>\n",
       "      <td>True</td>\n",
       "    </tr>\n",
       "    <tr>\n",
       "      <th>1</th>\n",
       "      <td>1507</td>\n",
       "      <td>s000</td>\n",
       "      <td>CTRP</td>\n",
       "      <td>Colon_Adenocarcinoma</td>\n",
       "      <td>CTRP.OUMS-23</td>\n",
       "      <td>CTRP.418</td>\n",
       "      <td>0.9925</td>\n",
       "      <td>0.9797</td>\n",
       "      <td>0</td>\n",
       "      <td>0.000226</td>\n",
       "      <td>0</td>\n",
       "      <td>0.000226</td>\n",
       "      <td>(0.9, 1.0]</td>\n",
       "      <td>TN</td>\n",
       "      <td>False</td>\n",
       "      <td>True</td>\n",
       "      <td>False</td>\n",
       "      <td>False</td>\n",
       "    </tr>\n",
       "  </tbody>\n",
       "</table>\n",
       "</div>"
      ],
      "text/plain": [
       "    idx   run SOURCE                 CTYPE          CELL      DRUG   R2fit  \\\n",
       "0     0  s000   CTRP  Colon_Adenocarcinoma  CTRP.OUMS-23  CTRP.413  0.9884   \n",
       "1  1507  s000   CTRP  Colon_Adenocarcinoma  CTRP.OUMS-23  CTRP.418  0.9925   \n",
       "\n",
       "      AUC  y_true_cls  y_pred_prob  y_pred_cls  prob_err     AUC_bin prd_cat  \\\n",
       "0  0.3739           1     0.498734           0  0.501266  (0.3, 0.4]      FN   \n",
       "1  0.9797           0     0.000226           0  0.000226  (0.9, 1.0]      TN   \n",
       "\n",
       "      TP     TN     FP     FN  \n",
       "0  False  False  False   True  \n",
       "1  False   True  False  False  "
      ]
     },
     "metadata": {},
     "output_type": "display_data"
    }
   ],
   "source": [
    "# Concat preds from all runs      \n",
    "prd_te_all = agg_preds_from_cls_runs(runs_dirs, phase='_te.csv')\n",
    "\n",
    "# Add SOURCE column\n",
    "if 'source' not in [str(i).lower() for i in prd_te_all.columns.to_list()]: \n",
    "    print('Add the SOURCE column.')\n",
    "    prd_te_all.insert(loc=2, column='SOURCE', value=[s.split('.')[0].lower() for s in prd_te_all['CELL']])\n",
    "\n",
    "# Add CTYPE column\n",
    "prd_te_all = pd.merge(prd_te_all, cancer_types, on='CELL')\n",
    "prd_te_all = reorg_cols(prd_te_all, col_first='CTYPE')\n",
    "\n",
    "# Rename\n",
    "prd_te_all = prd_te_all.rename(columns={'y_true': 'y_true_cls', 'y_pred': 'y_pred_prob'})\n",
    "\n",
    "# Retain specific columns\n",
    "cols = ['idx', 'run', 'SOURCE', 'CTYPE', 'CELL', 'DRUG', 'R2fit', 'AUC', 'y_true_cls', 'y_pred_prob']\n",
    "prd_te_all = prd_te_all[cols]\n",
    "\n",
    "# Add col of pred labels\n",
    "prd_te_all['y_pred_cls'] = prd_te_all.y_pred_prob.map(lambda x: 0 if x<0.5 else 1)\n",
    "\n",
    "# The highest error is 0.5 while the lowest is 0.\n",
    "# This value is proportional to the square root of Brier score.\n",
    "prd_te_all['prob_err'] = abs(prd_te_all.y_true_cls - prd_te_all.y_pred_prob)\n",
    "\n",
    "# Bin AUC values\n",
    "bins = np.arange(0, 1.1, 0.1).tolist()\n",
    "prd_te_all['AUC_bin'] = pd.cut(prd_te_all.AUC, bins, right=True, labels=None, retbins=False,\n",
    "                               precision=3, include_lowest=False, duplicates='raise')\n",
    "\n",
    "# Add col that cetegorizes the preds\n",
    "prd_te_all['prd_cat'] = None\n",
    "prd_te_all.prd_cat[ (prd_te_all.y_true_cls==1) & (prd_te_all.y_pred_cls==1) ] = 'TP'\n",
    "prd_te_all.prd_cat[ (prd_te_all.y_true_cls==0) & (prd_te_all.y_pred_cls==0) ] = 'TN'\n",
    "prd_te_all.prd_cat[ (prd_te_all.y_true_cls==1) & (prd_te_all.y_pred_cls==0) ] = 'FN'\n",
    "prd_te_all.prd_cat[ (prd_te_all.y_true_cls==0) & (prd_te_all.y_pred_cls==1) ] = 'FP'\n",
    "\n",
    "# Add cols\n",
    "prd_te_all['TP'] = prd_te_all.prd_cat=='TP'\n",
    "prd_te_all['TN'] = prd_te_all.prd_cat=='TN'\n",
    "prd_te_all['FP'] = prd_te_all.prd_cat=='FP'\n",
    "prd_te_all['FN'] = prd_te_all.prd_cat=='FN'\n",
    "\n",
    "print(prd_te_all.shape)\n",
    "display( prd_te_all[:2] )"
   ]
  },
  {
   "cell_type": "code",
   "execution_count": 8,
   "metadata": {},
   "outputs": [
    {
     "name": "stdout",
     "output_type": "stream",
     "text": [
      "TN: 3127700\n",
      "FP: 23354\n",
      "FN: 62107\n",
      "TP: 65039\n",
      "FPR: 0.007411488346439001\n",
      "FNR: 0.4884699479338713\n",
      "MCC: 0.6009257633005854\n"
     ]
    }
   ],
   "source": [
    "# Plot confusion matrix\n",
    "y_true_cls = prd_te_all.y_true_cls\n",
    "y_pred_cls = prd_te_all.y_pred_cls\n",
    "\n",
    "np_conf = confusion_matrix(y_true_cls, y_pred_cls)\n",
    "tn, fp, fn, tp = confusion_matrix(y_true_cls, y_pred_cls).ravel()\n",
    "\n",
    "mcc = sklearn.metrics.matthews_corrcoef(y_true_cls, y_pred_cls, sample_weight=None)\n",
    "print('TN:', tn)\n",
    "print('FP:', fp)\n",
    "print('FN:', fn)\n",
    "print('TP:', tp)\n",
    "print('FPR:', fp/(fp+tn))\n",
    "print('FNR:', fn/(fn+tp))\n",
    "print('MCC:', mcc)\n",
    "\n",
    "with open(out_postproc_fpath/'scores.txt', 'w') as f:\n",
    "    f.write('TN: {:d}\\n'.format(tn))\n",
    "    f.write('TN: {:d}\\n'.format(tn))\n",
    "    f.write('FP: {:d}\\n'.format(fp))\n",
    "    f.write('FN: {:d}\\n'.format(fn))\n",
    "    f.write('TP: {:d}\\n'.format(tp))\n",
    "    f.write('FPR: {:.5f}\\n'.format(fp/(fp+tn)))\n",
    "    f.write('FNR: {:.5f}\\n'.format(fn/(fn+tp)))\n",
    "    f.write('MCC: {:.5f}\\n'.format(mcc))"
   ]
  },
  {
   "cell_type": "code",
   "execution_count": 9,
   "metadata": {},
   "outputs": [
    {
     "data": {
      "image/png": "[encoded data removed]",
      "text/plain": [
       "<Figure size 432x288 with 2 Axes>"
      ]
     },
     "metadata": {
      "needs_background": "light"
     },
     "output_type": "display_data"
    },
    {
     "data": {
      "image/png": "[encoded data removed]",
      "text/plain": [
       "<Figure size 432x288 with 2 Axes>"
      ]
     },
     "metadata": {
      "needs_background": "light"
     },
     "output_type": "display_data"
    }
   ],
   "source": [
    "y_true_cls = prd_te_all.y_true_cls\n",
    "y_pred_cls = prd_te_all.y_pred_cls\n",
    "\n",
    "# Confusion Matrix\n",
    "conf = confusion_matrix(y_true_cls, y_pred_cls, normalize=None)\n",
    "conf_plot = ConfusionMatrixDisplay(conf, display_labels=['NoResp', 'Resp'])\n",
    "conf_plot.plot(include_values=True, cmap=plt.cm.Blues, ax=None, xticks_rotation=None, values_format='d')\n",
    "\n",
    "# Confusion Matrix (normalized)\n",
    "conf = confusion_matrix(y_true_cls, y_pred_cls, normalize='true')\n",
    "conf_plot = ConfusionMatrixDisplay(conf, display_labels=['NoResp', 'Resp'])\n",
    "conf_plot.plot(include_values=True, cmap=plt.cm.Blues, ax=None, xticks_rotation=None, values_format='.5f')\n",
    "conf_plot.ax_.set_title('Normalized');"
   ]
  },
  {
   "cell_type": "code",
   "execution_count": null,
   "metadata": {},
   "outputs": [],
   "source": []
  },
  {
   "cell_type": "markdown",
   "metadata": {},
   "source": [
    "# Brier Scores"
   ]
  },
  {
   "cell_type": "code",
   "execution_count": 10,
   "metadata": {},
   "outputs": [],
   "source": [
    "# df_brier = prd_te_all.copy()\n",
    "# # df_brier['y_pred_cls'] = df_brier.y_pred.map(lambda x: 0 if x<0.5 else 1)\n",
    "# display(df_brier[:2])\n",
    "\n",
    "# tp_df = df_brier[(df_brier.y_true_cls==1) & (df_brier.y_pred_cls==1)]\n",
    "# fn_df = df_brier[(df_brier.y_true_cls==1) & (df_brier.y_pred_cls==0)]\n",
    "# tn_df = df_brier[(df_brier.y_true_cls==0) & (df_brier.y_pred_cls==0)]\n",
    "# fp_df = df_brier[(df_brier.y_true_cls==0) & (df_brier.y_pred_cls==1)]\n",
    "\n",
    "# brier_scores = {}\n",
    "# brier_scores['tp'] = sklearn.metrics.brier_score_loss(tp_df.y_true_cls, tp_df.y_pred_prob)\n",
    "# brier_scores['fn'] = sklearn.metrics.brier_score_loss(fn_df.y_true_cls, fn_df.y_pred_prob)\n",
    "# brier_scores['tn'] = sklearn.metrics.brier_score_loss(tn_df.y_true_cls, tn_df.y_pred_prob)\n",
    "# brier_scores['fp'] = sklearn.metrics.brier_score_loss(fp_df.y_true_cls, fp_df.y_pred_prob)\n",
    "\n",
    "# print(brier_scores)\n",
    "# del df_brier"
   ]
  },
  {
   "cell_type": "code",
   "execution_count": null,
   "metadata": {},
   "outputs": [],
   "source": []
  },
  {
   "cell_type": "markdown",
   "metadata": {},
   "source": [
    "# Calibrate classification probabilities\n",
    "\n",
    "- https://gdmarmerola.github.io/probability-calibration/\n",
    "- https://github.com/Microsoft/LightGBM/issues/1562\n",
    "- https://stats.stackexchange.com/questions/263393/scikit-correct-way-to-calibrate-classifiers-with-calibratedclassifiercv/263411\n",
    "- https://scikit-learn.org/stable/modules/generated/sklearn.calibration.CalibratedClassifierCV.html#sklearn.calibration.CalibratedClassifierCV"
   ]
  },
  {
   "cell_type": "code",
   "execution_count": null,
   "metadata": {},
   "outputs": [],
   "source": []
  },
  {
   "cell_type": "markdown",
   "metadata": {},
   "source": [
    "# Summary Table (hard labels)"
   ]
  },
  {
   "cell_type": "code",
   "execution_count": 11,
   "metadata": {},
   "outputs": [],
   "source": [
    "def barplot_high_low_items_by_mcc(labels, values, N=4, xlabel=None, figsize=(9, 7)):\n",
    "    \"\"\" Plot the highest N and lowest N items. \"\"\"\n",
    "    fig, ax = plt.subplots(figsize=figsize)\n",
    "\n",
    "    pos = np.arange(len(labels))\n",
    "\n",
    "    rects1 = ax.barh(pos[:N], values[:N],\n",
    "                     align='center', height=0.7,\n",
    "                     color='b', edgecolor='k', alpha=0.6,\n",
    "                     label='Highest Values')\n",
    "\n",
    "    rects2 = ax.barh(pos[N:], values[N:],\n",
    "                     align='center', height=0.7,\n",
    "                     color='r', edgecolor='k', alpha=0.6,\n",
    "                     label='Lowest Values')\n",
    "\n",
    "    ylabels = [' '.join(s.split('_')) for s in labels]\n",
    "    ax.set_yticks( pos )\n",
    "    ax.set_yticklabels( ylabels )\n",
    "    ax.set_xlabel(xlabel)\n",
    "    ax.legend();\n",
    "\n",
    "    for rect in rects1:\n",
    "        width = rect.get_width()\n",
    "        width = np.around(width, decimals=2)\n",
    "        align = 'left'\n",
    "\n",
    "        xloc = -40\n",
    "        yloc = rect.get_y() + rect.get_height() / 2  # Center the text vertically in the bar\n",
    "        label = ax.annotate(width,\n",
    "                            xy=(width, yloc),\n",
    "                            xytext=(xloc, 0),           # The position (x,y) to place the text at. If None, defaults to xy.\n",
    "                            textcoords='offset points', # The coordinate system that xytext is given in\n",
    "                            ha=align, va='center',\n",
    "                            color='k', weight='bold', clip_on=True);\n",
    "\n",
    "    for rect in rects2:\n",
    "        width = rect.get_width()\n",
    "        width = np.around(width, decimals=2)\n",
    "        align = 'left'\n",
    "\n",
    "        xloc = -50\n",
    "        yloc = rect.get_y() + rect.get_height() / 2  # Center the text vertically in the bar\n",
    "        label = ax.annotate(width,\n",
    "                            xy=(width, yloc),\n",
    "                            xytext=(xloc, 0),           # The position (x,y) to place the text at. If None, defaults to xy.\n",
    "                            textcoords='offset points', # The coordinate system that xytext is given in\n",
    "                            ha=align, va='center',\n",
    "                            color='k', weight='bold', clip_on=True);\n",
    "    return fig, ax"
   ]
  },
  {
   "cell_type": "code",
   "execution_count": 12,
   "metadata": {},
   "outputs": [],
   "source": [
    "def add_meta(df):\n",
    "    # Add N and P columns\n",
    "    df['N'] = df.TN + df.FP\n",
    "    df['P'] = df.TP + df.FN\n",
    "\n",
    "    # Add TPR, TNR, FPR, FNR\n",
    "    df['TPR'] = df.apply(lambda row: np.nan if (row.TP==0) & (row.FN==0) else row.TP / (row.TP + row.FN), axis=1)  # sensitivity, recall: TP/P = TP/(TP+FN)\n",
    "    df['TNR'] = df.apply(lambda row: np.nan if (row.TN==0) & (row.FP==0) else row.TN / (row.TN + row.FP), axis=1)  # specificity: TN/N = TN/(TN+FP)\n",
    "    df['FPR'] = df.apply(lambda row: np.nan if (row.TN==0) & (row.FP==0) else row.FP / (row.TN + row.FP), axis=1)  # fall-out: FP/N = FP/(FP+TN)\n",
    "    df['FNR'] = df.apply(lambda row: np.nan if (row.TP==0) & (row.FN==0) else row.FN / (row.TP + row.FN), axis=1)  # miss-rate: FN/NP = FN/(FN+TP)\n",
    "\n",
    "    # Add MCC\n",
    "    def mcc_num(TP, TN, FP, FN):  return TP*TN - FP*FN\n",
    "    def mcc_den(TP, TN, FP, FN):  return ( (TP+FP) * (TP+FN) * (TN+FP) * (TN+FN) ) ** (1/2)\n",
    "\n",
    "    df['mcc_num'] = df.apply( lambda r: mcc_num(r.TP, r.TN, r.FP, r.FN), axis=1 )\n",
    "    df['mcc_den'] = df.apply( lambda r: mcc_den(r.TP, r.TN, r.FP, r.FN), axis=1 )\n",
    "    df['mcc'] = df.apply(lambda r: r.mcc_num/r.mcc_den if r.mcc_den>0.0001 else np.nan, axis=1)\n",
    "    \n",
    "    return df"
   ]
  },
  {
   "cell_type": "code",
   "execution_count": 13,
   "metadata": {},
   "outputs": [],
   "source": [
    "# Cell hard scores\n",
    "sm_cell_hard = prd_te_all.groupby('CELL').agg({\n",
    "    'SOURCE': 'unique',\n",
    "    'DRUG': 'unique',\n",
    "    'CTYPE': lambda x: np.unique(x)[0],\n",
    "    'TP': lambda x: int(sum(x)),\n",
    "    'TN': lambda x: int(sum(x)),\n",
    "    'FP': lambda x: int(sum(x)),\n",
    "    'FN': lambda x: int(sum(x))\n",
    "}).reset_index()\n",
    "sm_cell_hard = add_meta(sm_cell_hard)"
   ]
  },
  {
   "cell_type": "code",
   "execution_count": 14,
   "metadata": {},
   "outputs": [],
   "source": [
    "# Drug hard scores\n",
    "sm_drug_hard = prd_te_all.groupby('DRUG').agg({\n",
    "    'SOURCE': 'unique',    \n",
    "    'CELL': 'unique',\n",
    "    'CTYPE': lambda x: np.unique(x)[0],\n",
    "    'TP': lambda x: int(sum(x)),\n",
    "    'TN': lambda x: int(sum(x)),\n",
    "    'FP': lambda x: int(sum(x)),\n",
    "    'FN': lambda x: int(sum(x))\n",
    "}).reset_index()\n",
    "sm_drug_hard = add_meta(sm_drug_hard)"
   ]
  },
  {
   "cell_type": "code",
   "execution_count": 15,
   "metadata": {},
   "outputs": [],
   "source": [
    "# Ctype hard scores\n",
    "sm_ctype_hard = prd_te_all.groupby('CTYPE').agg({\n",
    "    'SOURCE': 'unique',    \n",
    "    'CELL': 'unique',\n",
    "    'DRUG': 'unique',\n",
    "    'TP': lambda x: int(sum(x)),\n",
    "    'TN': lambda x: int(sum(x)),\n",
    "    'FP': lambda x: int(sum(x)),\n",
    "    'FN': lambda x: int(sum(x))\n",
    "}).reset_index()\n",
    "sm_ctype_hard = add_meta(sm_ctype_hard)"
   ]
  },
  {
   "cell_type": "code",
   "execution_count": 16,
   "metadata": {},
   "outputs": [
    {
     "data": {
      "text/html": [
       "<div>\n",
       "<style scoped>\n",
       "    .dataframe tbody tr th:only-of-type {\n",
       "        vertical-align: middle;\n",
       "    }\n",
       "\n",
       "    .dataframe tbody tr th {\n",
       "        vertical-align: top;\n",
       "    }\n",
       "\n",
       "    .dataframe thead th {\n",
       "        text-align: right;\n",
       "    }\n",
       "</style>\n",
       "<table border=\"1\" class=\"dataframe\">\n",
       "  <thead>\n",
       "    <tr style=\"text-align: right;\">\n",
       "      <th></th>\n",
       "      <th>CTYPE</th>\n",
       "      <th>SOURCE</th>\n",
       "      <th>CELL</th>\n",
       "      <th>DRUG</th>\n",
       "      <th>TP</th>\n",
       "      <th>TN</th>\n",
       "      <th>FP</th>\n",
       "      <th>FN</th>\n",
       "      <th>N</th>\n",
       "      <th>P</th>\n",
       "      <th>TPR</th>\n",
       "      <th>TNR</th>\n",
       "      <th>FPR</th>\n",
       "      <th>FNR</th>\n",
       "      <th>mcc_num</th>\n",
       "      <th>mcc_den</th>\n",
       "      <th>mcc</th>\n",
       "    </tr>\n",
       "  </thead>\n",
       "  <tbody>\n",
       "    <tr>\n",
       "      <th>0</th>\n",
       "      <td>Lymphoid_Neoplasm_Diffuse_Large_B-cell_Lymphoma</td>\n",
       "      <td>[CTRP, GDSC, CCLE, gCSI]</td>\n",
       "      <td>[CTRP.SU-DHL-6, CTRP.OCI-LY3, CTRP.SU-DHL-8, G...</td>\n",
       "      <td>[CTRP.372, CTRP.528, CTRP.292, CTRP.389, CTRP....</td>\n",
       "      <td>6856</td>\n",
       "      <td>90301</td>\n",
       "      <td>1671</td>\n",
       "      <td>3106</td>\n",
       "      <td>91972</td>\n",
       "      <td>9962</td>\n",
       "      <td>0.688215</td>\n",
       "      <td>0.981831</td>\n",
       "      <td>0.018169</td>\n",
       "      <td>0.311785</td>\n",
       "      <td>613913530</td>\n",
       "      <td>8.542577e+08</td>\n",
       "      <td>0.718651</td>\n",
       "    </tr>\n",
       "    <tr>\n",
       "      <th>1</th>\n",
       "      <td>Lymphoid_Leukemia</td>\n",
       "      <td>[CTRP, GDSC, CCLE, NCI60, gCSI]</td>\n",
       "      <td>[CTRP.697, CTRP.KMS-28BM, GDSC.KOPN-8, CTRP.SU...</td>\n",
       "      <td>[CTRP.35, CTRP.389, CTRP.170, CTRP.41, CTRP.98...</td>\n",
       "      <td>13198</td>\n",
       "      <td>229157</td>\n",
       "      <td>3914</td>\n",
       "      <td>6572</td>\n",
       "      <td>233071</td>\n",
       "      <td>19770</td>\n",
       "      <td>0.667577</td>\n",
       "      <td>0.983207</td>\n",
       "      <td>0.016793</td>\n",
       "      <td>0.332423</td>\n",
       "      <td>2998691278</td>\n",
       "      <td>4.311261e+09</td>\n",
       "      <td>0.695548</td>\n",
       "    </tr>\n",
       "  </tbody>\n",
       "</table>\n",
       "</div>"
      ],
      "text/plain": [
       "                                             CTYPE  \\\n",
       "0  Lymphoid_Neoplasm_Diffuse_Large_B-cell_Lymphoma   \n",
       "1                                Lymphoid_Leukemia   \n",
       "\n",
       "                            SOURCE  \\\n",
       "0         [CTRP, GDSC, CCLE, gCSI]   \n",
       "1  [CTRP, GDSC, CCLE, NCI60, gCSI]   \n",
       "\n",
       "                                                CELL  \\\n",
       "0  [CTRP.SU-DHL-6, CTRP.OCI-LY3, CTRP.SU-DHL-8, G...   \n",
       "1  [CTRP.697, CTRP.KMS-28BM, GDSC.KOPN-8, CTRP.SU...   \n",
       "\n",
       "                                                DRUG     TP      TN    FP  \\\n",
       "0  [CTRP.372, CTRP.528, CTRP.292, CTRP.389, CTRP....   6856   90301  1671   \n",
       "1  [CTRP.35, CTRP.389, CTRP.170, CTRP.41, CTRP.98...  13198  229157  3914   \n",
       "\n",
       "     FN       N      P       TPR       TNR       FPR       FNR     mcc_num  \\\n",
       "0  3106   91972   9962  0.688215  0.981831  0.018169  0.311785   613913530   \n",
       "1  6572  233071  19770  0.667577  0.983207  0.016793  0.332423  2998691278   \n",
       "\n",
       "        mcc_den       mcc  \n",
       "0  8.542577e+08  0.718651  \n",
       "1  4.311261e+09  0.695548  "
      ]
     },
     "metadata": {},
     "output_type": "display_data"
    },
    {
     "data": {
      "image/png": "[encoded data removed]",
      "text/plain": [
       "<Figure size 864x432 with 1 Axes>"
      ]
     },
     "metadata": {
      "needs_background": "light"
     },
     "output_type": "display_data"
    }
   ],
   "source": [
    "# Get the N most responsive cells\n",
    "N = 4\n",
    "col='mcc'\n",
    "top_items = sm_ctype_hard.sort_values(col, ascending=True)[:N]   # Top items\n",
    "bot_items = sm_ctype_hard.sort_values(col, ascending=True)[-N:]  # Bottom items\n",
    "data_to_plot = pd.concat([top_items, bot_items], axis=0).sort_values(col, ascending=False).reset_index(drop=True)\n",
    "display( data_to_plot[:2] )\n",
    "\n",
    "# CTYPE\n",
    "barplot_high_low_items_by_mcc(labels=data_to_plot.CTYPE.values,\n",
    "                              values=data_to_plot[col].values,\n",
    "                              xlabel=f'{col.upper()} Score', N=4, figsize=(12, 6));\n",
    "plt.tight_layout()\n",
    "plt.savefig(out_postproc_fpath/f'ctype_{col}_hist.png', dpi=150)"
   ]
  },
  {
   "cell_type": "code",
   "execution_count": 26,
   "metadata": {},
   "outputs": [
    {
     "data": {
      "text/plain": [
       "array(['Acute_Myeloid_Leukemia', 'Breast_Invasive_Carcinoma',\n",
       "       'Colon_Adenocarcinoma', 'Esophageal_Carcinoma',\n",
       "       'Glioblastoma_Multiforme', 'Head_and_Neck_Squamous_Cell_Carcinoma',\n",
       "       'Kidney_Renal_Clear_Cell_Carcinoma',\n",
       "       'Liver_Hepatocellular_Carcinoma', 'Lung_Adenocarcinoma',\n",
       "       'Lung_Non-Small_Cell_Carcinoma', 'Lung_Small_Cell_Carcinoma',\n",
       "       'Lung_Squamous_Cell_Carcinoma', 'Lymphoid_Leukemia',\n",
       "       'Lymphoid_Neoplasm_Diffuse_Large_B-cell_Lymphoma',\n",
       "       'Ovarian_Serous_Cystadenocarcinoma', 'Ovary_NOS',\n",
       "       'Pancreatic_Adenocarcinoma', 'Sarcoma', 'Skin_Cutaneous_Melanoma',\n",
       "       'Stomach_Adenocarcinoma', 'Uterine_Corpus_Endometrial_Carcinoma'],\n",
       "      dtype=object)"
      ]
     },
     "execution_count": 26,
     "metadata": {},
     "output_type": "execute_result"
    }
   ],
   "source": [
    "sm_ctype_hard.CTYPE.unique()"
   ]
  },
  {
   "cell_type": "code",
   "execution_count": 17,
   "metadata": {},
   "outputs": [],
   "source": [
    "# # MCC is NaN.\n",
    "# # The item completely determines the response (always response or non-response).\n",
    "# cell_mcc_nan = sm_cell_hard[ sm_cell_hard.mcc.isna() ]\n",
    "# cell_mcc_df = sm_cell_hard[ ~sm_cell_hard.mcc.isna() ]\n",
    "\n",
    "# print('\\nWorst by MCC ...')\n",
    "# display( cell_mcc_df.sort_values('mcc', ascending=True)[:4] )\n",
    "# print('\\nBest by MCC ...')\n",
    "# display( cell_mcc_df.sort_values('mcc', ascending=False)[:4] )\n",
    "# print('\\nMCC is NaN ...')\n",
    "# display( cell_mcc_nan[:4] )"
   ]
  },
  {
   "cell_type": "code",
   "execution_count": 18,
   "metadata": {},
   "outputs": [],
   "source": [
    "# # ... is NaN.\n",
    "# # In certain cases there only one labels, and the classifier is consistent with predictions.\n",
    "# display( sm_cell_hard.sort_values(['FPR', 'FNR'], ascending=[False, False])[:4] )\n",
    "# display( sm_cell_hard.sort_values(['FNR', 'FPR'], ascending=[False, False])[:4] )"
   ]
  },
  {
   "cell_type": "code",
   "execution_count": null,
   "metadata": {},
   "outputs": [],
   "source": []
  },
  {
   "cell_type": "markdown",
   "metadata": {},
   "source": [
    "# Summary Table (soft labels)"
   ]
  },
  {
   "cell_type": "code",
   "execution_count": 19,
   "metadata": {},
   "outputs": [],
   "source": [
    "def my_barplot(labels, values, xlabel=None, color='b', figsize=(7,5)):\n",
    "    \"\"\" Simple barplot. \"\"\"\n",
    "    labels = labels\n",
    "    values = values\n",
    "    fig, ax = plt.subplots(figsize=figsize)\n",
    "    rects = ax.barh(labels, values,\n",
    "                    align='center', height=0.7,\n",
    "                    color=color, edgecolor='k', alpha=0.6)\n",
    "\n",
    "    pos = np.arange(len(labels))\n",
    "    ylabels = [' '.join(s.split('_')) for s in labels]\n",
    "    ax.set_yticks( pos )\n",
    "    ax.set_yticklabels( ylabels )\n",
    "    ax.set_xlabel(xlabel)\n",
    "\n",
    "    for rect in rects:\n",
    "        width = rect.get_width()\n",
    "        width = np.around(width, decimals=2)\n",
    "        align = 'left'\n",
    "\n",
    "        xloc = -40\n",
    "        yloc = rect.get_y() + rect.get_height() / 2  # Center the text vertically in the bar\n",
    "        label = ax.annotate(width,\n",
    "                            xy=(width, yloc),\n",
    "                            xytext=(xloc, 0),           # The position (x,y) to place the text at. If None, defaults to xy.\n",
    "                            textcoords='offset points', # The coordinate system that xytext is given in\n",
    "                            ha=align, va='center',\n",
    "                            color='k', weight='bold', clip_on=True);\n",
    "    return fig, ax"
   ]
  },
  {
   "cell_type": "code",
   "execution_count": 20,
   "metadata": {},
   "outputs": [
    {
     "data": {
      "image/png": "[encoded data removed]",
      "text/plain": [
       "<Figure size 504x360 with 1 Axes>"
      ]
     },
     "metadata": {
      "needs_background": "light"
     },
     "output_type": "display_data"
    }
   ],
   "source": [
    "figsize=(7,5)\n",
    "_, ax = plt.subplots(1,1,figsize=figsize)\n",
    "\n",
    "fn_df = prd_te_all[prd_te_all.prd_cat=='FN']\n",
    "fp_df = prd_te_all[prd_te_all.prd_cat=='FP']\n",
    "\n",
    "ax = sns.distplot(fn_df.y_pred_prob, bins=50, kde=False, ax=ax, color='r', label='FN');\n",
    "ax = sns.distplot(fp_df.y_pred_prob, bins=50, kde=False, ax=ax, label='FP');\n",
    "ax.set_title('Count of FNs ({}) and FPs ({})'.format( fn_df.shape[0], fp_df.shape[0] ))\n",
    "ax.set_ylabel('Count');\n",
    "ax.set_xlabel('Predicted Probability');\n",
    "ax.set_xlim(left=-0.04, right=1.04)\n",
    "ax.grid(True)\n",
    "ax.legend();\n",
    "\n",
    "plt.tight_layout()\n",
    "plt.savefig(out_postproc_fpath/'FNs_FPs_hist_all.png', dpi=150)"
   ]
  },
  {
   "cell_type": "code",
   "execution_count": 21,
   "metadata": {},
   "outputs": [
    {
     "data": {
      "image/png": "[encoded data removed]",
      "text/plain": [
       "<Figure size 432x288 with 2 Axes>"
      ]
     },
     "metadata": {
      "needs_background": "light"
     },
     "output_type": "display_data"
    },
    {
     "data": {
      "image/png": "[encoded data removed]",
      "text/plain": [
       "<Figure size 432x288 with 2 Axes>"
      ]
     },
     "metadata": {
      "needs_background": "light"
     },
     "output_type": "display_data"
    }
   ],
   "source": [
    "y_true_cls = prd_te_all.y_true_cls\n",
    "y_pred_cls = prd_te_all.y_pred_cls\n",
    "\n",
    "# Confusion Matrix\n",
    "conf = confusion_matrix(y_true_cls, y_pred_cls, normalize=None)\n",
    "conf_plot = ConfusionMatrixDisplay(conf, display_labels=['NoResp', 'Resp'])\n",
    "conf_plot.plot(include_values=True, cmap=plt.cm.Blues, ax=None, xticks_rotation=None, values_format='d')\n",
    "plt.tight_layout()\n",
    "plt.savefig(out_postproc_fpath/'conf_matrix_all.png', dpi=150)\n",
    "\n",
    "# Confusion Matrix (normalized)\n",
    "conf = confusion_matrix(y_true_cls, y_pred_cls, normalize='true')\n",
    "conf_plot = ConfusionMatrixDisplay(conf, display_labels=['NoResp', 'Resp'])\n",
    "conf_plot.plot(include_values=True, cmap=plt.cm.Blues, ax=None, xticks_rotation=None, values_format='.5f')\n",
    "conf_plot.ax_.set_title('Normalized');\n",
    "plt.tight_layout()\n",
    "plt.savefig(out_postproc_fpath/'conf_matrix_all_norm.png', dpi=150)"
   ]
  },
  {
   "cell_type": "code",
   "execution_count": 22,
   "metadata": {},
   "outputs": [
    {
     "data": {
      "image/png": "[encoded data removed]",
      "text/plain": [
       "<Figure size 504x360 with 1 Axes>"
      ]
     },
     "metadata": {
      "needs_background": "light"
     },
     "output_type": "display_data"
    }
   ],
   "source": [
    "col = 'prd_cat'\n",
    "\n",
    "figsize=(7,5)\n",
    "_, ax = plt.subplots(1, 1, figsize=figsize)\n",
    "\n",
    "fn_df = prd_te_all[prd_te_all[col]=='FN']\n",
    "fp_df = prd_te_all[prd_te_all[col]=='FP']\n",
    "ax.plot(fn_df.y_pred_prob, fn_df.AUC, '.', color='r', alpha=0.01, label='FN')\n",
    "ax.plot(fp_df.y_pred_prob, fp_df.AUC, '.', color='b', alpha=0.01, label='FP')\n",
    "ax.set_title('FNs ({}) and FPs ({})'.format( fn_df.shape[0], fp_df.shape[0] ))\n",
    "ax.set_xlabel('Predicted Probability');\n",
    "ax.set_ylabel('AUC values')\n",
    "ax.set_xlim(left=-0.03, right=1.03)\n",
    "# ax.legend()\n",
    "\n",
    "plt.tight_layout()\n",
    "plt.savefig(out_postproc_fpath/'FNs_FPs_Prob_vs_AUC_all_single_plot.png', dpi=150)"
   ]
  },
  {
   "cell_type": "code",
   "execution_count": 23,
   "metadata": {},
   "outputs": [
    {
     "data": {
      "image/png": "[encoded data removed]",
      "text/plain": [
       "<Figure size 720x360 with 2 Axes>"
      ]
     },
     "metadata": {
      "needs_background": "light"
     },
     "output_type": "display_data"
    }
   ],
   "source": [
    "col = 'prd_cat'\n",
    "\n",
    "figsize=(10,5)\n",
    "_, ax = plt.subplots(1, 2, figsize=figsize)\n",
    "ax = ax.ravel()\n",
    "\n",
    "fn_df = prd_te_all[prd_te_all[col]=='FN']\n",
    "ax[0].plot(fn_df.y_pred_prob, fn_df.AUC, '.', color='r', alpha=0.01)\n",
    "ax[0].set_title('FNs ({})'.format( fn_df.shape[0] ))\n",
    "ax[0].set_xlabel('Predicted Probability');\n",
    "ax[0].set_ylabel('AUC values')\n",
    "ax[0].set_xlim(left=-0.03, right=0.53)\n",
    "\n",
    "fp_df = prd_te_all[prd_te_all[col]=='FP']\n",
    "ax[1].plot(fp_df.y_pred_prob, fp_df.AUC, '.', color='b', alpha=0.01)\n",
    "ax[1].set_title('FPs ({})'.format( fp_df.shape[0] ))\n",
    "ax[1].set_xlabel('Predicted Probability');\n",
    "ax[1].set_ylabel('AUC values')\n",
    "ax[1].set_xlim(left=0.47, right=1.03)\n",
    "\n",
    "plt.tight_layout()\n",
    "plt.savefig(out_postproc_fpath/'FNs_FPs_Prob_vs_AUC_all.png', dpi=150)"
   ]
  },
  {
   "cell_type": "code",
   "execution_count": 49,
   "metadata": {},
   "outputs": [],
   "source": [
    "# Drop probs\n",
    "margin_drop = 0.15\n",
    "df = prd_te_all[ (prd_te_all.y_pred_prob < margin_drop) | (prd_te_all.y_pred_prob > 1-margin_drop) ]"
   ]
  },
  {
   "cell_type": "code",
   "execution_count": 50,
   "metadata": {},
   "outputs": [
    {
     "data": {
      "image/png": "[encoded data removed]",
      "text/plain": [
       "<Figure size 504x360 with 1 Axes>"
      ]
     },
     "metadata": {
      "needs_background": "light"
     },
     "output_type": "display_data"
    }
   ],
   "source": [
    "figsize=(7,5)\n",
    "_, ax = plt.subplots(1,1,figsize=figsize)\n",
    "\n",
    "fn_df = df[df.prd_cat=='FN']\n",
    "fp_df = df[df.prd_cat=='FP']\n",
    "\n",
    "ax = sns.distplot(fn_df.y_pred_prob, bins=50, kde=False, ax=ax, color='r', label='FN');\n",
    "ax = sns.distplot(fp_df.y_pred_prob, bins=50, kde=False, ax=ax, label='FP');\n",
    "ax.set_title('Count of FNs ({}) and FPs ({})'.format( fn_df.shape[0], fp_df.shape[0] ))\n",
    "ax.set_ylabel('Count');\n",
    "ax.set_xlabel('Predicted Probability');\n",
    "ax.set_xlim(left=-0.04, right=1.04)\n",
    "ax.grid(True)\n",
    "ax.legend();\n",
    "\n",
    "plt.tight_layout()\n",
    "plt.savefig(out_postproc_fpath/'FNs_FPs_hist_margin{}.png'.format(margin_drop), dpi=150)"
   ]
  },
  {
   "cell_type": "code",
   "execution_count": 51,
   "metadata": {},
   "outputs": [
    {
     "data": {
      "image/png": "[encoded data removed]",
      "text/plain": [
       "<Figure size 504x360 with 1 Axes>"
      ]
     },
     "metadata": {
      "needs_background": "light"
     },
     "output_type": "display_data"
    }
   ],
   "source": [
    "col = 'prd_cat'\n",
    "\n",
    "figsize=(7,5)\n",
    "_, ax = plt.subplots(1, 1, figsize=figsize)\n",
    "\n",
    "fn_df = df[df[col]=='FN']\n",
    "fp_df = df[df[col]=='FP']\n",
    "ax.plot(fn_df.y_pred_prob, fn_df.AUC, '.', color='r', alpha=0.01, label='FN')\n",
    "ax.plot(fp_df.y_pred_prob, fp_df.AUC, '.', color='b', alpha=0.01, label='FP')\n",
    "ax.set_title('FNs ({}) and FPs ({})'.format( fn_df.shape[0], fp_df.shape[0] ))\n",
    "ax.set_xlabel('Predicted Probability');\n",
    "ax.set_ylabel('AUC values')\n",
    "ax.set_xlim(left=-0.03, right=1.03)\n",
    "# ax.legend()\n",
    "\n",
    "plt.tight_layout()\n",
    "plt.savefig(out_postproc_fpath/'FNs_FPs_Prob_vs_AUC_{}_single_plot.png'.format(margin_drop), dpi=150)"
   ]
  },
  {
   "cell_type": "code",
   "execution_count": 52,
   "metadata": {},
   "outputs": [
    {
     "data": {
      "image/png": "[encoded data removed]",
      "text/plain": [
       "<Figure size 720x360 with 2 Axes>"
      ]
     },
     "metadata": {
      "needs_background": "light"
     },
     "output_type": "display_data"
    }
   ],
   "source": [
    "col = 'prd_cat'\n",
    "\n",
    "figsize=(10,5)\n",
    "_, ax = plt.subplots(1, 2, figsize=figsize)\n",
    "ax = ax.ravel()\n",
    "\n",
    "fn_df = df[df[col]=='FN']\n",
    "ax[0].plot(fn_df.y_pred_prob, fn_df.AUC, '.', color='r', alpha=0.05)\n",
    "ax[0].set_title('FNs ({})'.format( fn_df.shape[0] ))\n",
    "ax[0].set_xlabel('Predicted Probability');\n",
    "ax[0].set_ylabel('AUC values')\n",
    "ax[0].set_xlim(left=-0.03, right=0.53)\n",
    "\n",
    "fp_df = df[df[col]=='FP']\n",
    "ax[1].plot(fp_df.y_pred_prob, fp_df.AUC, '.', color='b', alpha=0.05)\n",
    "ax[1].set_title('FPs ({})'.format( fp_df.shape[0] ))\n",
    "ax[1].set_xlabel('Predicted Probability');\n",
    "ax[1].set_ylabel('AUC values')\n",
    "ax[1].set_xlim(left=0.47, right=1.03)\n",
    "\n",
    "plt.tight_layout()\n",
    "plt.savefig(out_postproc_fpath/'FNs_FPs_Prob_vs_AUC_{}.png'.format(margin_drop), dpi=150)"
   ]
  },
  {
   "cell_type": "code",
   "execution_count": 36,
   "metadata": {},
   "outputs": [
    {
     "data": {
      "image/png": "[encoded data removed]",
      "text/plain": [
       "<Figure size 504x360 with 1 Axes>"
      ]
     },
     "metadata": {
      "needs_background": "light"
     },
     "output_type": "display_data"
    }
   ],
   "source": [
    "dff = fn_df.groupby('CELL').agg({'idx': len}).sort_values('idx', ascending=False).reset_index()\n",
    "fig, ax = my_barplot(labels=dff['CELL'].values[:10],\n",
    "                     values=dff['idx'].values[:10],\n",
    "                     xlabel='Count of FNs', color='r', figsize=(7,5));\n",
    "plt.tight_layout()\n",
    "plt.savefig(out_postproc_fpath/'FNs_barplot_{}.png'.format(margin_drop), dpi=150)"
   ]
  },
  {
   "cell_type": "code",
   "execution_count": 37,
   "metadata": {},
   "outputs": [
    {
     "data": {
      "image/png": "[encoded data removed]",
      "text/plain": [
       "<Figure size 504x360 with 1 Axes>"
      ]
     },
     "metadata": {
      "needs_background": "light"
     },
     "output_type": "display_data"
    }
   ],
   "source": [
    "dff = fp_df.groupby('CELL').agg({'idx': len}).sort_values('idx', ascending=False).reset_index()\n",
    "fig, ax = my_barplot(labels=dff['CELL'].values[:10],\n",
    "                     values=dff['idx'].values[:10],\n",
    "                     xlabel='Count of FPs', color='b', figsize=(7,5));\n",
    "plt.tight_layout()\n",
    "plt.savefig(out_postproc_fpath/'FPs_barplot_{}.png'.format(margin_drop), dpi=150)"
   ]
  },
  {
   "cell_type": "code",
   "execution_count": null,
   "metadata": {},
   "outputs": [],
   "source": []
  },
  {
   "cell_type": "markdown",
   "metadata": {},
   "source": [
    "# Create summary table"
   ]
  },
  {
   "cell_type": "code",
   "execution_count": 38,
   "metadata": {},
   "outputs": [],
   "source": [
    "# Summary table\n",
    "prd_te_to_grp = prd_te_all.copy()\n",
    "prd_te_to_grp['y_pred_prob_median'] = prd_te_to_grp.y_pred_prob\n",
    "prd_te_to_grp['y_pred_prob_std'] = prd_te_to_grp.y_pred_prob\n",
    "prd_te_to_grp['y_pred_tot'] = prd_te_to_grp.idx\n",
    "prd_te_to_grp['y_pred_cls_0'] = prd_te_to_grp.y_pred_cls.map(lambda x: True if x==0 else False)\n",
    "prd_te_to_grp['y_pred_cls_1'] = prd_te_to_grp.y_pred_cls.map(lambda x: True if x==1 else False)\n",
    "prd_te_to_grp['y_true_unq_vals'] = prd_te_to_grp.y_true_cls"
   ]
  },
  {
   "cell_type": "code",
   "execution_count": null,
   "metadata": {},
   "outputs": [],
   "source": []
  },
  {
   "cell_type": "markdown",
   "metadata": {},
   "source": [
    "# Cell-wise analysis"
   ]
  },
  {
   "cell_type": "code",
   "execution_count": 39,
   "metadata": {},
   "outputs": [],
   "source": [
    "def add_conf_data(data):\n",
    "    \"\"\" Add columns are used to calc confusion matrix TP, TN, FN, FP. \"\"\"\n",
    "    data['TP'] = data.apply(lambda row: row.y_pred_cls_1 if row.y_true_cls==1 else False, axis=1)  # tp\n",
    "    data['TN'] = data.apply(lambda row: row.y_pred_cls_0 if row.y_true_cls==0 else False, axis=1)  # tn\n",
    "    data['FN'] = data.apply(lambda row: row.y_pred_cls_0 if row.y_true_cls==1 else False, axis=1)  # fn\n",
    "    data['FP'] = data.apply(lambda row: row.y_pred_cls_1 if row.y_true_cls==0 else False, axis=1)  # fp\n",
    "    \n",
    "    data['TPR'] = data.apply(lambda row: np.nan if (row.TP==0) & (row.FN==0) else row.TP / (row.TP + row.FN), axis=1)  # sensitivity, recall: TP/P = TP/(TP+FN)\n",
    "    data['TNR'] = data.apply(lambda row: np.nan if (row.TN==0) & (row.FP==0) else row.TN / (row.TN + row.FP), axis=1)  # specificity: TN/N = TN/(TN+FP)\n",
    "    \n",
    "    data['FPR'] = data.apply(lambda row: np.nan if (row.TN==0) & (row.FP==0) else row.FP / (row.TN + row.FP), axis=1)  # fall-out: FP/N = FP/(FP+TN)\n",
    "    data['FNR'] = data.apply(lambda row: np.nan if (row.TP==0) & (row.FN==0) else row.FN / (row.TP + row.FN), axis=1)  # miss-rate: FN/NP = FN/(FN+TP)\n",
    "    return data"
   ]
  },
  {
   "cell_type": "code",
   "execution_count": 40,
   "metadata": {},
   "outputs": [],
   "source": [
    "n_show = 4\n",
    "cols = ['CTYPE', 'CELL', 'DRUG', 'y_pred_prob_median', 'y_pred_tot', 'TP', 'TN', 'FN', 'FP', 'TPR', 'TNR', 'FPR', 'FNR']\n",
    "def print_sorted_grouped_df(df, cols, n_show=4):\n",
    "    print('\\nSorted by FN and FNR')\n",
    "    display( df[cols].sort_values(['FN', 'FNR'], ascending=False)[:n_show].reset_index(drop=True) )\n",
    "\n",
    "    print('\\nSorted by FN and Total Preds')\n",
    "    display( df[cols].sort_values(['FNR', 'y_pred_tot'], ascending=False)[:n_show].reset_index(drop=True) )\n",
    "\n",
    "    print('\\nSorted by FP and FPR')\n",
    "    display( df[cols].sort_values(['FP', 'FPR'], ascending=False)[:n_show].reset_index(drop=True) )\n",
    "\n",
    "    print('\\nSorted by FP and Total Preds')\n",
    "    display( df[cols].sort_values(['FPR', 'y_pred_tot'], ascending=False)[:n_show].reset_index(drop=True) )"
   ]
  },
  {
   "cell_type": "code",
   "execution_count": 41,
   "metadata": {},
   "outputs": [],
   "source": [
    "# Groupby sample (cell)\n",
    "by = 'CELL'\n",
    "sm_cell = prd_te_to_grp.groupby([by, 'y_true_cls']).agg(    \n",
    "    {'DRUG': 'unique',\n",
    "     'CTYPE': 'unique',\n",
    "     'y_true_unq_vals': 'unique',\n",
    "     'y_pred_prob_median': np.median,\n",
    "     'y_pred_prob_std': np.std,\n",
    "     'y_pred_cls_0': lambda x: int(sum(x)),\n",
    "     'y_pred_cls_1': lambda x: int(sum(x)),\n",
    "     'y_pred_tot': lambda x: len(np.unique(x)),\n",
    "     }).reset_index().sort_values(by, ascending=True)\n",
    "\n",
    "sm_cell['y_true_unq_vals'] = sm_cell.y_true_unq_vals.map(lambda x: len(x) if type(x)==np.ndarray else 1)\n",
    "sm_cell = add_conf_data(sm_cell)"
   ]
  },
  {
   "cell_type": "code",
   "execution_count": 42,
   "metadata": {},
   "outputs": [
    {
     "name": "stdout",
     "output_type": "stream",
     "text": [
      "\n",
      "Sorted by FN and FNR\n"
     ]
    },
    {
     "data": {
      "text/html": [
       "<div>\n",
       "<style scoped>\n",
       "    .dataframe tbody tr th:only-of-type {\n",
       "        vertical-align: middle;\n",
       "    }\n",
       "\n",
       "    .dataframe tbody tr th {\n",
       "        vertical-align: top;\n",
       "    }\n",
       "\n",
       "    .dataframe thead th {\n",
       "        text-align: right;\n",
       "    }\n",
       "</style>\n",
       "<table border=\"1\" class=\"dataframe\">\n",
       "  <thead>\n",
       "    <tr style=\"text-align: right;\">\n",
       "      <th></th>\n",
       "      <th>CTYPE</th>\n",
       "      <th>CELL</th>\n",
       "      <th>DRUG</th>\n",
       "      <th>y_pred_prob_median</th>\n",
       "      <th>y_pred_tot</th>\n",
       "      <th>TP</th>\n",
       "      <th>TN</th>\n",
       "      <th>FN</th>\n",
       "      <th>FP</th>\n",
       "      <th>TPR</th>\n",
       "      <th>TNR</th>\n",
       "      <th>FPR</th>\n",
       "      <th>FNR</th>\n",
       "    </tr>\n",
       "  </thead>\n",
       "  <tbody>\n",
       "    <tr>\n",
       "      <th>0</th>\n",
       "      <td>[Kidney_Renal_Clear_Cell_Carcinoma]</td>\n",
       "      <td>NCI60.A498</td>\n",
       "      <td>[NSC.771751, NSC.784815, NSC.762521, NSC.75577...</td>\n",
       "      <td>0.159765</td>\n",
       "      <td>327</td>\n",
       "      <td>63</td>\n",
       "      <td>False</td>\n",
       "      <td>264</td>\n",
       "      <td>False</td>\n",
       "      <td>0.192661</td>\n",
       "      <td>NaN</td>\n",
       "      <td>NaN</td>\n",
       "      <td>0.807339</td>\n",
       "    </tr>\n",
       "    <tr>\n",
       "      <th>1</th>\n",
       "      <td>[Lymphoid_Leukemia]</td>\n",
       "      <td>GDSC.SR</td>\n",
       "      <td>[GDSC.273, GDSC.182, GDSC.1007, GDSC.299, GDSC...</td>\n",
       "      <td>0.285866</td>\n",
       "      <td>300</td>\n",
       "      <td>106</td>\n",
       "      <td>False</td>\n",
       "      <td>194</td>\n",
       "      <td>False</td>\n",
       "      <td>0.353333</td>\n",
       "      <td>NaN</td>\n",
       "      <td>NaN</td>\n",
       "      <td>0.646667</td>\n",
       "    </tr>\n",
       "    <tr>\n",
       "      <th>2</th>\n",
       "      <td>[Lymphoid_Leukemia]</td>\n",
       "      <td>CTRP.SEM</td>\n",
       "      <td>[CTRP.441, CTRP.247, CTRP.10, CTRP.299, CTRP.3...</td>\n",
       "      <td>0.604302</td>\n",
       "      <td>429</td>\n",
       "      <td>240</td>\n",
       "      <td>False</td>\n",
       "      <td>189</td>\n",
       "      <td>False</td>\n",
       "      <td>0.559441</td>\n",
       "      <td>NaN</td>\n",
       "      <td>NaN</td>\n",
       "      <td>0.440559</td>\n",
       "    </tr>\n",
       "    <tr>\n",
       "      <th>3</th>\n",
       "      <td>[Colon_Adenocarcinoma]</td>\n",
       "      <td>NCI60.COLO205</td>\n",
       "      <td>[NSC.747973, NSC.761691, NSC.757149, NSC.75598...</td>\n",
       "      <td>0.117694</td>\n",
       "      <td>225</td>\n",
       "      <td>63</td>\n",
       "      <td>False</td>\n",
       "      <td>162</td>\n",
       "      <td>False</td>\n",
       "      <td>0.280000</td>\n",
       "      <td>NaN</td>\n",
       "      <td>NaN</td>\n",
       "      <td>0.720000</td>\n",
       "    </tr>\n",
       "  </tbody>\n",
       "</table>\n",
       "</div>"
      ],
      "text/plain": [
       "                                 CTYPE           CELL  \\\n",
       "0  [Kidney_Renal_Clear_Cell_Carcinoma]     NCI60.A498   \n",
       "1                  [Lymphoid_Leukemia]        GDSC.SR   \n",
       "2                  [Lymphoid_Leukemia]       CTRP.SEM   \n",
       "3               [Colon_Adenocarcinoma]  NCI60.COLO205   \n",
       "\n",
       "                                                DRUG  y_pred_prob_median  \\\n",
       "0  [NSC.771751, NSC.784815, NSC.762521, NSC.75577...            0.159765   \n",
       "1  [GDSC.273, GDSC.182, GDSC.1007, GDSC.299, GDSC...            0.285866   \n",
       "2  [CTRP.441, CTRP.247, CTRP.10, CTRP.299, CTRP.3...            0.604302   \n",
       "3  [NSC.747973, NSC.761691, NSC.757149, NSC.75598...            0.117694   \n",
       "\n",
       "   y_pred_tot   TP     TN   FN     FP       TPR  TNR  FPR       FNR  \n",
       "0         327   63  False  264  False  0.192661  NaN  NaN  0.807339  \n",
       "1         300  106  False  194  False  0.353333  NaN  NaN  0.646667  \n",
       "2         429  240  False  189  False  0.559441  NaN  NaN  0.440559  \n",
       "3         225   63  False  162  False  0.280000  NaN  NaN  0.720000  "
      ]
     },
     "metadata": {},
     "output_type": "display_data"
    }
   ],
   "source": [
    "n_show = 4\n",
    "cols = ['CTYPE', 'CELL', 'DRUG', 'y_pred_prob_median', 'y_pred_tot', 'TP', 'TN', 'FN', 'FP', 'TPR', 'TNR', 'FPR', 'FNR']\n",
    "print('\\nSorted by FN and FNR')\n",
    "display( sm_cell[cols].sort_values(['FN', 'FNR'], ascending=False)[:n_show].reset_index(drop=True) )"
   ]
  },
  {
   "cell_type": "code",
   "execution_count": 43,
   "metadata": {},
   "outputs": [
    {
     "name": "stdout",
     "output_type": "stream",
     "text": [
      "\n",
      "Sorted by FNR and Total Preds\n"
     ]
    },
    {
     "data": {
      "text/html": [
       "<div>\n",
       "<style scoped>\n",
       "    .dataframe tbody tr th:only-of-type {\n",
       "        vertical-align: middle;\n",
       "    }\n",
       "\n",
       "    .dataframe tbody tr th {\n",
       "        vertical-align: top;\n",
       "    }\n",
       "\n",
       "    .dataframe thead th {\n",
       "        text-align: right;\n",
       "    }\n",
       "</style>\n",
       "<table border=\"1\" class=\"dataframe\">\n",
       "  <thead>\n",
       "    <tr style=\"text-align: right;\">\n",
       "      <th></th>\n",
       "      <th>CTYPE</th>\n",
       "      <th>CELL</th>\n",
       "      <th>DRUG</th>\n",
       "      <th>y_pred_prob_median</th>\n",
       "      <th>y_pred_tot</th>\n",
       "      <th>TP</th>\n",
       "      <th>TN</th>\n",
       "      <th>FN</th>\n",
       "      <th>FP</th>\n",
       "      <th>TPR</th>\n",
       "      <th>TNR</th>\n",
       "      <th>FPR</th>\n",
       "      <th>FNR</th>\n",
       "    </tr>\n",
       "  </thead>\n",
       "  <tbody>\n",
       "    <tr>\n",
       "      <th>0</th>\n",
       "      <td>[Breast_Invasive_Carcinoma]</td>\n",
       "      <td>CTRP.HCC2218</td>\n",
       "      <td>[CTRP.184, CTRP.386, CTRP.307]</td>\n",
       "      <td>0.006816</td>\n",
       "      <td>32</td>\n",
       "      <td>0</td>\n",
       "      <td>False</td>\n",
       "      <td>32</td>\n",
       "      <td>False</td>\n",
       "      <td>0.0</td>\n",
       "      <td>NaN</td>\n",
       "      <td>NaN</td>\n",
       "      <td>1.0</td>\n",
       "    </tr>\n",
       "    <tr>\n",
       "      <th>1</th>\n",
       "      <td>[Lung_Adenocarcinoma]</td>\n",
       "      <td>GDSC.NCI-H2405</td>\n",
       "      <td>[GDSC.194, GDSC.200, GDSC.180]</td>\n",
       "      <td>0.344507</td>\n",
       "      <td>31</td>\n",
       "      <td>0</td>\n",
       "      <td>False</td>\n",
       "      <td>31</td>\n",
       "      <td>False</td>\n",
       "      <td>0.0</td>\n",
       "      <td>NaN</td>\n",
       "      <td>NaN</td>\n",
       "      <td>1.0</td>\n",
       "    </tr>\n",
       "    <tr>\n",
       "      <th>2</th>\n",
       "      <td>[Kidney_Renal_Clear_Cell_Carcinoma]</td>\n",
       "      <td>NCI60.TK-10</td>\n",
       "      <td>[NSC.700893, NSC.764334, NSC.773095]</td>\n",
       "      <td>0.125553</td>\n",
       "      <td>31</td>\n",
       "      <td>0</td>\n",
       "      <td>False</td>\n",
       "      <td>31</td>\n",
       "      <td>False</td>\n",
       "      <td>0.0</td>\n",
       "      <td>NaN</td>\n",
       "      <td>NaN</td>\n",
       "      <td>1.0</td>\n",
       "    </tr>\n",
       "    <tr>\n",
       "      <th>3</th>\n",
       "      <td>[Lung_Adenocarcinoma]</td>\n",
       "      <td>CTRP.NCI-H1755</td>\n",
       "      <td>[CTRP.213, CTRP.203, CTRP.519, CTRP.413]</td>\n",
       "      <td>0.045387</td>\n",
       "      <td>30</td>\n",
       "      <td>0</td>\n",
       "      <td>False</td>\n",
       "      <td>30</td>\n",
       "      <td>False</td>\n",
       "      <td>0.0</td>\n",
       "      <td>NaN</td>\n",
       "      <td>NaN</td>\n",
       "      <td>1.0</td>\n",
       "    </tr>\n",
       "  </tbody>\n",
       "</table>\n",
       "</div>"
      ],
      "text/plain": [
       "                                 CTYPE            CELL  \\\n",
       "0          [Breast_Invasive_Carcinoma]    CTRP.HCC2218   \n",
       "1                [Lung_Adenocarcinoma]  GDSC.NCI-H2405   \n",
       "2  [Kidney_Renal_Clear_Cell_Carcinoma]     NCI60.TK-10   \n",
       "3                [Lung_Adenocarcinoma]  CTRP.NCI-H1755   \n",
       "\n",
       "                                       DRUG  y_pred_prob_median  y_pred_tot  \\\n",
       "0            [CTRP.184, CTRP.386, CTRP.307]            0.006816          32   \n",
       "1            [GDSC.194, GDSC.200, GDSC.180]            0.344507          31   \n",
       "2      [NSC.700893, NSC.764334, NSC.773095]            0.125553          31   \n",
       "3  [CTRP.213, CTRP.203, CTRP.519, CTRP.413]            0.045387          30   \n",
       "\n",
       "  TP     TN  FN     FP  TPR  TNR  FPR  FNR  \n",
       "0  0  False  32  False  0.0  NaN  NaN  1.0  \n",
       "1  0  False  31  False  0.0  NaN  NaN  1.0  \n",
       "2  0  False  31  False  0.0  NaN  NaN  1.0  \n",
       "3  0  False  30  False  0.0  NaN  NaN  1.0  "
      ]
     },
     "metadata": {},
     "output_type": "display_data"
    }
   ],
   "source": [
    "print('\\nSorted by FNR and Total Preds')\n",
    "display( sm_cell[cols].sort_values(['FNR', 'y_pred_tot'], ascending=False)[:n_show].reset_index(drop=True) )"
   ]
  },
  {
   "cell_type": "code",
   "execution_count": 44,
   "metadata": {},
   "outputs": [
    {
     "name": "stdout",
     "output_type": "stream",
     "text": [
      "\n",
      "Sorted by FP and FPR\n"
     ]
    },
    {
     "data": {
      "text/html": [
       "<div>\n",
       "<style scoped>\n",
       "    .dataframe tbody tr th:only-of-type {\n",
       "        vertical-align: middle;\n",
       "    }\n",
       "\n",
       "    .dataframe tbody tr th {\n",
       "        vertical-align: top;\n",
       "    }\n",
       "\n",
       "    .dataframe thead th {\n",
       "        text-align: right;\n",
       "    }\n",
       "</style>\n",
       "<table border=\"1\" class=\"dataframe\">\n",
       "  <thead>\n",
       "    <tr style=\"text-align: right;\">\n",
       "      <th></th>\n",
       "      <th>CTYPE</th>\n",
       "      <th>CELL</th>\n",
       "      <th>DRUG</th>\n",
       "      <th>y_pred_prob_median</th>\n",
       "      <th>y_pred_tot</th>\n",
       "      <th>TP</th>\n",
       "      <th>TN</th>\n",
       "      <th>FN</th>\n",
       "      <th>FP</th>\n",
       "      <th>TPR</th>\n",
       "      <th>TNR</th>\n",
       "      <th>FPR</th>\n",
       "      <th>FNR</th>\n",
       "    </tr>\n",
       "  </thead>\n",
       "  <tbody>\n",
       "    <tr>\n",
       "      <th>0</th>\n",
       "      <td>[Lymphoid_Neoplasm_Diffuse_Large_B-cell_Lymphoma]</td>\n",
       "      <td>GDSC.GRANTA-519</td>\n",
       "      <td>[GDSC.291, GDSC.1161, GDSC.1024, GDSC.151, GDS...</td>\n",
       "      <td>0.007424</td>\n",
       "      <td>937</td>\n",
       "      <td>False</td>\n",
       "      <td>826</td>\n",
       "      <td>False</td>\n",
       "      <td>111</td>\n",
       "      <td>NaN</td>\n",
       "      <td>0.881537</td>\n",
       "      <td>0.118463</td>\n",
       "      <td>NaN</td>\n",
       "    </tr>\n",
       "    <tr>\n",
       "      <th>1</th>\n",
       "      <td>[Lymphoid_Leukemia]</td>\n",
       "      <td>CTRP.BL-70</td>\n",
       "      <td>[CTRP.416, CTRP.331, CTRP.404, CTRP.116, CTRP....</td>\n",
       "      <td>0.006641</td>\n",
       "      <td>2407</td>\n",
       "      <td>False</td>\n",
       "      <td>2302</td>\n",
       "      <td>False</td>\n",
       "      <td>105</td>\n",
       "      <td>NaN</td>\n",
       "      <td>0.956377</td>\n",
       "      <td>0.043623</td>\n",
       "      <td>NaN</td>\n",
       "    </tr>\n",
       "    <tr>\n",
       "      <th>2</th>\n",
       "      <td>[Lymphoid_Leukemia]</td>\n",
       "      <td>CTRP.SEM</td>\n",
       "      <td>[CTRP.270, CTRP.448, CTRP.514, CTRP.190, CTRP....</td>\n",
       "      <td>0.008303</td>\n",
       "      <td>2708</td>\n",
       "      <td>False</td>\n",
       "      <td>2613</td>\n",
       "      <td>False</td>\n",
       "      <td>95</td>\n",
       "      <td>NaN</td>\n",
       "      <td>0.964919</td>\n",
       "      <td>0.035081</td>\n",
       "      <td>NaN</td>\n",
       "    </tr>\n",
       "    <tr>\n",
       "      <th>3</th>\n",
       "      <td>[Kidney_Renal_Clear_Cell_Carcinoma]</td>\n",
       "      <td>NCI60.A498</td>\n",
       "      <td>[NSC.765262, NSC.17777, NSC.754364, NSC.755767...</td>\n",
       "      <td>0.004314</td>\n",
       "      <td>6838</td>\n",
       "      <td>False</td>\n",
       "      <td>6751</td>\n",
       "      <td>False</td>\n",
       "      <td>87</td>\n",
       "      <td>NaN</td>\n",
       "      <td>0.987277</td>\n",
       "      <td>0.012723</td>\n",
       "      <td>NaN</td>\n",
       "    </tr>\n",
       "  </tbody>\n",
       "</table>\n",
       "</div>"
      ],
      "text/plain": [
       "                                               CTYPE             CELL  \\\n",
       "0  [Lymphoid_Neoplasm_Diffuse_Large_B-cell_Lymphoma]  GDSC.GRANTA-519   \n",
       "1                                [Lymphoid_Leukemia]       CTRP.BL-70   \n",
       "2                                [Lymphoid_Leukemia]         CTRP.SEM   \n",
       "3                [Kidney_Renal_Clear_Cell_Carcinoma]       NCI60.A498   \n",
       "\n",
       "                                                DRUG  y_pred_prob_median  \\\n",
       "0  [GDSC.291, GDSC.1161, GDSC.1024, GDSC.151, GDS...            0.007424   \n",
       "1  [CTRP.416, CTRP.331, CTRP.404, CTRP.116, CTRP....            0.006641   \n",
       "2  [CTRP.270, CTRP.448, CTRP.514, CTRP.190, CTRP....            0.008303   \n",
       "3  [NSC.765262, NSC.17777, NSC.754364, NSC.755767...            0.004314   \n",
       "\n",
       "   y_pred_tot     TP    TN     FN   FP  TPR       TNR       FPR  FNR  \n",
       "0         937  False   826  False  111  NaN  0.881537  0.118463  NaN  \n",
       "1        2407  False  2302  False  105  NaN  0.956377  0.043623  NaN  \n",
       "2        2708  False  2613  False   95  NaN  0.964919  0.035081  NaN  \n",
       "3        6838  False  6751  False   87  NaN  0.987277  0.012723  NaN  "
      ]
     },
     "metadata": {},
     "output_type": "display_data"
    }
   ],
   "source": [
    "print('\\nSorted by FP and FPR')\n",
    "display( sm_cell[cols].sort_values(['FP', 'FPR'], ascending=False)[:n_show].reset_index(drop=True) )"
   ]
  },
  {
   "cell_type": "code",
   "execution_count": 45,
   "metadata": {},
   "outputs": [
    {
     "name": "stdout",
     "output_type": "stream",
     "text": [
      "\n",
      "Sorted by FP and Total Preds\n"
     ]
    },
    {
     "data": {
      "text/html": [
       "<div>\n",
       "<style scoped>\n",
       "    .dataframe tbody tr th:only-of-type {\n",
       "        vertical-align: middle;\n",
       "    }\n",
       "\n",
       "    .dataframe tbody tr th {\n",
       "        vertical-align: top;\n",
       "    }\n",
       "\n",
       "    .dataframe thead th {\n",
       "        text-align: right;\n",
       "    }\n",
       "</style>\n",
       "<table border=\"1\" class=\"dataframe\">\n",
       "  <thead>\n",
       "    <tr style=\"text-align: right;\">\n",
       "      <th></th>\n",
       "      <th>CTYPE</th>\n",
       "      <th>CELL</th>\n",
       "      <th>DRUG</th>\n",
       "      <th>y_pred_prob_median</th>\n",
       "      <th>y_pred_tot</th>\n",
       "      <th>TP</th>\n",
       "      <th>TN</th>\n",
       "      <th>FN</th>\n",
       "      <th>FP</th>\n",
       "      <th>TPR</th>\n",
       "      <th>TNR</th>\n",
       "      <th>FPR</th>\n",
       "      <th>FNR</th>\n",
       "    </tr>\n",
       "  </thead>\n",
       "  <tbody>\n",
       "    <tr>\n",
       "      <th>0</th>\n",
       "      <td>[Lymphoid_Neoplasm_Diffuse_Large_B-cell_Lymphoma]</td>\n",
       "      <td>gCSI.SU-DHL-10</td>\n",
       "      <td>[gCSI.15]</td>\n",
       "      <td>0.876694</td>\n",
       "      <td>14</td>\n",
       "      <td>False</td>\n",
       "      <td>0</td>\n",
       "      <td>False</td>\n",
       "      <td>14</td>\n",
       "      <td>NaN</td>\n",
       "      <td>0.0</td>\n",
       "      <td>1.0</td>\n",
       "      <td>NaN</td>\n",
       "    </tr>\n",
       "    <tr>\n",
       "      <th>1</th>\n",
       "      <td>[Glioblastoma_Multiforme]</td>\n",
       "      <td>gCSI.LN-18</td>\n",
       "      <td>[gCSI.13]</td>\n",
       "      <td>0.640766</td>\n",
       "      <td>12</td>\n",
       "      <td>False</td>\n",
       "      <td>0</td>\n",
       "      <td>False</td>\n",
       "      <td>12</td>\n",
       "      <td>NaN</td>\n",
       "      <td>0.0</td>\n",
       "      <td>1.0</td>\n",
       "      <td>NaN</td>\n",
       "    </tr>\n",
       "    <tr>\n",
       "      <th>2</th>\n",
       "      <td>[Colon_Adenocarcinoma]</td>\n",
       "      <td>gCSI.HCT-116</td>\n",
       "      <td>[gCSI.4]</td>\n",
       "      <td>0.654033</td>\n",
       "      <td>10</td>\n",
       "      <td>False</td>\n",
       "      <td>0</td>\n",
       "      <td>False</td>\n",
       "      <td>10</td>\n",
       "      <td>NaN</td>\n",
       "      <td>0.0</td>\n",
       "      <td>1.0</td>\n",
       "      <td>NaN</td>\n",
       "    </tr>\n",
       "    <tr>\n",
       "      <th>3</th>\n",
       "      <td>[Lymphoid_Leukemia]</td>\n",
       "      <td>gCSI.KE-97</td>\n",
       "      <td>[gCSI.15]</td>\n",
       "      <td>0.893602</td>\n",
       "      <td>9</td>\n",
       "      <td>False</td>\n",
       "      <td>0</td>\n",
       "      <td>False</td>\n",
       "      <td>9</td>\n",
       "      <td>NaN</td>\n",
       "      <td>0.0</td>\n",
       "      <td>1.0</td>\n",
       "      <td>NaN</td>\n",
       "    </tr>\n",
       "  </tbody>\n",
       "</table>\n",
       "</div>"
      ],
      "text/plain": [
       "                                               CTYPE            CELL  \\\n",
       "0  [Lymphoid_Neoplasm_Diffuse_Large_B-cell_Lymphoma]  gCSI.SU-DHL-10   \n",
       "1                          [Glioblastoma_Multiforme]      gCSI.LN-18   \n",
       "2                             [Colon_Adenocarcinoma]    gCSI.HCT-116   \n",
       "3                                [Lymphoid_Leukemia]      gCSI.KE-97   \n",
       "\n",
       "        DRUG  y_pred_prob_median  y_pred_tot     TP TN     FN  FP  TPR  TNR  \\\n",
       "0  [gCSI.15]            0.876694          14  False  0  False  14  NaN  0.0   \n",
       "1  [gCSI.13]            0.640766          12  False  0  False  12  NaN  0.0   \n",
       "2   [gCSI.4]            0.654033          10  False  0  False  10  NaN  0.0   \n",
       "3  [gCSI.15]            0.893602           9  False  0  False   9  NaN  0.0   \n",
       "\n",
       "   FPR  FNR  \n",
       "0  1.0  NaN  \n",
       "1  1.0  NaN  \n",
       "2  1.0  NaN  \n",
       "3  1.0  NaN  "
      ]
     },
     "metadata": {},
     "output_type": "display_data"
    }
   ],
   "source": [
    "print('\\nSorted by FP and Total Preds')\n",
    "display( sm_cell[cols].sort_values(['FPR', 'y_pred_tot'], ascending=False)[:n_show].reset_index(drop=True) )"
   ]
  },
  {
   "cell_type": "code",
   "execution_count": null,
   "metadata": {},
   "outputs": [],
   "source": []
  },
  {
   "cell_type": "markdown",
   "metadata": {},
   "source": [
    "# Cancer-wise analysis"
   ]
  },
  {
   "cell_type": "code",
   "execution_count": 61,
   "metadata": {},
   "outputs": [],
   "source": [
    "# Groupby Cancer type\n",
    "by = 'CTYPE'\n",
    "sm_ctype = prd_te_to_grp.groupby([by, 'y_true_cls']).agg(    \n",
    "    {'DRUG': 'unique',\n",
    "     'CELL': 'unique',\n",
    "     'y_true_unq_vals': 'unique',\n",
    "     'y_pred_prob_median': np.median,\n",
    "     'y_pred_prob_std': np.std,\n",
    "     'y_pred_cls_0': lambda x: int(sum(x)),\n",
    "     'y_pred_cls_1': lambda x: int(sum(x)),\n",
    "     'y_pred_tot': lambda x: len(np.unique(x)),\n",
    "     }).reset_index().sort_values(by, ascending=True)\n",
    "\n",
    "sm_ctype['y_true_unq_vals'] = sm_ctype.y_true_unq_vals.map(lambda x: len(x) if type(x)==np.ndarray else 1)\n",
    "sm_ctype = add_conf_data(sm_ctype)\n",
    "# display(sm_ctype[:2])"
   ]
  },
  {
   "cell_type": "code",
   "execution_count": 62,
   "metadata": {},
   "outputs": [],
   "source": [
    "# Print sorted\n",
    "# print_sorted_grouped_df(sm_ctype, cols=cols, n_show=2)"
   ]
  },
  {
   "cell_type": "code",
   "execution_count": 63,
   "metadata": {},
   "outputs": [
    {
     "name": "stdout",
     "output_type": "stream",
     "text": [
      "\n",
      "Sorted by FN and FNR\n"
     ]
    },
    {
     "data": {
      "text/html": [
       "<div>\n",
       "<style scoped>\n",
       "    .dataframe tbody tr th:only-of-type {\n",
       "        vertical-align: middle;\n",
       "    }\n",
       "\n",
       "    .dataframe tbody tr th {\n",
       "        vertical-align: top;\n",
       "    }\n",
       "\n",
       "    .dataframe thead th {\n",
       "        text-align: right;\n",
       "    }\n",
       "</style>\n",
       "<table border=\"1\" class=\"dataframe\">\n",
       "  <thead>\n",
       "    <tr style=\"text-align: right;\">\n",
       "      <th></th>\n",
       "      <th>CTYPE</th>\n",
       "      <th>CELL</th>\n",
       "      <th>DRUG</th>\n",
       "      <th>y_pred_prob_median</th>\n",
       "      <th>y_pred_tot</th>\n",
       "      <th>TP</th>\n",
       "      <th>TN</th>\n",
       "      <th>FN</th>\n",
       "      <th>FP</th>\n",
       "      <th>TPR</th>\n",
       "      <th>TNR</th>\n",
       "      <th>FPR</th>\n",
       "      <th>FNR</th>\n",
       "    </tr>\n",
       "  </thead>\n",
       "  <tbody>\n",
       "    <tr>\n",
       "      <th>0</th>\n",
       "      <td>Lymphoid_Leukemia</td>\n",
       "      <td>[CTRP.P3HR-1, CTRP.SR-786, GDSC.BL-41, CTRP.Ra...</td>\n",
       "      <td>[CTRP.254, CTRP.221, CTRP.165, CTRP.43, CTRP.1...</td>\n",
       "      <td>0.699162</td>\n",
       "      <td>15025</td>\n",
       "      <td>10149</td>\n",
       "      <td>False</td>\n",
       "      <td>4876</td>\n",
       "      <td>False</td>\n",
       "      <td>0.675474</td>\n",
       "      <td>NaN</td>\n",
       "      <td>NaN</td>\n",
       "      <td>0.324526</td>\n",
       "    </tr>\n",
       "    <tr>\n",
       "      <th>1</th>\n",
       "      <td>Lung_Adenocarcinoma</td>\n",
       "      <td>[GDSC.HCC-78, CTRP.A549, CTRP.NCI-H2405, NCI60...</td>\n",
       "      <td>[GDSC.200, GDSC.283, CTRP.235, CTRP.542, CTRP....</td>\n",
       "      <td>0.499760</td>\n",
       "      <td>7032</td>\n",
       "      <td>3512</td>\n",
       "      <td>False</td>\n",
       "      <td>3520</td>\n",
       "      <td>False</td>\n",
       "      <td>0.499431</td>\n",
       "      <td>NaN</td>\n",
       "      <td>NaN</td>\n",
       "      <td>0.500569</td>\n",
       "    </tr>\n",
       "  </tbody>\n",
       "</table>\n",
       "</div>"
      ],
      "text/plain": [
       "                 CTYPE                                               CELL  \\\n",
       "0    Lymphoid_Leukemia  [CTRP.P3HR-1, CTRP.SR-786, GDSC.BL-41, CTRP.Ra...   \n",
       "1  Lung_Adenocarcinoma  [GDSC.HCC-78, CTRP.A549, CTRP.NCI-H2405, NCI60...   \n",
       "\n",
       "                                                DRUG  y_pred_prob_median  \\\n",
       "0  [CTRP.254, CTRP.221, CTRP.165, CTRP.43, CTRP.1...            0.699162   \n",
       "1  [GDSC.200, GDSC.283, CTRP.235, CTRP.542, CTRP....            0.499760   \n",
       "\n",
       "   y_pred_tot     TP     TN    FN     FP       TPR  TNR  FPR       FNR  \n",
       "0       15025  10149  False  4876  False  0.675474  NaN  NaN  0.324526  \n",
       "1        7032   3512  False  3520  False  0.499431  NaN  NaN  0.500569  "
      ]
     },
     "metadata": {},
     "output_type": "display_data"
    }
   ],
   "source": [
    "n_show = 2\n",
    "cols = ['CTYPE', 'CELL', 'DRUG', 'y_pred_prob_median', 'y_pred_tot', 'TP', 'TN', 'FN', 'FP', 'TPR', 'TNR', 'FPR', 'FNR']\n",
    "print('\\nSorted by FN and FNR')\n",
    "display( sm_ctype[cols].sort_values(['FN', 'FNR'], ascending=False)[:n_show].reset_index(drop=True) )"
   ]
  },
  {
   "cell_type": "code",
   "execution_count": 64,
   "metadata": {},
   "outputs": [
    {
     "name": "stdout",
     "output_type": "stream",
     "text": [
      "\n",
      "Sorted by FN and Total Preds\n"
     ]
    },
    {
     "data": {
      "text/html": [
       "<div>\n",
       "<style scoped>\n",
       "    .dataframe tbody tr th:only-of-type {\n",
       "        vertical-align: middle;\n",
       "    }\n",
       "\n",
       "    .dataframe tbody tr th {\n",
       "        vertical-align: top;\n",
       "    }\n",
       "\n",
       "    .dataframe thead th {\n",
       "        text-align: right;\n",
       "    }\n",
       "</style>\n",
       "<table border=\"1\" class=\"dataframe\">\n",
       "  <thead>\n",
       "    <tr style=\"text-align: right;\">\n",
       "      <th></th>\n",
       "      <th>CTYPE</th>\n",
       "      <th>CELL</th>\n",
       "      <th>DRUG</th>\n",
       "      <th>y_pred_prob_median</th>\n",
       "      <th>y_pred_tot</th>\n",
       "      <th>TP</th>\n",
       "      <th>TN</th>\n",
       "      <th>FN</th>\n",
       "      <th>FP</th>\n",
       "      <th>TPR</th>\n",
       "      <th>TNR</th>\n",
       "      <th>FPR</th>\n",
       "      <th>FNR</th>\n",
       "    </tr>\n",
       "  </thead>\n",
       "  <tbody>\n",
       "    <tr>\n",
       "      <th>0</th>\n",
       "      <td>Kidney_Renal_Clear_Cell_Carcinoma</td>\n",
       "      <td>[CTRP.VMRC-RCZ, GDSC.RXF393, CTRP.BFTC-909, NC...</td>\n",
       "      <td>[CTRP.157, CTRP.542, GDSC.51, GDSC.283, GDSC.2...</td>\n",
       "      <td>0.310184</td>\n",
       "      <td>2271</td>\n",
       "      <td>563</td>\n",
       "      <td>False</td>\n",
       "      <td>1708</td>\n",
       "      <td>False</td>\n",
       "      <td>0.247908</td>\n",
       "      <td>NaN</td>\n",
       "      <td>NaN</td>\n",
       "      <td>0.752092</td>\n",
       "    </tr>\n",
       "    <tr>\n",
       "      <th>1</th>\n",
       "      <td>Ovarian_Serous_Cystadenocarcinoma</td>\n",
       "      <td>[CTRP.IGROV-1, NCI60.OVCAR-5, CTRP.OV7, NCI60....</td>\n",
       "      <td>[CTRP.3, CTRP.157, NSC.771751, NSC.747973, CTR...</td>\n",
       "      <td>0.411082</td>\n",
       "      <td>2568</td>\n",
       "      <td>1009</td>\n",
       "      <td>False</td>\n",
       "      <td>1559</td>\n",
       "      <td>False</td>\n",
       "      <td>0.392913</td>\n",
       "      <td>NaN</td>\n",
       "      <td>NaN</td>\n",
       "      <td>0.607087</td>\n",
       "    </tr>\n",
       "  </tbody>\n",
       "</table>\n",
       "</div>"
      ],
      "text/plain": [
       "                               CTYPE  \\\n",
       "0  Kidney_Renal_Clear_Cell_Carcinoma   \n",
       "1  Ovarian_Serous_Cystadenocarcinoma   \n",
       "\n",
       "                                                CELL  \\\n",
       "0  [CTRP.VMRC-RCZ, GDSC.RXF393, CTRP.BFTC-909, NC...   \n",
       "1  [CTRP.IGROV-1, NCI60.OVCAR-5, CTRP.OV7, NCI60....   \n",
       "\n",
       "                                                DRUG  y_pred_prob_median  \\\n",
       "0  [CTRP.157, CTRP.542, GDSC.51, GDSC.283, GDSC.2...            0.310184   \n",
       "1  [CTRP.3, CTRP.157, NSC.771751, NSC.747973, CTR...            0.411082   \n",
       "\n",
       "   y_pred_tot    TP     TN    FN     FP       TPR  TNR  FPR       FNR  \n",
       "0        2271   563  False  1708  False  0.247908  NaN  NaN  0.752092  \n",
       "1        2568  1009  False  1559  False  0.392913  NaN  NaN  0.607087  "
      ]
     },
     "metadata": {},
     "output_type": "display_data"
    }
   ],
   "source": [
    "print('\\nSorted by FN and Total Preds')\n",
    "display( sm_ctype[cols].sort_values(['FNR', 'y_pred_tot'], ascending=False)[:n_show].reset_index(drop=True) )"
   ]
  },
  {
   "cell_type": "code",
   "execution_count": 65,
   "metadata": {},
   "outputs": [
    {
     "name": "stdout",
     "output_type": "stream",
     "text": [
      "\n",
      "Sorted by FP and FPR\n"
     ]
    },
    {
     "data": {
      "text/html": [
       "<div>\n",
       "<style scoped>\n",
       "    .dataframe tbody tr th:only-of-type {\n",
       "        vertical-align: middle;\n",
       "    }\n",
       "\n",
       "    .dataframe tbody tr th {\n",
       "        vertical-align: top;\n",
       "    }\n",
       "\n",
       "    .dataframe thead th {\n",
       "        text-align: right;\n",
       "    }\n",
       "</style>\n",
       "<table border=\"1\" class=\"dataframe\">\n",
       "  <thead>\n",
       "    <tr style=\"text-align: right;\">\n",
       "      <th></th>\n",
       "      <th>CTYPE</th>\n",
       "      <th>CELL</th>\n",
       "      <th>DRUG</th>\n",
       "      <th>y_pred_prob_median</th>\n",
       "      <th>y_pred_tot</th>\n",
       "      <th>TP</th>\n",
       "      <th>TN</th>\n",
       "      <th>FN</th>\n",
       "      <th>FP</th>\n",
       "      <th>TPR</th>\n",
       "      <th>TNR</th>\n",
       "      <th>FPR</th>\n",
       "      <th>FNR</th>\n",
       "    </tr>\n",
       "  </thead>\n",
       "  <tbody>\n",
       "    <tr>\n",
       "      <th>0</th>\n",
       "      <td>Lymphoid_Leukemia</td>\n",
       "      <td>[CTRP.P3HR-1, CTRP.SR-786, GDSC.BL-41, CTRP.Ra...</td>\n",
       "      <td>[CTRP.126, CTRP.360, CTRP.92, CTRP.236, CTRP.5...</td>\n",
       "      <td>0.004428</td>\n",
       "      <td>151673</td>\n",
       "      <td>False</td>\n",
       "      <td>149054</td>\n",
       "      <td>False</td>\n",
       "      <td>2619</td>\n",
       "      <td>NaN</td>\n",
       "      <td>0.982733</td>\n",
       "      <td>0.017267</td>\n",
       "      <td>NaN</td>\n",
       "    </tr>\n",
       "    <tr>\n",
       "      <th>1</th>\n",
       "      <td>Colon_Adenocarcinoma</td>\n",
       "      <td>[NCI60.KM12, NCI60.HCC-2998, CTRP.HCT-15, CTRP...</td>\n",
       "      <td>[NSC.781009, NSC.765395, NSC.207895, NSC.76008...</td>\n",
       "      <td>0.002020</td>\n",
       "      <td>159865</td>\n",
       "      <td>False</td>\n",
       "      <td>158307</td>\n",
       "      <td>False</td>\n",
       "      <td>1558</td>\n",
       "      <td>NaN</td>\n",
       "      <td>0.990254</td>\n",
       "      <td>0.009746</td>\n",
       "      <td>NaN</td>\n",
       "    </tr>\n",
       "  </tbody>\n",
       "</table>\n",
       "</div>"
      ],
      "text/plain": [
       "                  CTYPE                                               CELL  \\\n",
       "0     Lymphoid_Leukemia  [CTRP.P3HR-1, CTRP.SR-786, GDSC.BL-41, CTRP.Ra...   \n",
       "1  Colon_Adenocarcinoma  [NCI60.KM12, NCI60.HCC-2998, CTRP.HCT-15, CTRP...   \n",
       "\n",
       "                                                DRUG  y_pred_prob_median  \\\n",
       "0  [CTRP.126, CTRP.360, CTRP.92, CTRP.236, CTRP.5...            0.004428   \n",
       "1  [NSC.781009, NSC.765395, NSC.207895, NSC.76008...            0.002020   \n",
       "\n",
       "   y_pred_tot     TP      TN     FN    FP  TPR       TNR       FPR  FNR  \n",
       "0      151673  False  149054  False  2619  NaN  0.982733  0.017267  NaN  \n",
       "1      159865  False  158307  False  1558  NaN  0.990254  0.009746  NaN  "
      ]
     },
     "metadata": {},
     "output_type": "display_data"
    }
   ],
   "source": [
    "print('\\nSorted by FP and FPR')\n",
    "display( sm_ctype[cols].sort_values(['FP', 'FPR'], ascending=False)[:n_show].reset_index(drop=True) )"
   ]
  },
  {
   "cell_type": "code",
   "execution_count": 66,
   "metadata": {},
   "outputs": [
    {
     "name": "stdout",
     "output_type": "stream",
     "text": [
      "\n",
      "Sorted by FP and Total Preds\n"
     ]
    },
    {
     "data": {
      "text/html": [
       "<div>\n",
       "<style scoped>\n",
       "    .dataframe tbody tr th:only-of-type {\n",
       "        vertical-align: middle;\n",
       "    }\n",
       "\n",
       "    .dataframe tbody tr th {\n",
       "        vertical-align: top;\n",
       "    }\n",
       "\n",
       "    .dataframe thead th {\n",
       "        text-align: right;\n",
       "    }\n",
       "</style>\n",
       "<table border=\"1\" class=\"dataframe\">\n",
       "  <thead>\n",
       "    <tr style=\"text-align: right;\">\n",
       "      <th></th>\n",
       "      <th>CTYPE</th>\n",
       "      <th>CELL</th>\n",
       "      <th>DRUG</th>\n",
       "      <th>y_pred_prob_median</th>\n",
       "      <th>y_pred_tot</th>\n",
       "      <th>TP</th>\n",
       "      <th>TN</th>\n",
       "      <th>FN</th>\n",
       "      <th>FP</th>\n",
       "      <th>TPR</th>\n",
       "      <th>TNR</th>\n",
       "      <th>FPR</th>\n",
       "      <th>FNR</th>\n",
       "    </tr>\n",
       "  </thead>\n",
       "  <tbody>\n",
       "    <tr>\n",
       "      <th>0</th>\n",
       "      <td>Lymphoid_Neoplasm_Diffuse_Large_B-cell_Lymphoma</td>\n",
       "      <td>[CTRP.JM1, CTRP.A3-KAW, GDSC.A4-Fuk, GDSC.SU-D...</td>\n",
       "      <td>[CTRP.201, CTRP.53, CTRP.92, CTRP.339, CTRP.44...</td>\n",
       "      <td>0.005823</td>\n",
       "      <td>61040</td>\n",
       "      <td>False</td>\n",
       "      <td>59700</td>\n",
       "      <td>False</td>\n",
       "      <td>1340</td>\n",
       "      <td>NaN</td>\n",
       "      <td>0.978047</td>\n",
       "      <td>0.021953</td>\n",
       "      <td>NaN</td>\n",
       "    </tr>\n",
       "    <tr>\n",
       "      <th>1</th>\n",
       "      <td>Acute_Myeloid_Leukemia</td>\n",
       "      <td>[CTRP.MOLM-13, GDSC.ME-1, GDSC.GDM-1, CTRP.HEL...</td>\n",
       "      <td>[CTRP.1, CTRP.172, CTRP.430, CTRP.337, CTRP.23...</td>\n",
       "      <td>0.005104</td>\n",
       "      <td>61091</td>\n",
       "      <td>False</td>\n",
       "      <td>59837</td>\n",
       "      <td>False</td>\n",
       "      <td>1254</td>\n",
       "      <td>NaN</td>\n",
       "      <td>0.979473</td>\n",
       "      <td>0.020527</td>\n",
       "      <td>NaN</td>\n",
       "    </tr>\n",
       "  </tbody>\n",
       "</table>\n",
       "</div>"
      ],
      "text/plain": [
       "                                             CTYPE  \\\n",
       "0  Lymphoid_Neoplasm_Diffuse_Large_B-cell_Lymphoma   \n",
       "1                           Acute_Myeloid_Leukemia   \n",
       "\n",
       "                                                CELL  \\\n",
       "0  [CTRP.JM1, CTRP.A3-KAW, GDSC.A4-Fuk, GDSC.SU-D...   \n",
       "1  [CTRP.MOLM-13, GDSC.ME-1, GDSC.GDM-1, CTRP.HEL...   \n",
       "\n",
       "                                                DRUG  y_pred_prob_median  \\\n",
       "0  [CTRP.201, CTRP.53, CTRP.92, CTRP.339, CTRP.44...            0.005823   \n",
       "1  [CTRP.1, CTRP.172, CTRP.430, CTRP.337, CTRP.23...            0.005104   \n",
       "\n",
       "   y_pred_tot     TP     TN     FN    FP  TPR       TNR       FPR  FNR  \n",
       "0       61040  False  59700  False  1340  NaN  0.978047  0.021953  NaN  \n",
       "1       61091  False  59837  False  1254  NaN  0.979473  0.020527  NaN  "
      ]
     },
     "metadata": {},
     "output_type": "display_data"
    }
   ],
   "source": [
    "print('\\nSorted by FP and Total Preds')\n",
    "display( sm_ctype[cols].sort_values(['FPR', 'y_pred_tot'], ascending=False)[:n_show].reset_index(drop=True) )"
   ]
  },
  {
   "cell_type": "code",
   "execution_count": null,
   "metadata": {},
   "outputs": [],
   "source": []
  },
  {
   "cell_type": "markdown",
   "metadata": {},
   "source": [
    "# Drug-wise analysis"
   ]
  },
  {
   "cell_type": "code",
   "execution_count": 67,
   "metadata": {},
   "outputs": [],
   "source": [
    "# Groupby Drug\n",
    "by = 'DRUG'\n",
    "sm_drug = prd_te_to_grp.groupby([by, 'y_true_cls']).agg(    \n",
    "    {'CTYPE': 'unique',\n",
    "     'CELL': 'unique',\n",
    "     'y_true_unq_vals': 'unique',\n",
    "     'y_pred_prob_median': np.median,\n",
    "     'y_pred_prob_std': np.std,\n",
    "     'y_pred_cls_0': lambda x: int(sum(x)),\n",
    "     'y_pred_cls_1': lambda x: int(sum(x)),\n",
    "     'y_pred_tot': lambda x: len(np.unique(x)),\n",
    "     }).reset_index().sort_values(by, ascending=True)\n",
    "\n",
    "sm_drug['y_true_unq_vals'] = sm_drug.y_true_unq_vals.map(lambda x: len(x) if type(x)==np.ndarray else 1)\n",
    "sm_drug = add_conf_data(sm_drug)\n",
    "# display(sm_drug[:2])"
   ]
  },
  {
   "cell_type": "code",
   "execution_count": 68,
   "metadata": {},
   "outputs": [],
   "source": [
    "# Print sorted\n",
    "# print_sorted_grouped_df(sm_drug, cols=cols, n_show=2)"
   ]
  },
  {
   "cell_type": "code",
   "execution_count": 69,
   "metadata": {},
   "outputs": [
    {
     "name": "stdout",
     "output_type": "stream",
     "text": [
      "\n",
      "Sorted by FN and FNR\n"
     ]
    },
    {
     "data": {
      "text/html": [
       "<div>\n",
       "<style scoped>\n",
       "    .dataframe tbody tr th:only-of-type {\n",
       "        vertical-align: middle;\n",
       "    }\n",
       "\n",
       "    .dataframe tbody tr th {\n",
       "        vertical-align: top;\n",
       "    }\n",
       "\n",
       "    .dataframe thead th {\n",
       "        text-align: right;\n",
       "    }\n",
       "</style>\n",
       "<table border=\"1\" class=\"dataframe\">\n",
       "  <thead>\n",
       "    <tr style=\"text-align: right;\">\n",
       "      <th></th>\n",
       "      <th>CTYPE</th>\n",
       "      <th>CELL</th>\n",
       "      <th>DRUG</th>\n",
       "      <th>y_pred_prob_median</th>\n",
       "      <th>y_pred_tot</th>\n",
       "      <th>TP</th>\n",
       "      <th>TN</th>\n",
       "      <th>FN</th>\n",
       "      <th>FP</th>\n",
       "      <th>TPR</th>\n",
       "      <th>TNR</th>\n",
       "      <th>FPR</th>\n",
       "      <th>FNR</th>\n",
       "    </tr>\n",
       "  </thead>\n",
       "  <tbody>\n",
       "    <tr>\n",
       "      <th>0</th>\n",
       "      <td>[Liver_Hepatocellular_Carcinoma, Lymphoid_Leuk...</td>\n",
       "      <td>[CTRP.SNU-423, CTRP.P3HR-1, CTRP.HEC-1-A, CTRP...</td>\n",
       "      <td>CTRP.3</td>\n",
       "      <td>0.407958</td>\n",
       "      <td>2033</td>\n",
       "      <td>857</td>\n",
       "      <td>False</td>\n",
       "      <td>1176</td>\n",
       "      <td>False</td>\n",
       "      <td>0.421545</td>\n",
       "      <td>NaN</td>\n",
       "      <td>NaN</td>\n",
       "      <td>0.578455</td>\n",
       "    </tr>\n",
       "    <tr>\n",
       "      <th>1</th>\n",
       "      <td>[Lung_Adenocarcinoma, Lymphoid_Leukemia, Lymph...</td>\n",
       "      <td>[GDSC.HCC-78, GDSC.BL-41, GDSC.SU-DHL-4, GDSC....</td>\n",
       "      <td>GDSC.283</td>\n",
       "      <td>0.438964</td>\n",
       "      <td>1914</td>\n",
       "      <td>767</td>\n",
       "      <td>False</td>\n",
       "      <td>1147</td>\n",
       "      <td>False</td>\n",
       "      <td>0.400731</td>\n",
       "      <td>NaN</td>\n",
       "      <td>NaN</td>\n",
       "      <td>0.599269</td>\n",
       "    </tr>\n",
       "  </tbody>\n",
       "</table>\n",
       "</div>"
      ],
      "text/plain": [
       "                                               CTYPE  \\\n",
       "0  [Liver_Hepatocellular_Carcinoma, Lymphoid_Leuk...   \n",
       "1  [Lung_Adenocarcinoma, Lymphoid_Leukemia, Lymph...   \n",
       "\n",
       "                                                CELL      DRUG  \\\n",
       "0  [CTRP.SNU-423, CTRP.P3HR-1, CTRP.HEC-1-A, CTRP...    CTRP.3   \n",
       "1  [GDSC.HCC-78, GDSC.BL-41, GDSC.SU-DHL-4, GDSC....  GDSC.283   \n",
       "\n",
       "   y_pred_prob_median  y_pred_tot   TP     TN    FN     FP       TPR  TNR  \\\n",
       "0            0.407958        2033  857  False  1176  False  0.421545  NaN   \n",
       "1            0.438964        1914  767  False  1147  False  0.400731  NaN   \n",
       "\n",
       "   FPR       FNR  \n",
       "0  NaN  0.578455  \n",
       "1  NaN  0.599269  "
      ]
     },
     "metadata": {},
     "output_type": "display_data"
    }
   ],
   "source": [
    "n_show = 2\n",
    "cols = ['CTYPE', 'CELL', 'DRUG', 'y_pred_prob_median', 'y_pred_tot', 'TP', 'TN', 'FN', 'FP', 'TPR', 'TNR', 'FPR', 'FNR']\n",
    "print('\\nSorted by FN and FNR')\n",
    "display( sm_drug[cols].sort_values(['FN', 'FNR'], ascending=False)[:n_show].reset_index(drop=True) )"
   ]
  },
  {
   "cell_type": "code",
   "execution_count": 70,
   "metadata": {},
   "outputs": [
    {
     "name": "stdout",
     "output_type": "stream",
     "text": [
      "\n",
      "Sorted by FN and Total Preds\n"
     ]
    },
    {
     "data": {
      "text/html": [
       "<div>\n",
       "<style scoped>\n",
       "    .dataframe tbody tr th:only-of-type {\n",
       "        vertical-align: middle;\n",
       "    }\n",
       "\n",
       "    .dataframe tbody tr th {\n",
       "        vertical-align: top;\n",
       "    }\n",
       "\n",
       "    .dataframe thead th {\n",
       "        text-align: right;\n",
       "    }\n",
       "</style>\n",
       "<table border=\"1\" class=\"dataframe\">\n",
       "  <thead>\n",
       "    <tr style=\"text-align: right;\">\n",
       "      <th></th>\n",
       "      <th>CTYPE</th>\n",
       "      <th>CELL</th>\n",
       "      <th>DRUG</th>\n",
       "      <th>y_pred_prob_median</th>\n",
       "      <th>y_pred_tot</th>\n",
       "      <th>TP</th>\n",
       "      <th>TN</th>\n",
       "      <th>FN</th>\n",
       "      <th>FP</th>\n",
       "      <th>TPR</th>\n",
       "      <th>TNR</th>\n",
       "      <th>FPR</th>\n",
       "      <th>FNR</th>\n",
       "    </tr>\n",
       "  </thead>\n",
       "  <tbody>\n",
       "    <tr>\n",
       "      <th>0</th>\n",
       "      <td>[Lung_Non-Small_Cell_Carcinoma, Head_and_Neck_...</td>\n",
       "      <td>[GDSC.NCI-H647, GDSC.HSC-3, GDSC.LOU-NH91, GDS...</td>\n",
       "      <td>GDSC.190</td>\n",
       "      <td>0.019538</td>\n",
       "      <td>141</td>\n",
       "      <td>0</td>\n",
       "      <td>False</td>\n",
       "      <td>141</td>\n",
       "      <td>False</td>\n",
       "      <td>0.0</td>\n",
       "      <td>NaN</td>\n",
       "      <td>NaN</td>\n",
       "      <td>1.0</td>\n",
       "    </tr>\n",
       "    <tr>\n",
       "      <th>1</th>\n",
       "      <td>[Stomach_Adenocarcinoma, Lymphoid_Neoplasm_Dif...</td>\n",
       "      <td>[CTRP.SNU-16, CTRP.JM1, CTRP.NALM-6, CTRP.A4-F...</td>\n",
       "      <td>CTRP.31</td>\n",
       "      <td>0.113286</td>\n",
       "      <td>120</td>\n",
       "      <td>0</td>\n",
       "      <td>False</td>\n",
       "      <td>120</td>\n",
       "      <td>False</td>\n",
       "      <td>0.0</td>\n",
       "      <td>NaN</td>\n",
       "      <td>NaN</td>\n",
       "      <td>1.0</td>\n",
       "    </tr>\n",
       "  </tbody>\n",
       "</table>\n",
       "</div>"
      ],
      "text/plain": [
       "                                               CTYPE  \\\n",
       "0  [Lung_Non-Small_Cell_Carcinoma, Head_and_Neck_...   \n",
       "1  [Stomach_Adenocarcinoma, Lymphoid_Neoplasm_Dif...   \n",
       "\n",
       "                                                CELL      DRUG  \\\n",
       "0  [GDSC.NCI-H647, GDSC.HSC-3, GDSC.LOU-NH91, GDS...  GDSC.190   \n",
       "1  [CTRP.SNU-16, CTRP.JM1, CTRP.NALM-6, CTRP.A4-F...   CTRP.31   \n",
       "\n",
       "   y_pred_prob_median  y_pred_tot TP     TN   FN     FP  TPR  TNR  FPR  FNR  \n",
       "0            0.019538         141  0  False  141  False  0.0  NaN  NaN  1.0  \n",
       "1            0.113286         120  0  False  120  False  0.0  NaN  NaN  1.0  "
      ]
     },
     "metadata": {},
     "output_type": "display_data"
    }
   ],
   "source": [
    "print('\\nSorted by FN and Total Preds')\n",
    "display( sm_drug[cols].sort_values(['FNR', 'y_pred_tot'], ascending=False)[:n_show].reset_index(drop=True) )"
   ]
  },
  {
   "cell_type": "code",
   "execution_count": 71,
   "metadata": {},
   "outputs": [
    {
     "name": "stdout",
     "output_type": "stream",
     "text": [
      "\n",
      "Sorted by FP and FPR\n"
     ]
    },
    {
     "data": {
      "text/html": [
       "<div>\n",
       "<style scoped>\n",
       "    .dataframe tbody tr th:only-of-type {\n",
       "        vertical-align: middle;\n",
       "    }\n",
       "\n",
       "    .dataframe tbody tr th {\n",
       "        vertical-align: top;\n",
       "    }\n",
       "\n",
       "    .dataframe thead th {\n",
       "        text-align: right;\n",
       "    }\n",
       "</style>\n",
       "<table border=\"1\" class=\"dataframe\">\n",
       "  <thead>\n",
       "    <tr style=\"text-align: right;\">\n",
       "      <th></th>\n",
       "      <th>CTYPE</th>\n",
       "      <th>CELL</th>\n",
       "      <th>DRUG</th>\n",
       "      <th>y_pred_prob_median</th>\n",
       "      <th>y_pred_tot</th>\n",
       "      <th>TP</th>\n",
       "      <th>TN</th>\n",
       "      <th>FN</th>\n",
       "      <th>FP</th>\n",
       "      <th>TPR</th>\n",
       "      <th>TNR</th>\n",
       "      <th>FPR</th>\n",
       "      <th>FNR</th>\n",
       "    </tr>\n",
       "  </thead>\n",
       "  <tbody>\n",
       "    <tr>\n",
       "      <th>0</th>\n",
       "      <td>[Lung_Non-Small_Cell_Carcinoma, Acute_Myeloid_...</td>\n",
       "      <td>[GDSC.NCI-H1581, GDSC.ME-1, GDSC.MDA-MB-134-VI...</td>\n",
       "      <td>GDSC.200</td>\n",
       "      <td>0.568605</td>\n",
       "      <td>1594</td>\n",
       "      <td>False</td>\n",
       "      <td>571</td>\n",
       "      <td>False</td>\n",
       "      <td>1023</td>\n",
       "      <td>NaN</td>\n",
       "      <td>0.358218</td>\n",
       "      <td>0.641782</td>\n",
       "      <td>NaN</td>\n",
       "    </tr>\n",
       "    <tr>\n",
       "      <th>1</th>\n",
       "      <td>[Stomach_Adenocarcinoma, Lung_Squamous_Cell_Ca...</td>\n",
       "      <td>[CTRP.MKN45, CTRP.EPLC-272H, CTRP.U-118-MG, CT...</td>\n",
       "      <td>CTRP.542</td>\n",
       "      <td>0.662708</td>\n",
       "      <td>1191</td>\n",
       "      <td>False</td>\n",
       "      <td>190</td>\n",
       "      <td>False</td>\n",
       "      <td>1001</td>\n",
       "      <td>NaN</td>\n",
       "      <td>0.159530</td>\n",
       "      <td>0.840470</td>\n",
       "      <td>NaN</td>\n",
       "    </tr>\n",
       "  </tbody>\n",
       "</table>\n",
       "</div>"
      ],
      "text/plain": [
       "                                               CTYPE  \\\n",
       "0  [Lung_Non-Small_Cell_Carcinoma, Acute_Myeloid_...   \n",
       "1  [Stomach_Adenocarcinoma, Lung_Squamous_Cell_Ca...   \n",
       "\n",
       "                                                CELL      DRUG  \\\n",
       "0  [GDSC.NCI-H1581, GDSC.ME-1, GDSC.MDA-MB-134-VI...  GDSC.200   \n",
       "1  [CTRP.MKN45, CTRP.EPLC-272H, CTRP.U-118-MG, CT...  CTRP.542   \n",
       "\n",
       "   y_pred_prob_median  y_pred_tot     TP   TN     FN    FP  TPR       TNR  \\\n",
       "0            0.568605        1594  False  571  False  1023  NaN  0.358218   \n",
       "1            0.662708        1191  False  190  False  1001  NaN  0.159530   \n",
       "\n",
       "        FPR  FNR  \n",
       "0  0.641782  NaN  \n",
       "1  0.840470  NaN  "
      ]
     },
     "metadata": {},
     "output_type": "display_data"
    }
   ],
   "source": [
    "print('\\nSorted by FP and FPR')\n",
    "display( sm_drug[cols].sort_values(['FP', 'FPR'], ascending=False)[:n_show].reset_index(drop=True) )"
   ]
  },
  {
   "cell_type": "code",
   "execution_count": 72,
   "metadata": {},
   "outputs": [
    {
     "name": "stdout",
     "output_type": "stream",
     "text": [
      "\n",
      "Sorted by FP and Total Preds\n"
     ]
    },
    {
     "data": {
      "text/html": [
       "<div>\n",
       "<style scoped>\n",
       "    .dataframe tbody tr th:only-of-type {\n",
       "        vertical-align: middle;\n",
       "    }\n",
       "\n",
       "    .dataframe tbody tr th {\n",
       "        vertical-align: top;\n",
       "    }\n",
       "\n",
       "    .dataframe thead th {\n",
       "        text-align: right;\n",
       "    }\n",
       "</style>\n",
       "<table border=\"1\" class=\"dataframe\">\n",
       "  <thead>\n",
       "    <tr style=\"text-align: right;\">\n",
       "      <th></th>\n",
       "      <th>CTYPE</th>\n",
       "      <th>CELL</th>\n",
       "      <th>DRUG</th>\n",
       "      <th>y_pred_prob_median</th>\n",
       "      <th>y_pred_tot</th>\n",
       "      <th>TP</th>\n",
       "      <th>TN</th>\n",
       "      <th>FN</th>\n",
       "      <th>FP</th>\n",
       "      <th>TPR</th>\n",
       "      <th>TNR</th>\n",
       "      <th>FPR</th>\n",
       "      <th>FNR</th>\n",
       "    </tr>\n",
       "  </thead>\n",
       "  <tbody>\n",
       "    <tr>\n",
       "      <th>0</th>\n",
       "      <td>[Colon_Adenocarcinoma, Esophageal_Carcinoma, L...</td>\n",
       "      <td>[gCSI.COLO-678, gCSI.KYSE-140, gCSI.HUH-7, gCS...</td>\n",
       "      <td>gCSI.2</td>\n",
       "      <td>0.808105</td>\n",
       "      <td>192</td>\n",
       "      <td>False</td>\n",
       "      <td>1</td>\n",
       "      <td>False</td>\n",
       "      <td>191</td>\n",
       "      <td>NaN</td>\n",
       "      <td>0.005208</td>\n",
       "      <td>0.994792</td>\n",
       "      <td>NaN</td>\n",
       "    </tr>\n",
       "    <tr>\n",
       "      <th>1</th>\n",
       "      <td>[Skin_Cutaneous_Melanoma, Lung_Adenocarcinoma,...</td>\n",
       "      <td>[CTRP.SK-MEL-28, CTRP.A549, CTRP.NCI-H196, CTR...</td>\n",
       "      <td>CTRP.157</td>\n",
       "      <td>0.793931</td>\n",
       "      <td>577</td>\n",
       "      <td>False</td>\n",
       "      <td>6</td>\n",
       "      <td>False</td>\n",
       "      <td>571</td>\n",
       "      <td>NaN</td>\n",
       "      <td>0.010399</td>\n",
       "      <td>0.989601</td>\n",
       "      <td>NaN</td>\n",
       "    </tr>\n",
       "  </tbody>\n",
       "</table>\n",
       "</div>"
      ],
      "text/plain": [
       "                                               CTYPE  \\\n",
       "0  [Colon_Adenocarcinoma, Esophageal_Carcinoma, L...   \n",
       "1  [Skin_Cutaneous_Melanoma, Lung_Adenocarcinoma,...   \n",
       "\n",
       "                                                CELL      DRUG  \\\n",
       "0  [gCSI.COLO-678, gCSI.KYSE-140, gCSI.HUH-7, gCS...    gCSI.2   \n",
       "1  [CTRP.SK-MEL-28, CTRP.A549, CTRP.NCI-H196, CTR...  CTRP.157   \n",
       "\n",
       "   y_pred_prob_median  y_pred_tot     TP TN     FN   FP  TPR       TNR  \\\n",
       "0            0.808105         192  False  1  False  191  NaN  0.005208   \n",
       "1            0.793931         577  False  6  False  571  NaN  0.010399   \n",
       "\n",
       "        FPR  FNR  \n",
       "0  0.994792  NaN  \n",
       "1  0.989601  NaN  "
      ]
     },
     "metadata": {},
     "output_type": "display_data"
    }
   ],
   "source": [
    "print('\\nSorted by FP and Total Preds')\n",
    "display( sm_drug[cols].sort_values(['FPR', 'y_pred_tot'], ascending=False)[:n_show].reset_index(drop=True) )"
   ]
  },
  {
   "cell_type": "code",
   "execution_count": null,
   "metadata": {},
   "outputs": [],
   "source": []
  },
  {
   "cell_type": "markdown",
   "metadata": {},
   "source": [
    "# Sample-wise Analysis"
   ]
  },
  {
   "cell_type": "code",
   "execution_count": 88,
   "metadata": {},
   "outputs": [],
   "source": [
    "# Groupby sample (cell-drug)\n",
    "sm = prd_te_to_grp.groupby(['CELL', 'DRUG']).agg(\n",
    "    {'CTYPE': np.unique,\n",
    "     'y_true_cls': np.unique,\n",
    "     'y_true_unq_vals': np.unique,\n",
    "     'y_pred_prob_median': np.median,\n",
    "     'y_pred_prob_std': np.std,\n",
    "     'y_pred_cls_0': lambda x: int(sum(x)),\n",
    "     'y_pred_cls_1': lambda x: int(sum(x)),\n",
    "     }).reset_index()\n",
    "sm['y_true_unq_vals'] = sm.y_true_unq_vals.map(lambda x: len(x) if type(x)==np.ndarray else 1)\n",
    "# display(sm[:2])"
   ]
  },
  {
   "cell_type": "markdown",
   "metadata": {},
   "source": [
    "## Most confident predictions of responders"
   ]
  },
  {
   "cell_type": "code",
   "execution_count": 89,
   "metadata": {},
   "outputs": [
    {
     "name": "stdout",
     "output_type": "stream",
     "text": [
      "\n",
      "Most confident TPs (correct predictions of responders)\n"
     ]
    },
    {
     "data": {
      "text/html": [
       "<div>\n",
       "<style scoped>\n",
       "    .dataframe tbody tr th:only-of-type {\n",
       "        vertical-align: middle;\n",
       "    }\n",
       "\n",
       "    .dataframe tbody tr th {\n",
       "        vertical-align: top;\n",
       "    }\n",
       "\n",
       "    .dataframe thead th {\n",
       "        text-align: right;\n",
       "    }\n",
       "</style>\n",
       "<table border=\"1\" class=\"dataframe\">\n",
       "  <thead>\n",
       "    <tr style=\"text-align: right;\">\n",
       "      <th></th>\n",
       "      <th>CELL</th>\n",
       "      <th>DRUG</th>\n",
       "      <th>CTYPE</th>\n",
       "      <th>y_true_cls</th>\n",
       "      <th>y_true_unq_vals</th>\n",
       "      <th>y_pred_prob_median</th>\n",
       "      <th>y_pred_prob_std</th>\n",
       "      <th>y_pred_cls_0</th>\n",
       "      <th>y_pred_cls_1</th>\n",
       "    </tr>\n",
       "  </thead>\n",
       "  <tbody>\n",
       "    <tr>\n",
       "      <th>0</th>\n",
       "      <td>GDSC.697</td>\n",
       "      <td>GDSC.104</td>\n",
       "      <td>Lymphoid_Leukemia</td>\n",
       "      <td>1</td>\n",
       "      <td>1</td>\n",
       "      <td>0.977313</td>\n",
       "      <td>0.003974</td>\n",
       "      <td>0</td>\n",
       "      <td>9</td>\n",
       "    </tr>\n",
       "    <tr>\n",
       "      <th>1</th>\n",
       "      <td>CTRP.GA-10</td>\n",
       "      <td>CTRP.157</td>\n",
       "      <td>Lymphoid_Leukemia</td>\n",
       "      <td>1</td>\n",
       "      <td>1</td>\n",
       "      <td>0.976653</td>\n",
       "      <td>0.003820</td>\n",
       "      <td>0</td>\n",
       "      <td>3</td>\n",
       "    </tr>\n",
       "  </tbody>\n",
       "</table>\n",
       "</div>"
      ],
      "text/plain": [
       "         CELL      DRUG              CTYPE  y_true_cls  y_true_unq_vals  \\\n",
       "0    GDSC.697  GDSC.104  Lymphoid_Leukemia           1                1   \n",
       "1  CTRP.GA-10  CTRP.157  Lymphoid_Leukemia           1                1   \n",
       "\n",
       "   y_pred_prob_median  y_pred_prob_std  y_pred_cls_0  y_pred_cls_1  \n",
       "0            0.977313         0.003974             0             9  \n",
       "1            0.976653         0.003820             0             3  "
      ]
     },
     "metadata": {},
     "output_type": "display_data"
    },
    {
     "name": "stdout",
     "output_type": "stream",
     "text": [
      "\n",
      "Most confident FNs (incorrect predictions of responders)\n"
     ]
    },
    {
     "data": {
      "text/html": [
       "<div>\n",
       "<style scoped>\n",
       "    .dataframe tbody tr th:only-of-type {\n",
       "        vertical-align: middle;\n",
       "    }\n",
       "\n",
       "    .dataframe tbody tr th {\n",
       "        vertical-align: top;\n",
       "    }\n",
       "\n",
       "    .dataframe thead th {\n",
       "        text-align: right;\n",
       "    }\n",
       "</style>\n",
       "<table border=\"1\" class=\"dataframe\">\n",
       "  <thead>\n",
       "    <tr style=\"text-align: right;\">\n",
       "      <th></th>\n",
       "      <th>CELL</th>\n",
       "      <th>DRUG</th>\n",
       "      <th>CTYPE</th>\n",
       "      <th>y_true_cls</th>\n",
       "      <th>y_true_unq_vals</th>\n",
       "      <th>y_pred_prob_median</th>\n",
       "      <th>y_pred_prob_std</th>\n",
       "      <th>y_pred_cls_0</th>\n",
       "      <th>y_pred_cls_1</th>\n",
       "    </tr>\n",
       "  </thead>\n",
       "  <tbody>\n",
       "    <tr>\n",
       "      <th>0</th>\n",
       "      <td>GDSC.NCI-H209</td>\n",
       "      <td>GDSC.1005</td>\n",
       "      <td>Lung_Small_Cell_Carcinoma</td>\n",
       "      <td>1</td>\n",
       "      <td>1</td>\n",
       "      <td>0.000041</td>\n",
       "      <td>0.000026</td>\n",
       "      <td>8</td>\n",
       "      <td>0</td>\n",
       "    </tr>\n",
       "    <tr>\n",
       "      <th>1</th>\n",
       "      <td>CTRP.DOHH-2</td>\n",
       "      <td>CTRP.425</td>\n",
       "      <td>Lymphoid_Neoplasm_Diffuse_Large_B-cell_Lymphoma</td>\n",
       "      <td>1</td>\n",
       "      <td>1</td>\n",
       "      <td>0.000248</td>\n",
       "      <td>0.000102</td>\n",
       "      <td>8</td>\n",
       "      <td>0</td>\n",
       "    </tr>\n",
       "  </tbody>\n",
       "</table>\n",
       "</div>"
      ],
      "text/plain": [
       "            CELL       DRUG                                            CTYPE  \\\n",
       "0  GDSC.NCI-H209  GDSC.1005                        Lung_Small_Cell_Carcinoma   \n",
       "1    CTRP.DOHH-2   CTRP.425  Lymphoid_Neoplasm_Diffuse_Large_B-cell_Lymphoma   \n",
       "\n",
       "   y_true_cls  y_true_unq_vals  y_pred_prob_median  y_pred_prob_std  \\\n",
       "0           1                1            0.000041         0.000026   \n",
       "1           1                1            0.000248         0.000102   \n",
       "\n",
       "   y_pred_cls_0  y_pred_cls_1  \n",
       "0             8             0  \n",
       "1             8             0  "
      ]
     },
     "metadata": {},
     "output_type": "display_data"
    }
   ],
   "source": [
    "# Most confident predictions of responders\n",
    "n_show = 2\n",
    "rsp_value = 1  # responders\n",
    "aa = sm[sm.y_true_cls==rsp_value]\n",
    "\n",
    "print('\\nMost confident TPs (correct predictions of responders)')\n",
    "aa_ = aa.sort_values('y_pred_prob_median', ascending=False)\n",
    "display(aa_[:n_show].reset_index(drop=True))\n",
    "\n",
    "print('\\nMost confident FNs (incorrect predictions of responders)')\n",
    "aa_ = aa.sort_values('y_pred_prob_median', ascending=True)\n",
    "display(aa_[:n_show].reset_index(drop=True))"
   ]
  },
  {
   "cell_type": "code",
   "execution_count": null,
   "metadata": {},
   "outputs": [],
   "source": []
  },
  {
   "cell_type": "markdown",
   "metadata": {},
   "source": [
    "## Most confident predictions of non-responders"
   ]
  },
  {
   "cell_type": "code",
   "execution_count": 90,
   "metadata": {},
   "outputs": [
    {
     "name": "stdout",
     "output_type": "stream",
     "text": [
      "\n",
      "Most confident TNs (correct predictions of non-responders)\n"
     ]
    },
    {
     "data": {
      "text/html": [
       "<div>\n",
       "<style scoped>\n",
       "    .dataframe tbody tr th:only-of-type {\n",
       "        vertical-align: middle;\n",
       "    }\n",
       "\n",
       "    .dataframe tbody tr th {\n",
       "        vertical-align: top;\n",
       "    }\n",
       "\n",
       "    .dataframe thead th {\n",
       "        text-align: right;\n",
       "    }\n",
       "</style>\n",
       "<table border=\"1\" class=\"dataframe\">\n",
       "  <thead>\n",
       "    <tr style=\"text-align: right;\">\n",
       "      <th></th>\n",
       "      <th>CELL</th>\n",
       "      <th>DRUG</th>\n",
       "      <th>CTYPE</th>\n",
       "      <th>y_true_cls</th>\n",
       "      <th>y_true_unq_vals</th>\n",
       "      <th>y_pred_prob_median</th>\n",
       "      <th>y_pred_prob_std</th>\n",
       "      <th>y_pred_cls_0</th>\n",
       "      <th>y_pred_cls_1</th>\n",
       "    </tr>\n",
       "  </thead>\n",
       "  <tbody>\n",
       "    <tr>\n",
       "      <th>0</th>\n",
       "      <td>NCI60.IGR-OV1</td>\n",
       "      <td>NSC.752</td>\n",
       "      <td>Ovarian_Serous_Cystadenocarcinoma</td>\n",
       "      <td>0</td>\n",
       "      <td>1</td>\n",
       "      <td>0.000024</td>\n",
       "      <td>0.000012</td>\n",
       "      <td>10</td>\n",
       "      <td>0</td>\n",
       "    </tr>\n",
       "    <tr>\n",
       "      <th>1</th>\n",
       "      <td>NCI60.SW-620</td>\n",
       "      <td>NSC.752</td>\n",
       "      <td>Colon_Adenocarcinoma</td>\n",
       "      <td>0</td>\n",
       "      <td>1</td>\n",
       "      <td>0.000026</td>\n",
       "      <td>0.000015</td>\n",
       "      <td>6</td>\n",
       "      <td>0</td>\n",
       "    </tr>\n",
       "  </tbody>\n",
       "</table>\n",
       "</div>"
      ],
      "text/plain": [
       "            CELL     DRUG                              CTYPE  y_true_cls  \\\n",
       "0  NCI60.IGR-OV1  NSC.752  Ovarian_Serous_Cystadenocarcinoma           0   \n",
       "1   NCI60.SW-620  NSC.752               Colon_Adenocarcinoma           0   \n",
       "\n",
       "   y_true_unq_vals  y_pred_prob_median  y_pred_prob_std  y_pred_cls_0  \\\n",
       "0                1            0.000024         0.000012            10   \n",
       "1                1            0.000026         0.000015             6   \n",
       "\n",
       "   y_pred_cls_1  \n",
       "0             0  \n",
       "1             0  "
      ]
     },
     "metadata": {},
     "output_type": "display_data"
    },
    {
     "name": "stdout",
     "output_type": "stream",
     "text": [
      "\n",
      "Most confident FPs (incorrect predictions of non-responders)\n"
     ]
    },
    {
     "data": {
      "text/html": [
       "<div>\n",
       "<style scoped>\n",
       "    .dataframe tbody tr th:only-of-type {\n",
       "        vertical-align: middle;\n",
       "    }\n",
       "\n",
       "    .dataframe tbody tr th {\n",
       "        vertical-align: top;\n",
       "    }\n",
       "\n",
       "    .dataframe thead th {\n",
       "        text-align: right;\n",
       "    }\n",
       "</style>\n",
       "<table border=\"1\" class=\"dataframe\">\n",
       "  <thead>\n",
       "    <tr style=\"text-align: right;\">\n",
       "      <th></th>\n",
       "      <th>CELL</th>\n",
       "      <th>DRUG</th>\n",
       "      <th>CTYPE</th>\n",
       "      <th>y_true_cls</th>\n",
       "      <th>y_true_unq_vals</th>\n",
       "      <th>y_pred_prob_median</th>\n",
       "      <th>y_pred_prob_std</th>\n",
       "      <th>y_pred_cls_0</th>\n",
       "      <th>y_pred_cls_1</th>\n",
       "    </tr>\n",
       "  </thead>\n",
       "  <tbody>\n",
       "    <tr>\n",
       "      <th>0</th>\n",
       "      <td>GDSC.GA-10</td>\n",
       "      <td>GDSC.1004</td>\n",
       "      <td>Lymphoid_Leukemia</td>\n",
       "      <td>0</td>\n",
       "      <td>1</td>\n",
       "      <td>0.959442</td>\n",
       "      <td>0.009857</td>\n",
       "      <td>0</td>\n",
       "      <td>11</td>\n",
       "    </tr>\n",
       "    <tr>\n",
       "      <th>1</th>\n",
       "      <td>GDSC.DOHH-2</td>\n",
       "      <td>GDSC.60</td>\n",
       "      <td>Lymphoid_Neoplasm_Diffuse_Large_B-cell_Lymphoma</td>\n",
       "      <td>0</td>\n",
       "      <td>1</td>\n",
       "      <td>0.934460</td>\n",
       "      <td>0.013085</td>\n",
       "      <td>0</td>\n",
       "      <td>11</td>\n",
       "    </tr>\n",
       "  </tbody>\n",
       "</table>\n",
       "</div>"
      ],
      "text/plain": [
       "          CELL       DRUG                                            CTYPE  \\\n",
       "0   GDSC.GA-10  GDSC.1004                                Lymphoid_Leukemia   \n",
       "1  GDSC.DOHH-2    GDSC.60  Lymphoid_Neoplasm_Diffuse_Large_B-cell_Lymphoma   \n",
       "\n",
       "   y_true_cls  y_true_unq_vals  y_pred_prob_median  y_pred_prob_std  \\\n",
       "0           0                1            0.959442         0.009857   \n",
       "1           0                1            0.934460         0.013085   \n",
       "\n",
       "   y_pred_cls_0  y_pred_cls_1  \n",
       "0             0            11  \n",
       "1             0            11  "
      ]
     },
     "metadata": {},
     "output_type": "display_data"
    }
   ],
   "source": [
    "# Most confident predictions of non-responders\n",
    "n_show = 2\n",
    "rsp_value = 0  # non-responders\n",
    "bb = sm[sm.y_true_cls==rsp_value]\n",
    "\n",
    "print('\\nMost confident TNs (correct predictions of non-responders)')\n",
    "bb_ = bb.sort_values('y_pred_prob_median', ascending=True)\n",
    "display(bb_[:n_show].reset_index(drop=True))\n",
    "\n",
    "print('\\nMost confident FPs (incorrect predictions of non-responders)')\n",
    "bb_ = bb.sort_values('y_pred_prob_median', ascending=False)\n",
    "display(bb_[:n_show].reset_index(drop=True))"
   ]
  },
  {
   "cell_type": "code",
   "execution_count": null,
   "metadata": {},
   "outputs": [],
   "source": []
  },
  {
   "cell_type": "markdown",
   "metadata": {},
   "source": [
    "## Least confident True Positives"
   ]
  },
  {
   "cell_type": "code",
   "execution_count": 91,
   "metadata": {},
   "outputs": [
    {
     "name": "stdout",
     "output_type": "stream",
     "text": [
      "\n",
      "Least confident TPs (correct predictions of responders)\n"
     ]
    },
    {
     "data": {
      "text/html": [
       "<div>\n",
       "<style scoped>\n",
       "    .dataframe tbody tr th:only-of-type {\n",
       "        vertical-align: middle;\n",
       "    }\n",
       "\n",
       "    .dataframe tbody tr th {\n",
       "        vertical-align: top;\n",
       "    }\n",
       "\n",
       "    .dataframe thead th {\n",
       "        text-align: right;\n",
       "    }\n",
       "</style>\n",
       "<table border=\"1\" class=\"dataframe\">\n",
       "  <thead>\n",
       "    <tr style=\"text-align: right;\">\n",
       "      <th></th>\n",
       "      <th>CELL</th>\n",
       "      <th>DRUG</th>\n",
       "      <th>CTYPE</th>\n",
       "      <th>y_true_cls</th>\n",
       "      <th>y_true_unq_vals</th>\n",
       "      <th>y_pred_prob_median</th>\n",
       "      <th>y_pred_prob_std</th>\n",
       "      <th>y_pred_cls_0</th>\n",
       "      <th>y_pred_cls_1</th>\n",
       "    </tr>\n",
       "  </thead>\n",
       "  <tbody>\n",
       "    <tr>\n",
       "      <th>0</th>\n",
       "      <td>CCLE.SKLMS1</td>\n",
       "      <td>CCLE.11</td>\n",
       "      <td>Sarcoma</td>\n",
       "      <td>1</td>\n",
       "      <td>1</td>\n",
       "      <td>0.500174</td>\n",
       "      <td>0.038317</td>\n",
       "      <td>6</td>\n",
       "      <td>7</td>\n",
       "    </tr>\n",
       "    <tr>\n",
       "      <th>1</th>\n",
       "      <td>GDSC.OCUM-1</td>\n",
       "      <td>GDSC.1372</td>\n",
       "      <td>Stomach_Adenocarcinoma</td>\n",
       "      <td>1</td>\n",
       "      <td>1</td>\n",
       "      <td>0.500290</td>\n",
       "      <td>0.154979</td>\n",
       "      <td>4</td>\n",
       "      <td>5</td>\n",
       "    </tr>\n",
       "  </tbody>\n",
       "</table>\n",
       "</div>"
      ],
      "text/plain": [
       "          CELL       DRUG                   CTYPE  y_true_cls  \\\n",
       "0  CCLE.SKLMS1    CCLE.11                 Sarcoma           1   \n",
       "1  GDSC.OCUM-1  GDSC.1372  Stomach_Adenocarcinoma           1   \n",
       "\n",
       "   y_true_unq_vals  y_pred_prob_median  y_pred_prob_std  y_pred_cls_0  \\\n",
       "0                1            0.500174         0.038317             6   \n",
       "1                1            0.500290         0.154979             4   \n",
       "\n",
       "   y_pred_cls_1  \n",
       "0             7  \n",
       "1             5  "
      ]
     },
     "metadata": {},
     "output_type": "display_data"
    }
   ],
   "source": [
    "# Least confident predictions of responders\n",
    "n_show = 2\n",
    "rsp_value = 1  # responders\n",
    "aa = sm[sm.y_true_cls==rsp_value]\n",
    "\n",
    "# Extract samples with probs >= 0.5\n",
    "aa = aa[aa.y_pred_prob_median-0.5 >= 0]\n",
    "\n",
    "print('\\nLeast confident TPs (correct predictions of responders)')\n",
    "aa = aa.sort_values('y_pred_prob_median', ascending=True)\n",
    "display(aa[:n_show].reset_index(drop=True))"
   ]
  },
  {
   "cell_type": "code",
   "execution_count": null,
   "metadata": {},
   "outputs": [],
   "source": []
  },
  {
   "cell_type": "markdown",
   "metadata": {},
   "source": [
    "## Least confident False Positives"
   ]
  },
  {
   "cell_type": "code",
   "execution_count": 85,
   "metadata": {},
   "outputs": [
    {
     "name": "stdout",
     "output_type": "stream",
     "text": [
      "\n",
      "Least confident FPs (incorrect predictions of non-responders)\n"
     ]
    },
    {
     "data": {
      "text/html": [
       "<div>\n",
       "<style scoped>\n",
       "    .dataframe tbody tr th:only-of-type {\n",
       "        vertical-align: middle;\n",
       "    }\n",
       "\n",
       "    .dataframe tbody tr th {\n",
       "        vertical-align: top;\n",
       "    }\n",
       "\n",
       "    .dataframe thead th {\n",
       "        text-align: right;\n",
       "    }\n",
       "</style>\n",
       "<table border=\"1\" class=\"dataframe\">\n",
       "  <thead>\n",
       "    <tr style=\"text-align: right;\">\n",
       "      <th></th>\n",
       "      <th>CELL</th>\n",
       "      <th>DRUG</th>\n",
       "      <th>CTYPE</th>\n",
       "      <th>y_true_cls</th>\n",
       "      <th>y_true_unq_vals</th>\n",
       "      <th>y_pred_prob_median</th>\n",
       "      <th>y_pred_prob_std</th>\n",
       "      <th>y_pred_cls_0</th>\n",
       "      <th>y_pred_cls_1</th>\n",
       "    </tr>\n",
       "  </thead>\n",
       "  <tbody>\n",
       "    <tr>\n",
       "      <th>0</th>\n",
       "      <td>CTRP.NCI-H2029</td>\n",
       "      <td>CTRP.542</td>\n",
       "      <td>Lung_Small_Cell_Carcinoma</td>\n",
       "      <td>0</td>\n",
       "      <td>1</td>\n",
       "      <td>0.500314</td>\n",
       "      <td>0.090629</td>\n",
       "      <td>5</td>\n",
       "      <td>6</td>\n",
       "    </tr>\n",
       "    <tr>\n",
       "      <th>1</th>\n",
       "      <td>GDSC.CW-2</td>\n",
       "      <td>GDSC.268</td>\n",
       "      <td>Colon_Adenocarcinoma</td>\n",
       "      <td>0</td>\n",
       "      <td>1</td>\n",
       "      <td>0.500364</td>\n",
       "      <td>0.053807</td>\n",
       "      <td>5</td>\n",
       "      <td>5</td>\n",
       "    </tr>\n",
       "  </tbody>\n",
       "</table>\n",
       "</div>"
      ],
      "text/plain": [
       "             CELL      DRUG                      CTYPE  y_true_cls  \\\n",
       "0  CTRP.NCI-H2029  CTRP.542  Lung_Small_Cell_Carcinoma           0   \n",
       "1       GDSC.CW-2  GDSC.268       Colon_Adenocarcinoma           0   \n",
       "\n",
       "   y_true_unq_vals  y_pred_prob_median  y_pred_prob_std  y_pred_cls_0  \\\n",
       "0                1            0.500314         0.090629             5   \n",
       "1                1            0.500364         0.053807             5   \n",
       "\n",
       "   y_pred_cls_1  \n",
       "0             6  \n",
       "1             5  "
      ]
     },
     "metadata": {},
     "output_type": "display_data"
    }
   ],
   "source": [
    "# Least confident predictions of non-responders\n",
    "n_show = 2\n",
    "rsp_value = 0  # non-responders\n",
    "aa = sm[sm.y_true_cls==rsp_value]\n",
    "\n",
    "# Extract samples with probs >= 0.5\n",
    "aa = aa[aa.y_pred_prob_median-0.5 >= 0]\n",
    "\n",
    "print('\\nLeast confident FPs (incorrect predictions of non-responders)')\n",
    "aa = aa.sort_values('y_pred_prob_median', ascending=True)\n",
    "display(aa[:n_show].reset_index(drop=True))"
   ]
  },
  {
   "cell_type": "code",
   "execution_count": null,
   "metadata": {},
   "outputs": [],
   "source": []
  },
  {
   "cell_type": "markdown",
   "metadata": {},
   "source": [
    "## Least confident False Negatives"
   ]
  },
  {
   "cell_type": "code",
   "execution_count": 86,
   "metadata": {},
   "outputs": [
    {
     "name": "stdout",
     "output_type": "stream",
     "text": [
      "\n",
      "Least confident FNs (incorrect predictions of responders)\n"
     ]
    },
    {
     "data": {
      "text/html": [
       "<div>\n",
       "<style scoped>\n",
       "    .dataframe tbody tr th:only-of-type {\n",
       "        vertical-align: middle;\n",
       "    }\n",
       "\n",
       "    .dataframe tbody tr th {\n",
       "        vertical-align: top;\n",
       "    }\n",
       "\n",
       "    .dataframe thead th {\n",
       "        text-align: right;\n",
       "    }\n",
       "</style>\n",
       "<table border=\"1\" class=\"dataframe\">\n",
       "  <thead>\n",
       "    <tr style=\"text-align: right;\">\n",
       "      <th></th>\n",
       "      <th>CELL</th>\n",
       "      <th>DRUG</th>\n",
       "      <th>CTYPE</th>\n",
       "      <th>y_true_cls</th>\n",
       "      <th>y_true_unq_vals</th>\n",
       "      <th>y_pred_prob_median</th>\n",
       "      <th>y_pred_prob_std</th>\n",
       "      <th>y_pred_cls_0</th>\n",
       "      <th>y_pred_cls_1</th>\n",
       "    </tr>\n",
       "  </thead>\n",
       "  <tbody>\n",
       "    <tr>\n",
       "      <th>0</th>\n",
       "      <td>CTRP.BICR-18</td>\n",
       "      <td>CTRP.519</td>\n",
       "      <td>Head_and_Neck_Squamous_Cell_Carcinoma</td>\n",
       "      <td>1</td>\n",
       "      <td>1</td>\n",
       "      <td>0.499633</td>\n",
       "      <td>0.046791</td>\n",
       "      <td>5</td>\n",
       "      <td>4</td>\n",
       "    </tr>\n",
       "    <tr>\n",
       "      <th>1</th>\n",
       "      <td>CCLE.ZR751</td>\n",
       "      <td>CCLE.11</td>\n",
       "      <td>Breast_Invasive_Carcinoma</td>\n",
       "      <td>1</td>\n",
       "      <td>1</td>\n",
       "      <td>0.499590</td>\n",
       "      <td>0.080635</td>\n",
       "      <td>6</td>\n",
       "      <td>6</td>\n",
       "    </tr>\n",
       "  </tbody>\n",
       "</table>\n",
       "</div>"
      ],
      "text/plain": [
       "           CELL      DRUG                                  CTYPE  y_true_cls  \\\n",
       "0  CTRP.BICR-18  CTRP.519  Head_and_Neck_Squamous_Cell_Carcinoma           1   \n",
       "1    CCLE.ZR751   CCLE.11              Breast_Invasive_Carcinoma           1   \n",
       "\n",
       "   y_true_unq_vals  y_pred_prob_median  y_pred_prob_std  y_pred_cls_0  \\\n",
       "0                1            0.499633         0.046791             5   \n",
       "1                1            0.499590         0.080635             6   \n",
       "\n",
       "   y_pred_cls_1  \n",
       "0             4  \n",
       "1             6  "
      ]
     },
     "metadata": {},
     "output_type": "display_data"
    }
   ],
   "source": [
    "# Least confident predictions of responders\n",
    "n_show = 2\n",
    "rsp_value = 1  # responders\n",
    "aa = sm[sm.y_true_cls==rsp_value]\n",
    "\n",
    "# Extract samples with probs <= 0.5\n",
    "aa = aa[aa.y_pred_prob_median-0.5 <= 0]\n",
    "\n",
    "print('\\nLeast confident FNs (incorrect predictions of responders)')\n",
    "aa = aa.sort_values('y_pred_prob_median', ascending=False)\n",
    "display(aa[:n_show].reset_index(drop=True))"
   ]
  },
  {
   "cell_type": "code",
   "execution_count": null,
   "metadata": {},
   "outputs": [],
   "source": []
  },
  {
   "cell_type": "markdown",
   "metadata": {},
   "source": [
    "## Least confident True Negatives"
   ]
  },
  {
   "cell_type": "code",
   "execution_count": 87,
   "metadata": {},
   "outputs": [
    {
     "name": "stdout",
     "output_type": "stream",
     "text": [
      "\n",
      "Least confident TNs (correct predictions of non-responders)\n"
     ]
    },
    {
     "data": {
      "text/html": [
       "<div>\n",
       "<style scoped>\n",
       "    .dataframe tbody tr th:only-of-type {\n",
       "        vertical-align: middle;\n",
       "    }\n",
       "\n",
       "    .dataframe tbody tr th {\n",
       "        vertical-align: top;\n",
       "    }\n",
       "\n",
       "    .dataframe thead th {\n",
       "        text-align: right;\n",
       "    }\n",
       "</style>\n",
       "<table border=\"1\" class=\"dataframe\">\n",
       "  <thead>\n",
       "    <tr style=\"text-align: right;\">\n",
       "      <th></th>\n",
       "      <th>CELL</th>\n",
       "      <th>DRUG</th>\n",
       "      <th>CTYPE</th>\n",
       "      <th>y_true_cls</th>\n",
       "      <th>y_true_unq_vals</th>\n",
       "      <th>y_pred_prob_median</th>\n",
       "      <th>y_pred_prob_std</th>\n",
       "      <th>y_pred_cls_0</th>\n",
       "      <th>y_pred_cls_1</th>\n",
       "    </tr>\n",
       "  </thead>\n",
       "  <tbody>\n",
       "    <tr>\n",
       "      <th>0</th>\n",
       "      <td>GDSC.KP-2</td>\n",
       "      <td>GDSC.1004</td>\n",
       "      <td>Pancreatic_Adenocarcinoma</td>\n",
       "      <td>0</td>\n",
       "      <td>1</td>\n",
       "      <td>0.499918</td>\n",
       "      <td>0.049157</td>\n",
       "      <td>4</td>\n",
       "      <td>3</td>\n",
       "    </tr>\n",
       "    <tr>\n",
       "      <th>1</th>\n",
       "      <td>NCI60.HCT-116</td>\n",
       "      <td>NSC.760087</td>\n",
       "      <td>Colon_Adenocarcinoma</td>\n",
       "      <td>0</td>\n",
       "      <td>1</td>\n",
       "      <td>0.499827</td>\n",
       "      <td>0.058512</td>\n",
       "      <td>8</td>\n",
       "      <td>7</td>\n",
       "    </tr>\n",
       "  </tbody>\n",
       "</table>\n",
       "</div>"
      ],
      "text/plain": [
       "            CELL        DRUG                      CTYPE  y_true_cls  \\\n",
       "0      GDSC.KP-2   GDSC.1004  Pancreatic_Adenocarcinoma           0   \n",
       "1  NCI60.HCT-116  NSC.760087       Colon_Adenocarcinoma           0   \n",
       "\n",
       "   y_true_unq_vals  y_pred_prob_median  y_pred_prob_std  y_pred_cls_0  \\\n",
       "0                1            0.499918         0.049157             4   \n",
       "1                1            0.499827         0.058512             8   \n",
       "\n",
       "   y_pred_cls_1  \n",
       "0             3  \n",
       "1             7  "
      ]
     },
     "metadata": {},
     "output_type": "display_data"
    }
   ],
   "source": [
    "# Least confident predictions of non-responders\n",
    "n_show = 2\n",
    "rsp_value = 0  # non-responders\n",
    "aa = sm[sm.y_true_cls==rsp_value]\n",
    "\n",
    "# Extract samples with probs <= 0.5\n",
    "aa = aa[aa.y_pred_prob_median-0.5 <= 0]\n",
    "\n",
    "print('\\nLeast confident TNs (correct predictions of non-responders)')\n",
    "aa = aa.sort_values('y_pred_prob_median', ascending=False)\n",
    "display(aa[:n_show].reset_index(drop=True))"
   ]
  },
  {
   "cell_type": "code",
   "execution_count": null,
   "metadata": {},
   "outputs": [],
   "source": []
  }
 ],
 "metadata": {
  "kernelspec": {
   "display_name": "Python 3",
   "language": "python",
   "name": "python3"
  },
  "language_info": {
   "codemirror_mode": {
    "name": "ipython",
    "version": 3
   },
   "file_extension": ".py",
   "mimetype": "text/x-python",
   "name": "python",
   "nbconvert_exporter": "python",
   "pygments_lexer": "ipython3",
   "version": "3.7.6"
  }
 },
 "nbformat": 4,
 "nbformat_minor": 4
}
