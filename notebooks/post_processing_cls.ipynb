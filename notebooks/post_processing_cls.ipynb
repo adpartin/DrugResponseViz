{
 "cells": [
  {
   "cell_type": "markdown",
   "metadata": {},
   "source": [
    "- Most/least responsive cells\n",
    "- Most/least impactrul (damaging) drugs\n",
    "\n",
    "- Most/least predictive cells (lowest error)\n",
    "- Most/least predictive drugs (lowest error)\n",
    "\n",
    "------------\n",
    "\n",
    "- Encode count of cells/drugs\n",
    "- Separate results by study\n",
    "\n",
    "------------\n",
    "\n",
    "- https://seaborn.pydata.org/tutorial/categorical.html#categorical-tutorial\n",
    "- https://seaborn.pydata.org/tutorial/distributions.html#distribution-tutorial"
   ]
  },
  {
   "cell_type": "code",
   "execution_count": 1,
   "metadata": {},
   "outputs": [
    {
     "name": "stdout",
     "output_type": "stream",
     "text": [
      "/vol/ml/apartin/anaconda3/envs/p1/bin/python\n"
     ]
    }
   ],
   "source": [
    "!which python"
   ]
  },
  {
   "cell_type": "code",
   "execution_count": 2,
   "metadata": {},
   "outputs": [],
   "source": [
    "%load_ext autoreload\n",
    "%autoreload 2\n",
    "%matplotlib inline\n",
    "\n",
    "import warnings\n",
    "warnings.filterwarnings('ignore')\n",
    "\n",
    "import os\n",
    "import sys\n",
    "from pathlib import Path\n",
    "import numpy as np\n",
    "import pandas as pd\n",
    "import matplotlib.pyplot as plt\n",
    "import seaborn as sns\n",
    "import collections\n",
    "from glob import glob\n",
    "\n",
    "import sklearn\n",
    "import numpy as np\n",
    "import pandas as pd\n",
    "from math import sqrt"
   ]
  },
  {
   "cell_type": "code",
   "execution_count": 3,
   "metadata": {},
   "outputs": [
    {
     "name": "stdout",
     "output_type": "stream",
     "text": [
      "/vol/ml/apartin/projects/DrugResponseViz/notebooks\n"
     ]
    }
   ],
   "source": [
    "runs_dir_name = 'out_lgbm'\n",
    "file_path = Path.cwd()\n",
    "print(file_path)"
   ]
  },
  {
   "cell_type": "code",
   "execution_count": 6,
   "metadata": {},
   "outputs": [],
   "source": [
    "out_figs = file_path / 'out_figs_cls'\n",
    "os.makedirs(out_figs, exist_ok=True)"
   ]
  },
  {
   "cell_type": "code",
   "execution_count": 7,
   "metadata": {},
   "outputs": [],
   "source": [
    "runs_dir_path = Path(file_path / '..' / runs_dir_name)\n",
    "runs_dirs = [Path(p) for p in glob(str(runs_dir_path/'run_*'))]\n",
    "# pred = pd.read_csv(os.path.join(predsdir, 'dev_lgb_reg_preds.csv'))"
   ]
  },
  {
   "cell_type": "code",
   "execution_count": 8,
   "metadata": {},
   "outputs": [
    {
     "name": "stdout",
     "output_type": "stream",
     "text": [
      "(14590, 2)\n"
     ]
    },
    {
     "data": {
      "text/html": [
       "<div>\n",
       "<style scoped>\n",
       "    .dataframe tbody tr th:only-of-type {\n",
       "        vertical-align: middle;\n",
       "    }\n",
       "\n",
       "    .dataframe tbody tr th {\n",
       "        vertical-align: top;\n",
       "    }\n",
       "\n",
       "    .dataframe thead th {\n",
       "        text-align: right;\n",
       "    }\n",
       "</style>\n",
       "<table border=\"1\" class=\"dataframe\">\n",
       "  <thead>\n",
       "    <tr style=\"text-align: right;\">\n",
       "      <th></th>\n",
       "      <th>CELL</th>\n",
       "      <th>CTYPE</th>\n",
       "    </tr>\n",
       "  </thead>\n",
       "  <tbody>\n",
       "    <tr>\n",
       "      <th>0</th>\n",
       "      <td>CCLE.ALLSIL</td>\n",
       "      <td>Acute_Lymphoblastic_Leukemia</td>\n",
       "    </tr>\n",
       "    <tr>\n",
       "      <th>1</th>\n",
       "      <td>CCLE.DND41</td>\n",
       "      <td>Acute_Lymphoblastic_Leukemia</td>\n",
       "    </tr>\n",
       "  </tbody>\n",
       "</table>\n",
       "</div>"
      ],
      "text/plain": [
       "          CELL                         CTYPE\n",
       "0  CCLE.ALLSIL  Acute_Lymphoblastic_Leukemia\n",
       "1   CCLE.DND41  Acute_Lymphoblastic_Leukemia"
      ]
     },
     "metadata": {},
     "output_type": "display_data"
    }
   ],
   "source": [
    "# Load cell metadata\n",
    "cancer_types = pd.read_csv(file_path/'../data/combined_cancer_types', sep='\\t', names=['CELL', 'CTYPE'])\n",
    "print(cancer_types.shape)\n",
    "display(cancer_types[:2])\n",
    "\n",
    "# cmeta = pd.read_csv(file_path/'../data/combined_metadata_2018May.txt', sep='\\t')\n",
    "# print(cmeta.shape)\n",
    "\n",
    "# dmeta = pd.read_csv(file_path/'../data/drug_info', sep='\\t')\n",
    "# print(dmeta.shape)"
   ]
  },
  {
   "cell_type": "code",
   "execution_count": 9,
   "metadata": {},
   "outputs": [],
   "source": [
    "# mltype = 'reg'\n",
    "mltype = 'cls'"
   ]
  },
  {
   "cell_type": "code",
   "execution_count": 10,
   "metadata": {},
   "outputs": [],
   "source": [
    "def plot_target(data_to_plot, y_name, x_name, kind='box', hue_name=None, height=None, aspect=None):\n",
    "    \"\"\" Plot function. \"\"\"\n",
    "    if hue_name:\n",
    "        g = sns.catplot(data=data_to_plot, y=y_name, x=x_name, kind=kind, hue=hue_name, **args);\n",
    "    else:\n",
    "        g = sns.catplot(data=data_to_plot, y=y_name, x=x_name, kind=kind, **args);\n",
    "    return g"
   ]
  },
  {
   "cell_type": "code",
   "execution_count": null,
   "metadata": {},
   "outputs": [],
   "source": []
  },
  {
   "cell_type": "markdown",
   "metadata": {},
   "source": [
    "# Pre-proc data to analyze ML predictions\n",
    "\n",
    "Combine predictions from all runs (shuffles/splits)"
   ]
  },
  {
   "cell_type": "code",
   "execution_count": 11,
   "metadata": {},
   "outputs": [],
   "source": [
    "def reorg_cols(df):\n",
    "    cols = df.columns.tolist()\n",
    "    cols.remove('run')\n",
    "    return df[['run'] + cols]\n",
    "    \n",
    "def agg_preds_from_runs(runs_dirs, resp_thres: float=0.5):\n",
    "    \"\"\" Aggregate predictions bootstraped ML trainings.\n",
    "    Args:\n",
    "        resp_thres : response threshold for classification problem\n",
    "    \"\"\"\n",
    "    prd_te = []\n",
    "    for i, dir_name in enumerate(runs_dirs):\n",
    "        # prd_tr_ = pd.read_csv(dir_name/'preds_tr.csv')\n",
    "        # prd_vl_ = pd.read_csv(dir_name/'preds_vl.csv')\n",
    "        prd_te_ = pd.read_csv(dir_name/'preds_te.csv')\n",
    "        \n",
    "        prd_te_['err'] = abs(prd_te_['y_true'] - prd_te_['y_pred'])      # add col 'err'\n",
    "        prd_te_['run'] = str(dir_name).split(os.sep)[-1].split('_')[-1]  # add col 'run' identifier\n",
    "        prd_te.append(prd_te_)  # append run data\n",
    "\n",
    "        prd_te_['y_cls_true'] = [0 if v<resp_thres else 1 for v in prd_te_['y_true'].values]\n",
    "        # prd_te_['y_cls_pred'] = prd_te_[]\n",
    "        \n",
    "        if i%20==0:\n",
    "            print(f'Processing {dir_name}')\n",
    "            \n",
    "    # aggregate to df\n",
    "    prd_te = pd.concat(prd_te, axis=0)\n",
    "    return prd_te"
   ]
  },
  {
   "cell_type": "code",
   "execution_count": 12,
   "metadata": {},
   "outputs": [
    {
     "name": "stdout",
     "output_type": "stream",
     "text": [
      "Processing /vol/ml/apartin/projects/DrugResponseViz/notebooks/../out_lgbm/run_s000\n",
      "Processing /vol/ml/apartin/projects/DrugResponseViz/notebooks/../out_lgbm/run_s020\n",
      "Processing /vol/ml/apartin/projects/DrugResponseViz/notebooks/../out_lgbm/run_s040\n",
      "Processing /vol/ml/apartin/projects/DrugResponseViz/notebooks/../out_lgbm/run_s060\n",
      "Processing /vol/ml/apartin/projects/DrugResponseViz/notebooks/../out_lgbm/run_s080\n"
     ]
    }
   ],
   "source": [
    "# Concat preds from all runs      \n",
    "prd_te = agg_preds_from_runs(runs_dirs)\n",
    "prd_te = reorg_cols(prd_te)\n",
    "prd_te = prd_te.reset_index().rename(columns={'index': 'idx'})\n",
    "prd_te.insert(loc=2, column='source', value=[s.split('.')[0].lower() for s in prd_te['CELL']]) # add 'source' column"
   ]
  },
  {
   "cell_type": "code",
   "execution_count": 13,
   "metadata": {},
   "outputs": [
    {
     "data": {
      "text/html": [
       "<div>\n",
       "<style scoped>\n",
       "    .dataframe tbody tr th:only-of-type {\n",
       "        vertical-align: middle;\n",
       "    }\n",
       "\n",
       "    .dataframe tbody tr th {\n",
       "        vertical-align: top;\n",
       "    }\n",
       "\n",
       "    .dataframe thead th {\n",
       "        text-align: right;\n",
       "    }\n",
       "</style>\n",
       "<table border=\"1\" class=\"dataframe\">\n",
       "  <thead>\n",
       "    <tr style=\"text-align: right;\">\n",
       "      <th></th>\n",
       "      <th>idx</th>\n",
       "      <th>run</th>\n",
       "      <th>source</th>\n",
       "      <th>CELL</th>\n",
       "      <th>DRUG</th>\n",
       "      <th>AUC</th>\n",
       "      <th>y_true</th>\n",
       "      <th>y_pred</th>\n",
       "      <th>err</th>\n",
       "    </tr>\n",
       "  </thead>\n",
       "  <tbody>\n",
       "    <tr>\n",
       "      <th>0</th>\n",
       "      <td>0</td>\n",
       "      <td>s000</td>\n",
       "      <td>ctrp</td>\n",
       "      <td>CTRP.Hs-729</td>\n",
       "      <td>CTRP.116</td>\n",
       "      <td>0.8039</td>\n",
       "      <td>0.8039</td>\n",
       "      <td>0.837310</td>\n",
       "      <td>0.033410</td>\n",
       "    </tr>\n",
       "    <tr>\n",
       "      <th>1</th>\n",
       "      <td>1</td>\n",
       "      <td>s000</td>\n",
       "      <td>ctrp</td>\n",
       "      <td>CTRP.NCI-H1184</td>\n",
       "      <td>CTRP.177</td>\n",
       "      <td>0.8107</td>\n",
       "      <td>0.8107</td>\n",
       "      <td>0.837507</td>\n",
       "      <td>0.026807</td>\n",
       "    </tr>\n",
       "  </tbody>\n",
       "</table>\n",
       "</div>"
      ],
      "text/plain": [
       "   idx   run source            CELL      DRUG     AUC  y_true    y_pred  \\\n",
       "0    0  s000   ctrp     CTRP.Hs-729  CTRP.116  0.8039  0.8039  0.837310   \n",
       "1    1  s000   ctrp  CTRP.NCI-H1184  CTRP.177  0.8107  0.8107  0.837507   \n",
       "\n",
       "        err  \n",
       "0  0.033410  \n",
       "1  0.026807  "
      ]
     },
     "execution_count": 13,
     "metadata": {},
     "output_type": "execute_result"
    }
   ],
   "source": [
    "prd_te[:2]"
   ]
  },
  {
   "cell_type": "code",
   "execution_count": 12,
   "metadata": {},
   "outputs": [
    {
     "name": "stdout",
     "output_type": "stream",
     "text": [
      "(5299400, 9)\n",
      "(5299400, 10)\n"
     ]
    }
   ],
   "source": [
    "# Add meta\n",
    "print(prd_te.shape)\n",
    "prd_te = pd.merge(prd_te, cancer_types, how='left', on='CELL')\n",
    "print(prd_te.shape)"
   ]
  },
  {
   "cell_type": "code",
   "execution_count": null,
   "metadata": {},
   "outputs": [],
   "source": []
  },
  {
   "cell_type": "markdown",
   "metadata": {},
   "source": [
    "# Pre-proc data to analyze raw response (w/o preds)\n",
    "Get all responses from Top21.\n",
    "\n",
    "Instead of Top21, we can use the entire response dataframe(?)"
   ]
  },
  {
   "cell_type": "code",
   "execution_count": 13,
   "metadata": {},
   "outputs": [
    {
     "data": {
      "text/html": [
       "<div>\n",
       "<style scoped>\n",
       "    .dataframe tbody tr th:only-of-type {\n",
       "        vertical-align: middle;\n",
       "    }\n",
       "\n",
       "    .dataframe tbody tr th {\n",
       "        vertical-align: top;\n",
       "    }\n",
       "\n",
       "    .dataframe thead th {\n",
       "        text-align: right;\n",
       "    }\n",
       "</style>\n",
       "<table border=\"1\" class=\"dataframe\">\n",
       "  <thead>\n",
       "    <tr style=\"text-align: right;\">\n",
       "      <th></th>\n",
       "      <th>idx</th>\n",
       "      <th>source</th>\n",
       "      <th>CELL</th>\n",
       "      <th>DRUG</th>\n",
       "      <th>AUC</th>\n",
       "      <th>y_true</th>\n",
       "      <th>y_pred</th>\n",
       "    </tr>\n",
       "  </thead>\n",
       "  <tbody>\n",
       "    <tr>\n",
       "      <th>0</th>\n",
       "      <td>0</td>\n",
       "      <td>ctrp</td>\n",
       "      <td>CTRP.JHOC-5</td>\n",
       "      <td>CTRP.391</td>\n",
       "      <td>0.8934</td>\n",
       "      <td>0.8934</td>\n",
       "      <td>0.824278</td>\n",
       "    </tr>\n",
       "    <tr>\n",
       "      <th>1</th>\n",
       "      <td>1</td>\n",
       "      <td>gdsc</td>\n",
       "      <td>GDSC.CAKI-1</td>\n",
       "      <td>GDSC.157</td>\n",
       "      <td>0.6228</td>\n",
       "      <td>0.6228</td>\n",
       "      <td>0.717275</td>\n",
       "    </tr>\n",
       "  </tbody>\n",
       "</table>\n",
       "</div>"
      ],
      "text/plain": [
       "   idx source         CELL      DRUG     AUC  y_true    y_pred\n",
       "0    0   ctrp  CTRP.JHOC-5  CTRP.391  0.8934  0.8934  0.824278\n",
       "1    1   gdsc  GDSC.CAKI-1  GDSC.157  0.6228  0.6228  0.717275"
      ]
     },
     "metadata": {},
     "output_type": "display_data"
    }
   ],
   "source": [
    "dir_name = runs_dirs[0]\n",
    "prd_tr_ = pd.read_csv(dir_name/'preds_tr.csv')\n",
    "prd_vl_ = pd.read_csv(dir_name/'preds_vl.csv')\n",
    "prd_te_ = pd.read_csv(dir_name/'preds_te.csv')\n",
    "rsp = pd.concat([prd_tr_, prd_vl_, prd_te_], axis=0)\n",
    "rsp = rsp.reset_index().rename(columns={'index': 'idx'})\n",
    "rsp.insert(loc=1, column='source', value=[s.split('.')[0].lower() for s in rsp['CELL']]) # add 'source' column\n",
    "\n",
    "display(rsp[:2])"
   ]
  },
  {
   "cell_type": "code",
   "execution_count": 14,
   "metadata": {},
   "outputs": [
    {
     "name": "stdout",
     "output_type": "stream",
     "text": [
      "(529940, 7)\n",
      "(529940, 8)\n"
     ]
    }
   ],
   "source": [
    "# Add meta\n",
    "print(rsp.shape)\n",
    "rsp = pd.merge(rsp, cancer_types, how='left', on='CELL')\n",
    "print(rsp.shape)"
   ]
  },
  {
   "cell_type": "code",
   "execution_count": null,
   "metadata": {},
   "outputs": [],
   "source": []
  },
  {
   "cell_type": "markdown",
   "metadata": {},
   "source": [
    "# Cell Responsiveness\n",
    "\n",
    "Are the cell names consistent across sources?"
   ]
  },
  {
   "cell_type": "code",
   "execution_count": 15,
   "metadata": {},
   "outputs": [],
   "source": [
    "def agg_data_by_dim(df, col_name, dim):\n",
    "    \"\"\"\n",
    "    Args:\n",
    "        df  : \n",
    "        col : 'auc', 'err', etc.\n",
    "        dim : either 'CELL' or 'DRUG'\n",
    "    \"\"\"\n",
    "    aa = df.copy()\n",
    "    \n",
    "    center_col, center_func = col_name.lower()+'_median', np.median\n",
    "    spread_col, spread_func = col_name.lower()+'_std', np.std\n",
    "    aa[center_col] = aa[col_name]\n",
    "    aa[spread_col] = aa[col_name]\n",
    "            \n",
    "    # aa = aa.groupby([dim]).agg({mean_col: np.mean, std_col: np.std, 'idx': len})\n",
    "    if dim=='CELL':\n",
    "        # aa = aa.groupby([dim]).agg({center_col: np.mean, std_col: np.std, 'idx': len, 'CTYPE': np.unique})\n",
    "        aa = aa.groupby([dim]).agg({center_col: center_func, spread_col: np.std, 'idx': len, 'CTYPE': np.unique})\n",
    "    else:\n",
    "        aa = aa.groupby([dim]).agg({center_col: center_func, spread_col: np.std, 'idx': len})\n",
    "    aa = aa.rename(columns={'idx': 'cnt'})\n",
    "    aa = aa.reset_index()        \n",
    "    return aa"
   ]
  },
  {
   "cell_type": "code",
   "execution_count": 16,
   "metadata": {},
   "outputs": [],
   "source": [
    "# def agg_rsp_by_dim(df, dim):\n",
    "#     \"\"\" Aggregate response by 'dim' where dim is either 'CELL' or 'DRUG'. \"\"\"\n",
    "#     df_ = df.copy()\n",
    "    \n",
    "#     mean_col = 'auc_mean'\n",
    "#     std_col  = 'auc_std'\n",
    "#     df_[mean_col] = df_['AUC']\n",
    "#     df_[std_col]  = df_['AUC']\n",
    "#     # rsp_[f'{col.lower()}_mean'] = rsp_[col]\n",
    "#     # rsp_[f'{col.lower()}_std'] = rsp_[col]\n",
    "        \n",
    "#     # df_ = df_.groupby([dim]).agg({mean_col: np.mean, std_col: np.std, 'idx': len})\n",
    "#     if dim=='CELL':\n",
    "#         df_ = df_.groupby([dim]).agg({mean_col: np.mean, std_col: np.std, 'idx': len, 'CTYPE': np.unique})\n",
    "#     else:\n",
    "#         df_ = df_.groupby([dim]).agg({mean_col: np.mean, std_col: np.std, 'idx': len})\n",
    "#     df_ = df_.rename(columns={'idx': 'cnt'})\n",
    "#     df_ = df_.reset_index()\n",
    "#     return df_    "
   ]
  },
  {
   "cell_type": "code",
   "execution_count": 17,
   "metadata": {},
   "outputs": [
    {
     "data": {
      "text/html": [
       "<div>\n",
       "<style scoped>\n",
       "    .dataframe tbody tr th:only-of-type {\n",
       "        vertical-align: middle;\n",
       "    }\n",
       "\n",
       "    .dataframe tbody tr th {\n",
       "        vertical-align: top;\n",
       "    }\n",
       "\n",
       "    .dataframe thead th {\n",
       "        text-align: right;\n",
       "    }\n",
       "</style>\n",
       "<table border=\"1\" class=\"dataframe\">\n",
       "  <thead>\n",
       "    <tr style=\"text-align: right;\">\n",
       "      <th></th>\n",
       "      <th>CELL</th>\n",
       "      <th>auc_median</th>\n",
       "      <th>auc_std</th>\n",
       "      <th>cnt</th>\n",
       "      <th>CTYPE</th>\n",
       "    </tr>\n",
       "  </thead>\n",
       "  <tbody>\n",
       "    <tr>\n",
       "      <th>0</th>\n",
       "      <td>CCLE.22RV1</td>\n",
       "      <td>0.80995</td>\n",
       "      <td>0.162658</td>\n",
       "      <td>24</td>\n",
       "      <td>Prostate_Adenocarcinoma</td>\n",
       "    </tr>\n",
       "    <tr>\n",
       "      <th>1</th>\n",
       "      <td>CCLE.42MGBA</td>\n",
       "      <td>0.80755</td>\n",
       "      <td>0.172672</td>\n",
       "      <td>20</td>\n",
       "      <td>Glioblastoma_Multiforme</td>\n",
       "    </tr>\n",
       "  </tbody>\n",
       "</table>\n",
       "</div>"
      ],
      "text/plain": [
       "          CELL  auc_median   auc_std  cnt                    CTYPE\n",
       "0   CCLE.22RV1     0.80995  0.162658   24  Prostate_Adenocarcinoma\n",
       "1  CCLE.42MGBA     0.80755  0.172672   20  Glioblastoma_Multiforme"
      ]
     },
     "execution_count": 17,
     "metadata": {},
     "output_type": "execute_result"
    }
   ],
   "source": [
    "dim='CELL'\n",
    "col_name='AUC'\n",
    "# rsp_cell = agg_rsp_by_dim(rsp, dim=dim)\n",
    "rsp_cell = agg_data_by_dim(rsp, col_name=col_name, dim=dim)\n",
    "rsp_cell[:2]"
   ]
  },
  {
   "cell_type": "code",
   "execution_count": 18,
   "metadata": {},
   "outputs": [
    {
     "data": {
      "text/html": [
       "<div>\n",
       "<style scoped>\n",
       "    .dataframe tbody tr th:only-of-type {\n",
       "        vertical-align: middle;\n",
       "    }\n",
       "\n",
       "    .dataframe tbody tr th {\n",
       "        vertical-align: top;\n",
       "    }\n",
       "\n",
       "    .dataframe thead th {\n",
       "        text-align: right;\n",
       "    }\n",
       "</style>\n",
       "<table border=\"1\" class=\"dataframe\">\n",
       "  <thead>\n",
       "    <tr style=\"text-align: right;\">\n",
       "      <th></th>\n",
       "      <th>CELL</th>\n",
       "      <th>auc_median</th>\n",
       "      <th>auc_std</th>\n",
       "      <th>cnt</th>\n",
       "      <th>CTYPE</th>\n",
       "    </tr>\n",
       "  </thead>\n",
       "  <tbody>\n",
       "    <tr>\n",
       "      <th>427</th>\n",
       "      <td>CTRP.HCC-33</td>\n",
       "      <td>0.37785</td>\n",
       "      <td>0.219620</td>\n",
       "      <td>4</td>\n",
       "      <td>Lung_Small_Cell_Carcinoma</td>\n",
       "    </tr>\n",
       "    <tr>\n",
       "      <th>729</th>\n",
       "      <td>CTRP.SCLC-21H</td>\n",
       "      <td>0.40490</td>\n",
       "      <td>0.192537</td>\n",
       "      <td>15</td>\n",
       "      <td>Lung_Small_Cell_Carcinoma</td>\n",
       "    </tr>\n",
       "  </tbody>\n",
       "</table>\n",
       "</div>"
      ],
      "text/plain": [
       "              CELL  auc_median   auc_std  cnt                      CTYPE\n",
       "427    CTRP.HCC-33     0.37785  0.219620    4  Lung_Small_Cell_Carcinoma\n",
       "729  CTRP.SCLC-21H     0.40490  0.192537   15  Lung_Small_Cell_Carcinoma"
      ]
     },
     "metadata": {},
     "output_type": "display_data"
    },
    {
     "data": {
      "text/html": [
       "<div>\n",
       "<style scoped>\n",
       "    .dataframe tbody tr th:only-of-type {\n",
       "        vertical-align: middle;\n",
       "    }\n",
       "\n",
       "    .dataframe tbody tr th {\n",
       "        vertical-align: top;\n",
       "    }\n",
       "\n",
       "    .dataframe thead th {\n",
       "        text-align: right;\n",
       "    }\n",
       "</style>\n",
       "<table border=\"1\" class=\"dataframe\">\n",
       "  <thead>\n",
       "    <tr style=\"text-align: right;\">\n",
       "      <th></th>\n",
       "      <th>CELL</th>\n",
       "      <th>auc_median</th>\n",
       "      <th>auc_std</th>\n",
       "      <th>cnt</th>\n",
       "      <th>CTYPE</th>\n",
       "    </tr>\n",
       "  </thead>\n",
       "  <tbody>\n",
       "    <tr>\n",
       "      <th>1141</th>\n",
       "      <td>GDSC.NCI-H2291</td>\n",
       "      <td>0.96590</td>\n",
       "      <td>0.116084</td>\n",
       "      <td>212</td>\n",
       "      <td>Lung_Adenocarcinoma</td>\n",
       "    </tr>\n",
       "    <tr>\n",
       "      <th>746</th>\n",
       "      <td>CTRP.SK-MEL-28</td>\n",
       "      <td>0.96675</td>\n",
       "      <td>0.088636</td>\n",
       "      <td>420</td>\n",
       "      <td>Skin_Cutaneous_Melanoma</td>\n",
       "    </tr>\n",
       "  </tbody>\n",
       "</table>\n",
       "</div>"
      ],
      "text/plain": [
       "                CELL  auc_median   auc_std  cnt                    CTYPE\n",
       "1141  GDSC.NCI-H2291     0.96590  0.116084  212      Lung_Adenocarcinoma\n",
       "746   CTRP.SK-MEL-28     0.96675  0.088636  420  Skin_Cutaneous_Melanoma"
      ]
     },
     "metadata": {},
     "output_type": "display_data"
    }
   ],
   "source": [
    "# Get the N most responsive cells\n",
    "N = 5\n",
    "col = col_name.lower()+'_median'\n",
    "\n",
    "# Most responsive cells\n",
    "most_rsp_cells = rsp_cell.sort_values(col, ascending=True)[:N]\n",
    "display(most_rsp_cells[:2])\n",
    "\n",
    "# Least responsive cells\n",
    "least_rsp_cells = rsp_cell.sort_values(col, ascending=True)[-N:]\n",
    "display(least_rsp_cells[:2])"
   ]
  },
  {
   "cell_type": "code",
   "execution_count": 19,
   "metadata": {},
   "outputs": [
    {
     "name": "stdout",
     "output_type": "stream",
     "text": [
      "['CTRP.BEN' 'CTRP.SK-MEL-28' 'CTRP.LS-411N' 'CTRP.CL-34' 'GDSC.SW1116'\n",
      " 'GDSC.NCI-H2291' 'gCSI.IGROV-1' 'gCSI.CI-1' 'CTRP.SCLC-21H' 'CTRP.HCC-33']\n",
      "(1658, 8)\n"
     ]
    },
    {
     "data": {
      "text/html": [
       "<div>\n",
       "<style scoped>\n",
       "    .dataframe tbody tr th:only-of-type {\n",
       "        vertical-align: middle;\n",
       "    }\n",
       "\n",
       "    .dataframe tbody tr th {\n",
       "        vertical-align: top;\n",
       "    }\n",
       "\n",
       "    .dataframe thead th {\n",
       "        text-align: right;\n",
       "    }\n",
       "</style>\n",
       "<table border=\"1\" class=\"dataframe\">\n",
       "  <thead>\n",
       "    <tr style=\"text-align: right;\">\n",
       "      <th></th>\n",
       "      <th>idx</th>\n",
       "      <th>source</th>\n",
       "      <th>CELL</th>\n",
       "      <th>DRUG</th>\n",
       "      <th>AUC</th>\n",
       "      <th>y_true</th>\n",
       "      <th>y_pred</th>\n",
       "      <th>CTYPE</th>\n",
       "    </tr>\n",
       "  </thead>\n",
       "  <tbody>\n",
       "    <tr>\n",
       "      <th>311</th>\n",
       "      <td>311</td>\n",
       "      <td>ctrp</td>\n",
       "      <td>CTRP.BEN</td>\n",
       "      <td>CTRP.417</td>\n",
       "      <td>0.9999</td>\n",
       "      <td>0.9999</td>\n",
       "      <td>1.001199</td>\n",
       "      <td>Lung_Non-Small_Cell_Carcinoma</td>\n",
       "    </tr>\n",
       "    <tr>\n",
       "      <th>413</th>\n",
       "      <td>413</td>\n",
       "      <td>ctrp</td>\n",
       "      <td>CTRP.SK-MEL-28</td>\n",
       "      <td>CTRP.105</td>\n",
       "      <td>0.9906</td>\n",
       "      <td>0.9906</td>\n",
       "      <td>0.971284</td>\n",
       "      <td>Skin_Cutaneous_Melanoma</td>\n",
       "    </tr>\n",
       "  </tbody>\n",
       "</table>\n",
       "</div>"
      ],
      "text/plain": [
       "     idx source            CELL      DRUG     AUC  y_true    y_pred  \\\n",
       "311  311   ctrp        CTRP.BEN  CTRP.417  0.9999  0.9999  1.001199   \n",
       "413  413   ctrp  CTRP.SK-MEL-28  CTRP.105  0.9906  0.9906  0.971284   \n",
       "\n",
       "                             CTYPE  \n",
       "311  Lung_Non-Small_Cell_Carcinoma  \n",
       "413        Skin_Cutaneous_Melanoma  "
      ]
     },
     "metadata": {},
     "output_type": "display_data"
    }
   ],
   "source": [
    "# Agg most and least responsive cells\n",
    "names = most_rsp_cells[dim].tolist()\n",
    "names.extend( least_rsp_cells[dim].tolist() )\n",
    "\n",
    "tmp_rsp = rsp[ rsp[dim].isin(names) ].copy()\n",
    "print(tmp_rsp[dim].unique())\n",
    "print(tmp_rsp.shape)\n",
    "\n",
    "display(tmp_rsp[:2])"
   ]
  },
  {
   "cell_type": "code",
   "execution_count": 22,
   "metadata": {},
   "outputs": [
    {
     "data": {
      "image/png": "[encoded data removed]",
      "text/plain": [
       "<Figure size 1067.5x504 with 1 Axes>"
      ]
     },
     "metadata": {
      "needs_background": "light"
     },
     "output_type": "display_data"
    }
   ],
   "source": [
    "# https://www.drawingfromdata.com/setting-figure-size-using-seaborn-and-matplotlib\n",
    "y_name='CELL'\n",
    "x_name='AUC'\n",
    "hue_name='source'\n",
    "# hue_name='CTYPE'\n",
    "data_to_plot=tmp_rsp\n",
    "args={'height': 7, 'aspect': 2}\n",
    "    \n",
    "# g = plot_target(data_to_plot, y_name=y_name, x_name=x_name, kind='strip', hue_name=hue_name, **args)\n",
    "g = plot_target(data_to_plot, y_name=y_name, x_name=x_name, kind='box', hue_name=hue_name, **args)\n",
    "# g = plot_target(data_to_plot, y_name=y_name, x_name=x_name, kind='violin', hue_name=hue_name, **args)\n",
    "\n",
    "plt.title('Cell Response')\n",
    "plt.savefig(out_figs/f'cell_response_{hue_name.lower()}.png', dpi=100)"
   ]
  },
  {
   "cell_type": "code",
   "execution_count": 21,
   "metadata": {},
   "outputs": [],
   "source": [
    "# fig, ax = plt.subplots()\n",
    "# rects1 = ax.barh(y=dd['CELL'], width=dd['auc_median'], xerr=dd['auc_std'], align='center', label='Men')"
   ]
  },
  {
   "cell_type": "code",
   "execution_count": null,
   "metadata": {},
   "outputs": [],
   "source": []
  },
  {
   "cell_type": "markdown",
   "metadata": {},
   "source": [
    "# Drug Impactfulness"
   ]
  },
  {
   "cell_type": "code",
   "execution_count": 23,
   "metadata": {},
   "outputs": [],
   "source": [
    "dim='DRUG'\n",
    "col_name='AUC'\n",
    "rsp_drug = agg_data_by_dim(rsp, col_name=col_name, dim=dim)\n",
    "rsp_drug = rsp_drug.reset_index()"
   ]
  },
  {
   "cell_type": "code",
   "execution_count": 25,
   "metadata": {},
   "outputs": [
    {
     "data": {
      "text/html": [
       "<div>\n",
       "<style scoped>\n",
       "    .dataframe tbody tr th:only-of-type {\n",
       "        vertical-align: middle;\n",
       "    }\n",
       "\n",
       "    .dataframe tbody tr th {\n",
       "        vertical-align: top;\n",
       "    }\n",
       "\n",
       "    .dataframe thead th {\n",
       "        text-align: right;\n",
       "    }\n",
       "</style>\n",
       "<table border=\"1\" class=\"dataframe\">\n",
       "  <thead>\n",
       "    <tr style=\"text-align: right;\">\n",
       "      <th></th>\n",
       "      <th>index</th>\n",
       "      <th>DRUG</th>\n",
       "      <th>auc_median</th>\n",
       "      <th>auc_std</th>\n",
       "      <th>cnt</th>\n",
       "    </tr>\n",
       "  </thead>\n",
       "  <tbody>\n",
       "    <tr>\n",
       "      <th>1139</th>\n",
       "      <td>1139</td>\n",
       "      <td>NSC.747973</td>\n",
       "      <td>0.1712</td>\n",
       "      <td>0.145005</td>\n",
       "      <td>162</td>\n",
       "    </tr>\n",
       "    <tr>\n",
       "      <th>553</th>\n",
       "      <td>553</td>\n",
       "      <td>GDSC.104</td>\n",
       "      <td>0.2626</td>\n",
       "      <td>0.202973</td>\n",
       "      <td>185</td>\n",
       "    </tr>\n",
       "  </tbody>\n",
       "</table>\n",
       "</div>"
      ],
      "text/plain": [
       "      index        DRUG  auc_median   auc_std  cnt\n",
       "1139   1139  NSC.747973      0.1712  0.145005  162\n",
       "553     553    GDSC.104      0.2626  0.202973  185"
      ]
     },
     "metadata": {},
     "output_type": "display_data"
    },
    {
     "data": {
      "text/html": [
       "<div>\n",
       "<style scoped>\n",
       "    .dataframe tbody tr th:only-of-type {\n",
       "        vertical-align: middle;\n",
       "    }\n",
       "\n",
       "    .dataframe tbody tr th {\n",
       "        vertical-align: top;\n",
       "    }\n",
       "\n",
       "    .dataframe thead th {\n",
       "        text-align: right;\n",
       "    }\n",
       "</style>\n",
       "<table border=\"1\" class=\"dataframe\">\n",
       "  <thead>\n",
       "    <tr style=\"text-align: right;\">\n",
       "      <th></th>\n",
       "      <th>index</th>\n",
       "      <th>DRUG</th>\n",
       "      <th>auc_median</th>\n",
       "      <th>auc_std</th>\n",
       "      <th>cnt</th>\n",
       "    </tr>\n",
       "  </thead>\n",
       "  <tbody>\n",
       "    <tr>\n",
       "      <th>916</th>\n",
       "      <td>916</td>\n",
       "      <td>NSC.624780</td>\n",
       "      <td>0.99910</td>\n",
       "      <td>0.007719</td>\n",
       "      <td>25</td>\n",
       "    </tr>\n",
       "    <tr>\n",
       "      <th>907</th>\n",
       "      <td>907</td>\n",
       "      <td>NSC.619130</td>\n",
       "      <td>0.99915</td>\n",
       "      <td>0.008412</td>\n",
       "      <td>46</td>\n",
       "    </tr>\n",
       "  </tbody>\n",
       "</table>\n",
       "</div>"
      ],
      "text/plain": [
       "     index        DRUG  auc_median   auc_std  cnt\n",
       "916    916  NSC.624780     0.99910  0.007719   25\n",
       "907    907  NSC.619130     0.99915  0.008412   46"
      ]
     },
     "metadata": {},
     "output_type": "display_data"
    }
   ],
   "source": [
    "# Get the N most and least impactful drugs\n",
    "N = 5\n",
    "col = col_name.lower()+'_median'\n",
    "\n",
    "# Most responsive cells\n",
    "most_rsp_drugs = rsp_drug.sort_values(col, ascending=True)[:N]\n",
    "display(most_rsp_drugs[:2])\n",
    "\n",
    "# Least responsive cells\n",
    "least_rsp_drugs = rsp_drug.sort_values(col, ascending=True)[-N:]\n",
    "display(least_rsp_drugs[:2])"
   ]
  },
  {
   "cell_type": "code",
   "execution_count": 26,
   "metadata": {},
   "outputs": [
    {
     "name": "stdout",
     "output_type": "stream",
     "text": [
      "['GDSC.268' 'GDSC.1001' 'NSC.747973' 'CTRP.309' 'GDSC.104' 'GDSC.201'\n",
      " 'NSC.619130' 'NSC.624360' 'NSC.750679' 'NSC.624780']\n",
      "(2312, 8)\n"
     ]
    }
   ],
   "source": [
    "# Agg most and least impactful drugs\n",
    "names = most_rsp_drugs[dim].tolist()\n",
    "names.extend( least_rsp_drugs[dim].tolist() )\n",
    "\n",
    "tmp_rsp = rsp[ rsp[dim].isin(names) ].copy()\n",
    "print(tmp_rsp[dim].unique())\n",
    "print(tmp_rsp.shape)"
   ]
  },
  {
   "cell_type": "code",
   "execution_count": 28,
   "metadata": {},
   "outputs": [
    {
     "data": {
      "image/png": "[encoded data removed]",
      "text/plain": [
       "<Figure size 1071.38x504 with 1 Axes>"
      ]
     },
     "metadata": {
      "needs_background": "light"
     },
     "output_type": "display_data"
    }
   ],
   "source": [
    "# https://www.drawingfromdata.com/setting-figure-size-using-seaborn-and-matplotlib\n",
    "y_name='DRUG'\n",
    "x_name='AUC'\n",
    "hue_name='source'\n",
    "# hue_name='DTYPE'\n",
    "data_to_plot=tmp_rsp\n",
    "args={'height': 7, 'aspect': 2}\n",
    "    \n",
    "# g = plot_target(data_to_plot, y_name=y_name, x_name=x_name, kind='strip', hue_name=hue_name, **args)\n",
    "g = plot_target(data_to_plot, y_name=y_name, x_name=x_name, kind='box', hue_name=hue_name, **args)\n",
    "# g = plot_target(data_to_plot, y_name=y_name, x_name=x_name, kind='violin', hue_name=hue_name, **args)\n",
    "\n",
    "plt.title('Drug Response')\n",
    "plt.savefig(out_figs/f'drug_response_{hue_name.lower()}.png', dpi=100)"
   ]
  },
  {
   "cell_type": "code",
   "execution_count": null,
   "metadata": {},
   "outputs": [],
   "source": []
  },
  {
   "cell_type": "markdown",
   "metadata": {},
   "source": [
    "# Cell Predictiveness"
   ]
  },
  {
   "cell_type": "code",
   "execution_count": 26,
   "metadata": {},
   "outputs": [],
   "source": [
    "def agg_prd_by_dim(df, dim):\n",
    "    df_ = df.copy()\n",
    "    \n",
    "    # mean_col = 'err_mean', np.mean\n",
    "    center_col, center_func = 'err_median', np.median\n",
    "    spread_col, spread_func  = 'err_std', np.std\n",
    "    df_[center_col] = df_['err']\n",
    "    df_[spread_col]  = df_['err']\n",
    "    # rsp_[f'{col.lower()}_mean'] = rsp_[col]\n",
    "    # rsp_[f'{col.lower()}_std'] = rsp_[col]\n",
    "        \n",
    "    # df_ = df_.groupby([dim]).agg({mean_col: np.mean, std_col: np.std, 'idx': len})\n",
    "    if dim=='CELL':\n",
    "        # df_ = df_.groupby([dim]).agg({center_col: np.mean, std_col: np.std, 'idx': len, 'CTYPE': np.unique})\n",
    "        df_ = df_.groupby([dim]).agg({center_col: center_func, spread_col: np.std, 'idx': len, 'CTYPE': np.unique})\n",
    "    else:\n",
    "        df_ = df_.groupby([dim]).agg({center_col: center_func, spread_col: np.std, 'idx': len})\n",
    "    df_ = df_.rename(columns={'idx': 'cnt'})\n",
    "    df_ = df_.reset_index()        \n",
    "    return df_  "
   ]
  },
  {
   "cell_type": "code",
   "execution_count": 29,
   "metadata": {},
   "outputs": [
    {
     "data": {
      "text/html": [
       "<div>\n",
       "<style scoped>\n",
       "    .dataframe tbody tr th:only-of-type {\n",
       "        vertical-align: middle;\n",
       "    }\n",
       "\n",
       "    .dataframe tbody tr th {\n",
       "        vertical-align: top;\n",
       "    }\n",
       "\n",
       "    .dataframe thead th {\n",
       "        text-align: right;\n",
       "    }\n",
       "</style>\n",
       "<table border=\"1\" class=\"dataframe\">\n",
       "  <thead>\n",
       "    <tr style=\"text-align: right;\">\n",
       "      <th></th>\n",
       "      <th>CELL</th>\n",
       "      <th>err_median</th>\n",
       "      <th>err_std</th>\n",
       "      <th>cnt</th>\n",
       "      <th>CTYPE</th>\n",
       "    </tr>\n",
       "  </thead>\n",
       "  <tbody>\n",
       "    <tr>\n",
       "      <th>0</th>\n",
       "      <td>CCLE.22RV1</td>\n",
       "      <td>0.050735</td>\n",
       "      <td>0.060342</td>\n",
       "      <td>234</td>\n",
       "      <td>Prostate_Adenocarcinoma</td>\n",
       "    </tr>\n",
       "    <tr>\n",
       "      <th>1</th>\n",
       "      <td>CCLE.42MGBA</td>\n",
       "      <td>0.062824</td>\n",
       "      <td>0.083734</td>\n",
       "      <td>210</td>\n",
       "      <td>Glioblastoma_Multiforme</td>\n",
       "    </tr>\n",
       "  </tbody>\n",
       "</table>\n",
       "</div>"
      ],
      "text/plain": [
       "          CELL  err_median   err_std  cnt                    CTYPE\n",
       "0   CCLE.22RV1    0.050735  0.060342  234  Prostate_Adenocarcinoma\n",
       "1  CCLE.42MGBA    0.062824  0.083734  210  Glioblastoma_Multiforme"
      ]
     },
     "execution_count": 29,
     "metadata": {},
     "output_type": "execute_result"
    }
   ],
   "source": [
    "dim='CELL'\n",
    "col_name='err'\n",
    "# prd_cell = agg_prd_by_dim(prd_te, dim=dim)\n",
    "prd_cell = agg_data_by_dim(prd_te, col_name=col_name, dim=dim)\n",
    "prd_cell[:2]"
   ]
  },
  {
   "cell_type": "code",
   "execution_count": 30,
   "metadata": {},
   "outputs": [
    {
     "data": {
      "text/html": [
       "<div>\n",
       "<style scoped>\n",
       "    .dataframe tbody tr th:only-of-type {\n",
       "        vertical-align: middle;\n",
       "    }\n",
       "\n",
       "    .dataframe tbody tr th {\n",
       "        vertical-align: top;\n",
       "    }\n",
       "\n",
       "    .dataframe thead th {\n",
       "        text-align: right;\n",
       "    }\n",
       "</style>\n",
       "<table border=\"1\" class=\"dataframe\">\n",
       "  <thead>\n",
       "    <tr style=\"text-align: right;\">\n",
       "      <th></th>\n",
       "      <th>CELL</th>\n",
       "      <th>err_median</th>\n",
       "      <th>err_std</th>\n",
       "      <th>cnt</th>\n",
       "      <th>CTYPE</th>\n",
       "    </tr>\n",
       "  </thead>\n",
       "  <tbody>\n",
       "    <tr>\n",
       "      <th>1432</th>\n",
       "      <td>gCSI.HCC2218</td>\n",
       "      <td>0.017756</td>\n",
       "      <td>0.080157</td>\n",
       "      <td>49</td>\n",
       "      <td>Breast_Invasive_Carcinoma</td>\n",
       "    </tr>\n",
       "    <tr>\n",
       "      <th>1495</th>\n",
       "      <td>gCSI.MEWO</td>\n",
       "      <td>0.020751</td>\n",
       "      <td>0.043211</td>\n",
       "      <td>167</td>\n",
       "      <td>Skin_Cutaneous_Melanoma</td>\n",
       "    </tr>\n",
       "  </tbody>\n",
       "</table>\n",
       "</div>"
      ],
      "text/plain": [
       "              CELL  err_median   err_std  cnt                      CTYPE\n",
       "1432  gCSI.HCC2218    0.017756  0.080157   49  Breast_Invasive_Carcinoma\n",
       "1495     gCSI.MEWO    0.020751  0.043211  167    Skin_Cutaneous_Melanoma"
      ]
     },
     "metadata": {},
     "output_type": "display_data"
    },
    {
     "data": {
      "text/html": [
       "<div>\n",
       "<style scoped>\n",
       "    .dataframe tbody tr th:only-of-type {\n",
       "        vertical-align: middle;\n",
       "    }\n",
       "\n",
       "    .dataframe tbody tr th {\n",
       "        vertical-align: top;\n",
       "    }\n",
       "\n",
       "    .dataframe thead th {\n",
       "        text-align: right;\n",
       "    }\n",
       "</style>\n",
       "<table border=\"1\" class=\"dataframe\">\n",
       "  <thead>\n",
       "    <tr style=\"text-align: right;\">\n",
       "      <th></th>\n",
       "      <th>CELL</th>\n",
       "      <th>err_median</th>\n",
       "      <th>err_std</th>\n",
       "      <th>cnt</th>\n",
       "      <th>CTYPE</th>\n",
       "    </tr>\n",
       "  </thead>\n",
       "  <tbody>\n",
       "    <tr>\n",
       "      <th>1463</th>\n",
       "      <td>gCSI.KMM-1</td>\n",
       "      <td>0.156426</td>\n",
       "      <td>0.119862</td>\n",
       "      <td>138</td>\n",
       "      <td>Lymphoid_Leukemia</td>\n",
       "    </tr>\n",
       "    <tr>\n",
       "      <th>1470</th>\n",
       "      <td>gCSI.KU812</td>\n",
       "      <td>0.156618</td>\n",
       "      <td>0.065952</td>\n",
       "      <td>163</td>\n",
       "      <td>Chronic_Myeloid_Leukemia</td>\n",
       "    </tr>\n",
       "  </tbody>\n",
       "</table>\n",
       "</div>"
      ],
      "text/plain": [
       "            CELL  err_median   err_std  cnt                     CTYPE\n",
       "1463  gCSI.KMM-1    0.156426  0.119862  138         Lymphoid_Leukemia\n",
       "1470  gCSI.KU812    0.156618  0.065952  163  Chronic_Myeloid_Leukemia"
      ]
     },
     "metadata": {},
     "output_type": "display_data"
    }
   ],
   "source": [
    "# Get the N most responsive cells\n",
    "N = 5\n",
    "# center_col='err_median'\n",
    "col=col_name+'_median'\n",
    "\n",
    "# Most responsive cells\n",
    "most_prd_cells = prd_cell.sort_values(col, ascending=True)[:N]\n",
    "display(most_prd_cells[:2])\n",
    "\n",
    "# Least responsive cells\n",
    "least_prd_cells = prd_cell.sort_values(col, ascending=True)[-N:]\n",
    "display(least_prd_cells[:2])"
   ]
  },
  {
   "cell_type": "code",
   "execution_count": 31,
   "metadata": {},
   "outputs": [
    {
     "name": "stdout",
     "output_type": "stream",
     "text": [
      "['gCSI.MEWO' 'gCSI.EKVX' 'CTRP.CL-34' 'gCSI.AM-38' 'CCLE.NCIH2009'\n",
      " 'gCSI.KU812' 'CCLE.SW1573' 'CTRP.HCC-33' 'gCSI.KMM-1' 'gCSI.HCC2218']\n",
      "(1461, 10)\n"
     ]
    }
   ],
   "source": [
    "# Agg most and least responsive cells\n",
    "names = most_prd_cells[dim].tolist()\n",
    "names.extend( least_prd_cells[dim].tolist() )\n",
    "\n",
    "tmp_prd_te = prd_te[ prd_te[dim].isin(names) ].copy()\n",
    "print(tmp_prd_te[dim].unique())\n",
    "print(tmp_prd_te.shape)\n"
   ]
  },
  {
   "cell_type": "code",
   "execution_count": 32,
   "metadata": {},
   "outputs": [
    {
     "data": {
      "text/html": [
       "<div>\n",
       "<style scoped>\n",
       "    .dataframe tbody tr th:only-of-type {\n",
       "        vertical-align: middle;\n",
       "    }\n",
       "\n",
       "    .dataframe tbody tr th {\n",
       "        vertical-align: top;\n",
       "    }\n",
       "\n",
       "    .dataframe thead th {\n",
       "        text-align: right;\n",
       "    }\n",
       "</style>\n",
       "<table border=\"1\" class=\"dataframe\">\n",
       "  <thead>\n",
       "    <tr style=\"text-align: right;\">\n",
       "      <th></th>\n",
       "      <th>idx</th>\n",
       "      <th>run</th>\n",
       "      <th>source</th>\n",
       "      <th>CELL</th>\n",
       "      <th>DRUG</th>\n",
       "      <th>AUC</th>\n",
       "      <th>y_true</th>\n",
       "      <th>y_pred</th>\n",
       "      <th>err</th>\n",
       "      <th>CTYPE</th>\n",
       "    </tr>\n",
       "  </thead>\n",
       "  <tbody>\n",
       "    <tr>\n",
       "      <th>11346</th>\n",
       "      <td>11346</td>\n",
       "      <td>s000</td>\n",
       "      <td>gcsi</td>\n",
       "      <td>gCSI.MEWO</td>\n",
       "      <td>gCSI.14</td>\n",
       "      <td>0.7650</td>\n",
       "      <td>0.7650</td>\n",
       "      <td>0.761117</td>\n",
       "      <td>0.003883</td>\n",
       "      <td>Skin_Cutaneous_Melanoma</td>\n",
       "    </tr>\n",
       "    <tr>\n",
       "      <th>11809</th>\n",
       "      <td>11809</td>\n",
       "      <td>s000</td>\n",
       "      <td>gcsi</td>\n",
       "      <td>gCSI.EKVX</td>\n",
       "      <td>gCSI.3</td>\n",
       "      <td>0.7379</td>\n",
       "      <td>0.7379</td>\n",
       "      <td>0.835252</td>\n",
       "      <td>0.097352</td>\n",
       "      <td>Lung_Adenocarcinoma</td>\n",
       "    </tr>\n",
       "  </tbody>\n",
       "</table>\n",
       "</div>"
      ],
      "text/plain": [
       "         idx   run source       CELL     DRUG     AUC  y_true    y_pred  \\\n",
       "11346  11346  s000   gcsi  gCSI.MEWO  gCSI.14  0.7650  0.7650  0.761117   \n",
       "11809  11809  s000   gcsi  gCSI.EKVX   gCSI.3  0.7379  0.7379  0.835252   \n",
       "\n",
       "            err                    CTYPE  \n",
       "11346  0.003883  Skin_Cutaneous_Melanoma  \n",
       "11809  0.097352      Lung_Adenocarcinoma  "
      ]
     },
     "execution_count": 32,
     "metadata": {},
     "output_type": "execute_result"
    }
   ],
   "source": [
    "tmp_prd_te[:2]"
   ]
  },
  {
   "cell_type": "code",
   "execution_count": 34,
   "metadata": {},
   "outputs": [
    {
     "data": {
      "image/png": "[encoded data removed]",
      "text/plain": [
       "<Figure size 1183.75x504 with 1 Axes>"
      ]
     },
     "metadata": {
      "needs_background": "light"
     },
     "output_type": "display_data"
    }
   ],
   "source": [
    "# https://www.drawingfromdata.com/setting-figure-size-using-seaborn-and-matplotlib\n",
    "y_name='CELL'\n",
    "x_name='err'\n",
    "hue_name='source'\n",
    "# hue_name='CTYPE'\n",
    "data_to_plot=tmp_prd_te\n",
    "args={'height': 7, 'aspect': 2}\n",
    "    \n",
    "# g = plot_target(data_to_plot, y_name=y_name, x_name=x_name, kind='strip', hue_name=hue_name, **args)\n",
    "g = plot_target(data_to_plot, y_name=y_name, x_name=x_name, kind='box', hue_name=hue_name, **args)\n",
    "# g = plot_target(data_to_plot, y_name=y_name, x_name=x_name, kind='violin', hue_name=hue_name, **args)\n",
    "\n",
    "plt.xlabel('Prediction Error');\n",
    "\n",
    "plt.title('Cell Prediction')\n",
    "plt.savefig(out_figs/f'cell_prediction_{hue_name.lower()}.png', dpi=100)"
   ]
  },
  {
   "cell_type": "code",
   "execution_count": null,
   "metadata": {},
   "outputs": [],
   "source": []
  },
  {
   "cell_type": "markdown",
   "metadata": {},
   "source": [
    "# Drug Predictiveness"
   ]
  },
  {
   "cell_type": "code",
   "execution_count": 38,
   "metadata": {},
   "outputs": [
    {
     "data": {
      "text/html": [
       "<div>\n",
       "<style scoped>\n",
       "    .dataframe tbody tr th:only-of-type {\n",
       "        vertical-align: middle;\n",
       "    }\n",
       "\n",
       "    .dataframe tbody tr th {\n",
       "        vertical-align: top;\n",
       "    }\n",
       "\n",
       "    .dataframe thead th {\n",
       "        text-align: right;\n",
       "    }\n",
       "</style>\n",
       "<table border=\"1\" class=\"dataframe\">\n",
       "  <thead>\n",
       "    <tr style=\"text-align: right;\">\n",
       "      <th></th>\n",
       "      <th>DRUG</th>\n",
       "      <th>err_median</th>\n",
       "      <th>err_std</th>\n",
       "      <th>cnt</th>\n",
       "    </tr>\n",
       "  </thead>\n",
       "  <tbody>\n",
       "    <tr>\n",
       "      <th>0</th>\n",
       "      <td>CCLE.1</td>\n",
       "      <td>0.048272</td>\n",
       "      <td>0.042345</td>\n",
       "      <td>3055</td>\n",
       "    </tr>\n",
       "    <tr>\n",
       "      <th>1</th>\n",
       "      <td>CCLE.10</td>\n",
       "      <td>0.054430</td>\n",
       "      <td>0.052287</td>\n",
       "      <td>3174</td>\n",
       "    </tr>\n",
       "  </tbody>\n",
       "</table>\n",
       "</div>"
      ],
      "text/plain": [
       "      DRUG  err_median   err_std   cnt\n",
       "0   CCLE.1    0.048272  0.042345  3055\n",
       "1  CCLE.10    0.054430  0.052287  3174"
      ]
     },
     "execution_count": 38,
     "metadata": {},
     "output_type": "execute_result"
    }
   ],
   "source": [
    "dim='DRUG'\n",
    "col_name='err'\n",
    "# prd_drug = agg_prd_by_dim(prd_te, dim=dim)\n",
    "prd_drug = agg_data_by_dim(prd_te, col_name, dim=dim)\n",
    "prd_drug[:2]"
   ]
  },
  {
   "cell_type": "code",
   "execution_count": 39,
   "metadata": {},
   "outputs": [
    {
     "data": {
      "text/html": [
       "<div>\n",
       "<style scoped>\n",
       "    .dataframe tbody tr th:only-of-type {\n",
       "        vertical-align: middle;\n",
       "    }\n",
       "\n",
       "    .dataframe tbody tr th {\n",
       "        vertical-align: top;\n",
       "    }\n",
       "\n",
       "    .dataframe thead th {\n",
       "        text-align: right;\n",
       "    }\n",
       "</style>\n",
       "<table border=\"1\" class=\"dataframe\">\n",
       "  <thead>\n",
       "    <tr style=\"text-align: right;\">\n",
       "      <th></th>\n",
       "      <th>DRUG</th>\n",
       "      <th>err_median</th>\n",
       "      <th>err_std</th>\n",
       "      <th>cnt</th>\n",
       "    </tr>\n",
       "  </thead>\n",
       "  <tbody>\n",
       "    <tr>\n",
       "      <th>840</th>\n",
       "      <td>NSC.32065</td>\n",
       "      <td>0.012174</td>\n",
       "      <td>0.040742</td>\n",
       "      <td>13956</td>\n",
       "    </tr>\n",
       "    <tr>\n",
       "      <th>812</th>\n",
       "      <td>NSC.25154</td>\n",
       "      <td>0.012801</td>\n",
       "      <td>0.027527</td>\n",
       "      <td>18926</td>\n",
       "    </tr>\n",
       "  </tbody>\n",
       "</table>\n",
       "</div>"
      ],
      "text/plain": [
       "          DRUG  err_median   err_std    cnt\n",
       "840  NSC.32065    0.012174  0.040742  13956\n",
       "812  NSC.25154    0.012801  0.027527  18926"
      ]
     },
     "metadata": {},
     "output_type": "display_data"
    },
    {
     "data": {
      "text/html": [
       "<div>\n",
       "<style scoped>\n",
       "    .dataframe tbody tr th:only-of-type {\n",
       "        vertical-align: middle;\n",
       "    }\n",
       "\n",
       "    .dataframe tbody tr th {\n",
       "        vertical-align: top;\n",
       "    }\n",
       "\n",
       "    .dataframe thead th {\n",
       "        text-align: right;\n",
       "    }\n",
       "</style>\n",
       "<table border=\"1\" class=\"dataframe\">\n",
       "  <thead>\n",
       "    <tr style=\"text-align: right;\">\n",
       "      <th></th>\n",
       "      <th>DRUG</th>\n",
       "      <th>err_median</th>\n",
       "      <th>err_std</th>\n",
       "      <th>cnt</th>\n",
       "    </tr>\n",
       "  </thead>\n",
       "  <tbody>\n",
       "    <tr>\n",
       "      <th>547</th>\n",
       "      <td>GDSC.1031</td>\n",
       "      <td>0.200608</td>\n",
       "      <td>0.103602</td>\n",
       "      <td>3989</td>\n",
       "    </tr>\n",
       "    <tr>\n",
       "      <th>166</th>\n",
       "      <td>CTRP.235</td>\n",
       "      <td>0.206491</td>\n",
       "      <td>0.116286</td>\n",
       "      <td>4312</td>\n",
       "    </tr>\n",
       "  </tbody>\n",
       "</table>\n",
       "</div>"
      ],
      "text/plain": [
       "          DRUG  err_median   err_std   cnt\n",
       "547  GDSC.1031    0.200608  0.103602  3989\n",
       "166   CTRP.235    0.206491  0.116286  4312"
      ]
     },
     "metadata": {},
     "output_type": "display_data"
    }
   ],
   "source": [
    "# Get the N most responsive cells\n",
    "N = 5\n",
    "# center_col='err_median'\n",
    "col=col_name+'_median'\n",
    "\n",
    "# Most responsive cells\n",
    "most_prd_drugs = prd_drug.sort_values(col, ascending=True)[:N]\n",
    "display(most_prd_drugs[:2])\n",
    "\n",
    "# Least responsive cells\n",
    "least_prd_drugs = prd_drug.sort_values(col, ascending=True)[-N:]\n",
    "display(least_prd_drugs[:2])"
   ]
  },
  {
   "cell_type": "code",
   "execution_count": 40,
   "metadata": {},
   "outputs": [
    {
     "name": "stdout",
     "output_type": "stream",
     "text": [
      "['NSC.409962' 'NSC.25154' 'NSC.32065' 'CTRP.235' 'GDSC.1031' 'NSC.152149'\n",
      " 'NSC.174939' 'NSC.364372' 'NSC.754345' 'NSC.697926']\n",
      "(92888, 10)\n"
     ]
    }
   ],
   "source": [
    "# Agg most and least responsive cells\n",
    "names = most_prd_drugs[dim].tolist()\n",
    "names.extend( least_prd_drugs[dim].tolist() )\n",
    "\n",
    "tmp_prd_te = prd_te[ prd_te[dim].isin(names) ].copy()\n",
    "print(tmp_prd_te[dim].unique())\n",
    "print(tmp_prd_te.shape)\n"
   ]
  },
  {
   "cell_type": "code",
   "execution_count": 41,
   "metadata": {},
   "outputs": [
    {
     "data": {
      "image/png": "[encoded data removed]",
      "text/plain": [
       "<Figure size 1071.38x504 with 1 Axes>"
      ]
     },
     "metadata": {
      "needs_background": "light"
     },
     "output_type": "display_data"
    }
   ],
   "source": [
    "# https://www.drawingfromdata.com/setting-figure-size-using-seaborn-and-matplotlib\n",
    "y_name='DRUG'\n",
    "x_name='err'\n",
    "hue_name='source'\n",
    "# hue_name='CTYPE'\n",
    "data_to_plot=tmp_prd_te\n",
    "args={'height': 7, 'aspect': 2}\n",
    "    \n",
    "# g = plot_target(data_to_plot, y_name=y_name, x_name=x_name, kind='strip', hue_name=hue_name, **args)\n",
    "g = plot_target(data_to_plot, y_name=y_name, x_name=x_name, kind='box', hue_name=hue_name, **args)\n",
    "# g = plot_target(data_to_plot, y_name=y_name, x_name=x_name, kind='violin', hue_name=hue_name, **args)\n",
    "\n",
    "plt.xlabel('Prediction Error');\n",
    "\n",
    "plt.title('Drug Prediction')\n",
    "plt.savefig(out_figs/f'drug_prediction_{hue_name.lower()}.png', dpi=100)"
   ]
  },
  {
   "cell_type": "code",
   "execution_count": null,
   "metadata": {},
   "outputs": [],
   "source": []
  }
 ],
 "metadata": {
  "kernelspec": {
   "display_name": "Python 3",
   "language": "python",
   "name": "python3"
  },
  "language_info": {
   "codemirror_mode": {
    "name": "ipython",
    "version": 3
   },
   "file_extension": ".py",
   "mimetype": "text/x-python",
   "name": "python",
   "nbconvert_exporter": "python",
   "pygments_lexer": "ipython3",
   "version": "3.6.8"
  }
 },
 "nbformat": 4,
 "nbformat_minor": 2
}
