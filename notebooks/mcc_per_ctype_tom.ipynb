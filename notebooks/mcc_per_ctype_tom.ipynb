{
 "cells": [
  {
   "cell_type": "code",
   "execution_count": 2,
   "metadata": {},
   "outputs": [],
   "source": [
    "%load_ext autoreload\n",
    "%autoreload 2\n",
    "%matplotlib inline\n",
    "\n",
    "import warnings\n",
    "warnings.filterwarnings('ignore')\n",
    "\n",
    "import os\n",
    "import sys\n",
    "from pathlib import Path\n",
    "import numpy as np\n",
    "import pandas as pd\n",
    "import matplotlib.pyplot as plt\n",
    "import seaborn as sns\n",
    "\n",
    "import sklearn\n",
    "import numpy as np\n",
    "import pandas as pd\n",
    "from math import sqrt"
   ]
  },
  {
   "cell_type": "code",
   "execution_count": 15,
   "metadata": {},
   "outputs": [
    {
     "name": "stdout",
     "output_type": "stream",
     "text": [
      "/vol/ml/apartin/projects/DrugResponseViz/notebooks\n"
     ]
    }
   ],
   "source": [
    "filepath = Path.cwd()\n",
    "print(filepath)"
   ]
  },
  {
   "cell_type": "code",
   "execution_count": 14,
   "metadata": {},
   "outputs": [],
   "source": [
    "def barplot_high_low_items_by_mcc(labels, values, N=4, xlabel=None, figsize=(9, 7)):\n",
    "    \"\"\" Plot the highest N and lowest N items. \"\"\"\n",
    "    fig, ax = plt.subplots(figsize=figsize)\n",
    "\n",
    "    pos = np.arange(len(labels))\n",
    "\n",
    "    rects1 = ax.barh(pos[:N], values[:N],\n",
    "                     align='center', height=0.7,\n",
    "                     color='b', edgecolor='k', alpha=0.6,\n",
    "                     label='Highest Values')\n",
    "\n",
    "    rects2 = ax.barh(pos[N:], values[N:],\n",
    "                     align='center', height=0.7,\n",
    "                     color='r', edgecolor='k', alpha=0.6,\n",
    "                     label='Lowest Values')\n",
    "\n",
    "    ylabels = [' '.join(s.split('_')) for s in labels]\n",
    "    ax.set_yticks( pos )\n",
    "    ax.set_yticklabels( ylabels )\n",
    "    ax.set_xlabel(xlabel)\n",
    "    ax.legend();\n",
    "\n",
    "    for rect in rects1:\n",
    "        width = rect.get_width()\n",
    "        width = np.around(width, decimals=2)\n",
    "        align = 'left'\n",
    "\n",
    "        xloc = -40\n",
    "        yloc = rect.get_y() + rect.get_height() / 2  # Center the text vertically in the bar\n",
    "        label = ax.annotate(width,\n",
    "                            xy=(width, yloc),\n",
    "                            xytext=(xloc, 0),           # The position (x,y) to place the text at. If None, defaults to xy.\n",
    "                            textcoords='offset points', # The coordinate system that xytext is given in\n",
    "                            ha=align, va='center',\n",
    "                            color='k', weight='bold', clip_on=True);\n",
    "\n",
    "    for rect in rects2:\n",
    "        width = rect.get_width()\n",
    "        width = np.around(width, decimals=2)\n",
    "        align = 'left'\n",
    "\n",
    "        xloc = -50\n",
    "        yloc = rect.get_y() + rect.get_height() / 2  # Center the text vertically in the bar\n",
    "        label = ax.annotate(width,\n",
    "                            xy=(width, yloc),\n",
    "                            xytext=(xloc, 0),           # The position (x,y) to place the text at. If None, defaults to xy.\n",
    "                            textcoords='offset points', # The coordinate system that xytext is given in\n",
    "                            ha=align, va='center',\n",
    "                            color='k', weight='bold', clip_on=True);\n",
    "    return fig, ax"
   ]
  },
  {
   "cell_type": "code",
   "execution_count": 6,
   "metadata": {},
   "outputs": [],
   "source": [
    "# From Tom's email\n",
    "data = [['Kidney_Renal_Clear_Cell_Carcinoma', 0.464051],\n",
    "        ['Lung_NOS', 0.501965],\n",
    "        ['Glioblastoma_Multiforme', 0.539118],\n",
    "        ['Brain_NOS', 0.540866],\n",
    "        ['Colon_Adenocarcinoma', 0.541385],\n",
    "        ['Ovarian_Serous_Cystadenocarcinoma', 0.548709],\n",
    "        ['Breast_Invasive_Carcinoma', 0.552628],\n",
    "        ['Lung_Adenocarcinoma', 0.568565],\n",
    "        ['Skin_Cutaneous_Melanoma', 0.573315],\n",
    "        ['Lung_Squamous_Cell_Carcinoma', 0.589954],\n",
    "        ['Ovary_NOS', 0.594004],\n",
    "        ['Lung_Non-Small_Cell_Carcinoma', 0.594253],\n",
    "        ['Prostate_Adenocarcinoma', 0.604948],\n",
    "        ['Acute_Myeloid_Leukemia', 0.616594],\n",
    "        ['Brain_Lower_Grade_Glioma', 0.617669],\n",
    "        ['Lung_Small_Cell_Carcinoma', 0.623129],\n",
    "        ['Myeloma', 0.654870],\n",
    "        ['Sarcoma', 0.655878],\n",
    "        ['Chronic_Myeloid_Leukemia', 0.673430],\n",
    "        ['Lymphoid_Leukemia', 0.689207],\n",
    "        ['Acute_Lymphoblastic_Leukemia', 0.715012]]"
   ]
  },
  {
   "cell_type": "code",
   "execution_count": 17,
   "metadata": {},
   "outputs": [
    {
     "data": {
      "text/html": [
       "<div>\n",
       "<style scoped>\n",
       "    .dataframe tbody tr th:only-of-type {\n",
       "        vertical-align: middle;\n",
       "    }\n",
       "\n",
       "    .dataframe tbody tr th {\n",
       "        vertical-align: top;\n",
       "    }\n",
       "\n",
       "    .dataframe thead th {\n",
       "        text-align: right;\n",
       "    }\n",
       "</style>\n",
       "<table border=\"1\" class=\"dataframe\">\n",
       "  <thead>\n",
       "    <tr style=\"text-align: right;\">\n",
       "      <th></th>\n",
       "      <th>CTYPE</th>\n",
       "      <th>mcc</th>\n",
       "    </tr>\n",
       "  </thead>\n",
       "  <tbody>\n",
       "    <tr>\n",
       "      <th>0</th>\n",
       "      <td>Acute_Lymphoblastic_Leukemia</td>\n",
       "      <td>0.715012</td>\n",
       "    </tr>\n",
       "    <tr>\n",
       "      <th>1</th>\n",
       "      <td>Lymphoid_Leukemia</td>\n",
       "      <td>0.689207</td>\n",
       "    </tr>\n",
       "    <tr>\n",
       "      <th>2</th>\n",
       "      <td>Chronic_Myeloid_Leukemia</td>\n",
       "      <td>0.673430</td>\n",
       "    </tr>\n",
       "    <tr>\n",
       "      <th>3</th>\n",
       "      <td>Sarcoma</td>\n",
       "      <td>0.655878</td>\n",
       "    </tr>\n",
       "    <tr>\n",
       "      <th>4</th>\n",
       "      <td>Myeloma</td>\n",
       "      <td>0.654870</td>\n",
       "    </tr>\n",
       "    <tr>\n",
       "      <th>5</th>\n",
       "      <td>Lung_Small_Cell_Carcinoma</td>\n",
       "      <td>0.623129</td>\n",
       "    </tr>\n",
       "    <tr>\n",
       "      <th>6</th>\n",
       "      <td>Brain_Lower_Grade_Glioma</td>\n",
       "      <td>0.617669</td>\n",
       "    </tr>\n",
       "    <tr>\n",
       "      <th>7</th>\n",
       "      <td>Acute_Myeloid_Leukemia</td>\n",
       "      <td>0.616594</td>\n",
       "    </tr>\n",
       "    <tr>\n",
       "      <th>8</th>\n",
       "      <td>Prostate_Adenocarcinoma</td>\n",
       "      <td>0.604948</td>\n",
       "    </tr>\n",
       "    <tr>\n",
       "      <th>9</th>\n",
       "      <td>Lung_Non-Small_Cell_Carcinoma</td>\n",
       "      <td>0.594253</td>\n",
       "    </tr>\n",
       "    <tr>\n",
       "      <th>10</th>\n",
       "      <td>Ovary_NOS</td>\n",
       "      <td>0.594004</td>\n",
       "    </tr>\n",
       "    <tr>\n",
       "      <th>11</th>\n",
       "      <td>Lung_Squamous_Cell_Carcinoma</td>\n",
       "      <td>0.589954</td>\n",
       "    </tr>\n",
       "    <tr>\n",
       "      <th>12</th>\n",
       "      <td>Skin_Cutaneous_Melanoma</td>\n",
       "      <td>0.573315</td>\n",
       "    </tr>\n",
       "    <tr>\n",
       "      <th>13</th>\n",
       "      <td>Lung_Adenocarcinoma</td>\n",
       "      <td>0.568565</td>\n",
       "    </tr>\n",
       "    <tr>\n",
       "      <th>14</th>\n",
       "      <td>Breast_Invasive_Carcinoma</td>\n",
       "      <td>0.552628</td>\n",
       "    </tr>\n",
       "    <tr>\n",
       "      <th>15</th>\n",
       "      <td>Ovarian_Serous_Cystadenocarcinoma</td>\n",
       "      <td>0.548709</td>\n",
       "    </tr>\n",
       "    <tr>\n",
       "      <th>16</th>\n",
       "      <td>Colon_Adenocarcinoma</td>\n",
       "      <td>0.541385</td>\n",
       "    </tr>\n",
       "    <tr>\n",
       "      <th>17</th>\n",
       "      <td>Brain_NOS</td>\n",
       "      <td>0.540866</td>\n",
       "    </tr>\n",
       "    <tr>\n",
       "      <th>18</th>\n",
       "      <td>Glioblastoma_Multiforme</td>\n",
       "      <td>0.539118</td>\n",
       "    </tr>\n",
       "    <tr>\n",
       "      <th>19</th>\n",
       "      <td>Lung_NOS</td>\n",
       "      <td>0.501965</td>\n",
       "    </tr>\n",
       "    <tr>\n",
       "      <th>20</th>\n",
       "      <td>Kidney_Renal_Clear_Cell_Carcinoma</td>\n",
       "      <td>0.464051</td>\n",
       "    </tr>\n",
       "  </tbody>\n",
       "</table>\n",
       "</div>"
      ],
      "text/plain": [
       "                                CTYPE       mcc\n",
       "0        Acute_Lymphoblastic_Leukemia  0.715012\n",
       "1                   Lymphoid_Leukemia  0.689207\n",
       "2            Chronic_Myeloid_Leukemia  0.673430\n",
       "3                             Sarcoma  0.655878\n",
       "4                             Myeloma  0.654870\n",
       "5           Lung_Small_Cell_Carcinoma  0.623129\n",
       "6            Brain_Lower_Grade_Glioma  0.617669\n",
       "7              Acute_Myeloid_Leukemia  0.616594\n",
       "8             Prostate_Adenocarcinoma  0.604948\n",
       "9       Lung_Non-Small_Cell_Carcinoma  0.594253\n",
       "10                          Ovary_NOS  0.594004\n",
       "11       Lung_Squamous_Cell_Carcinoma  0.589954\n",
       "12            Skin_Cutaneous_Melanoma  0.573315\n",
       "13                Lung_Adenocarcinoma  0.568565\n",
       "14          Breast_Invasive_Carcinoma  0.552628\n",
       "15  Ovarian_Serous_Cystadenocarcinoma  0.548709\n",
       "16               Colon_Adenocarcinoma  0.541385\n",
       "17                          Brain_NOS  0.540866\n",
       "18            Glioblastoma_Multiforme  0.539118\n",
       "19                           Lung_NOS  0.501965\n",
       "20  Kidney_Renal_Clear_Cell_Carcinoma  0.464051"
      ]
     },
     "metadata": {},
     "output_type": "display_data"
    }
   ],
   "source": [
    "mcc_df = pd.DataFrame(data, columns=['CTYPE', 'mcc']).sort_values('mcc', ascending=False).reset_index(drop=True)\n",
    "display(mcc_df)"
   ]
  },
  {
   "cell_type": "code",
   "execution_count": 24,
   "metadata": {},
   "outputs": [],
   "source": [
    "ap_types = set([\n",
    "    'Acute_Myeloid_Leukemia',\n",
    "    'Breast_Invasive_Carcinoma',\n",
    "    'Colon_Adenocarcinoma','Esophageal_Carcinoma',\n",
    "    'Glioblastoma_Multiforme',\n",
    "    'Head_and_Neck_Squamous_Cell_Carcinoma',\n",
    "    'Kidney_Renal_Clear_Cell_Carcinoma',\n",
    "    'Liver_Hepatocellular_Carcinoma',\n",
    "    'Lung_Adenocarcinoma',\n",
    "    'Lung_Non-Small_Cell_Carcinoma',\n",
    "    'Lung_Small_Cell_Carcinoma',\n",
    "    'Lung_Squamous_Cell_Carcinoma',\n",
    "    'Lymphoid_Leukemia',\n",
    "    'Lymphoid_Neoplasm_Diffuse_Large_B-cell_Lymphoma',\n",
    "    'Ovarian_Serous_Cystadenocarcinoma',\n",
    "    'Ovary_NOS',\n",
    "    'Pancreatic_Adenocarcinoma',\n",
    "    'Sarcoma',\n",
    "    'Skin_Cutaneous_Melanoma',\n",
    "    'Stomach_Adenocarcinoma',\n",
    "    'Uterine_Corpus_Endometrial_Carcinoma'])"
   ]
  },
  {
   "cell_type": "code",
   "execution_count": 18,
   "metadata": {},
   "outputs": [
    {
     "data": {
      "text/html": [
       "<div>\n",
       "<style scoped>\n",
       "    .dataframe tbody tr th:only-of-type {\n",
       "        vertical-align: middle;\n",
       "    }\n",
       "\n",
       "    .dataframe tbody tr th {\n",
       "        vertical-align: top;\n",
       "    }\n",
       "\n",
       "    .dataframe thead th {\n",
       "        text-align: right;\n",
       "    }\n",
       "</style>\n",
       "<table border=\"1\" class=\"dataframe\">\n",
       "  <thead>\n",
       "    <tr style=\"text-align: right;\">\n",
       "      <th></th>\n",
       "      <th>CTYPE</th>\n",
       "      <th>mcc</th>\n",
       "    </tr>\n",
       "  </thead>\n",
       "  <tbody>\n",
       "    <tr>\n",
       "      <th>0</th>\n",
       "      <td>Acute_Lymphoblastic_Leukemia</td>\n",
       "      <td>0.715012</td>\n",
       "    </tr>\n",
       "    <tr>\n",
       "      <th>1</th>\n",
       "      <td>Lymphoid_Leukemia</td>\n",
       "      <td>0.689207</td>\n",
       "    </tr>\n",
       "  </tbody>\n",
       "</table>\n",
       "</div>"
      ],
      "text/plain": [
       "                          CTYPE       mcc\n",
       "0  Acute_Lymphoblastic_Leukemia  0.715012\n",
       "1             Lymphoid_Leukemia  0.689207"
      ]
     },
     "metadata": {},
     "output_type": "display_data"
    },
    {
     "data": {
      "image/png": "[encoded data removed]",
      "text/plain": [
       "<Figure size 864x432 with 1 Axes>"
      ]
     },
     "metadata": {
      "needs_background": "light"
     },
     "output_type": "display_data"
    }
   ],
   "source": [
    "# Get the N most responsive cells\n",
    "N = 4\n",
    "col='mcc'\n",
    "top_items = mcc_df.sort_values(col, ascending=True)[:N]   # Top items\n",
    "bot_items = mcc_df.sort_values(col, ascending=True)[-N:]  # Bottom items\n",
    "data_to_plot = pd.concat([top_items, bot_items], axis=0).sort_values(col, ascending=False).reset_index(drop=True)\n",
    "display( data_to_plot[:2] )\n",
    "\n",
    "# CTYPE\n",
    "barplot_high_low_items_by_mcc(labels=data_to_plot.CTYPE.values,\n",
    "                              values=data_to_plot[col].values,\n",
    "                              xlabel=f'{col.upper()} Score', N=4, figsize=(12, 6));\n",
    "plt.tight_layout()\n",
    "plt.savefig(f'ctype_{col}_hist_tom.png', dpi=150)"
   ]
  },
  {
   "cell_type": "code",
   "execution_count": null,
   "metadata": {},
   "outputs": [],
   "source": []
  },
  {
   "cell_type": "code",
   "execution_count": 42,
   "metadata": {},
   "outputs": [],
   "source": [
    "# Check cancer type datasets\n",
    "ct1 = pd.read_csv('/vol/ml/apartin/projects/topN_generator/data/combined_cancer_types', names=['CELL', 'CTYPE'], sep='\\t')\n",
    "ct2 = pd.read_csv('/vol/ml/apartin/projects/DrugResponseViz/data/combined_cancer_types', names=['CELL', 'CTYPE'], sep='\\t')\n",
    "ct3 = pd.read_csv('/vol/ml/brettin/hackathon-2020-01/combined_cancer_types', names=['CELL', 'CTYPE'], sep='\\t')"
   ]
  },
  {
   "cell_type": "code",
   "execution_count": 56,
   "metadata": {},
   "outputs": [
    {
     "name": "stdout",
     "output_type": "stream",
     "text": [
      "69\n",
      "67\n"
     ]
    }
   ],
   "source": [
    "ap_types = set(ct1.CTYPE.unique())\n",
    "tb_types = set(ct3.CTYPE.unique())\n",
    "print(len(ap_types))\n",
    "print(len(tb_types))"
   ]
  },
  {
   "cell_type": "code",
   "execution_count": 54,
   "metadata": {},
   "outputs": [
    {
     "name": "stdout",
     "output_type": "stream",
     "text": [
      "{'Sarcoma_NOS', 'Unknown_NOS'}\n",
      "set()\n"
     ]
    }
   ],
   "source": [
    "print(ap_types.difference(tb_types))\n",
    "print(tb_types.difference(ap_types))"
   ]
  }
 ],
 "metadata": {
  "kernelspec": {
   "display_name": "Python 3",
   "language": "python",
   "name": "python3"
  },
  "language_info": {
   "codemirror_mode": {
    "name": "ipython",
    "version": 3
   },
   "file_extension": ".py",
   "mimetype": "text/x-python",
   "name": "python",
   "nbconvert_exporter": "python",
   "pygments_lexer": "ipython3",
   "version": "3.6.8"
  }
 },
 "nbformat": 4,
 "nbformat_minor": 2
}
