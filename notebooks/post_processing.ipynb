{
 "cells": [
  {
   "cell_type": "markdown",
   "metadata": {},
   "source": [
    "- Most/least responsive cells\n",
    "- Most/least impactrul (damaging) drugs\n",
    "\n",
    "- Most/least predictive cells (lowest error)\n",
    "- Most/least predictive drugs (lowest error)\n",
    "\n",
    "------------\n",
    "\n",
    "- Encode count of cells/drugs\n",
    "- Separate results by study\n",
    "\n",
    "------------\n",
    "\n",
    "- https://seaborn.pydata.org/tutorial/categorical.html#categorical-tutorial\n",
    "- https://seaborn.pydata.org/tutorial/distributions.html#distribution-tutorial"
   ]
  },
  {
   "cell_type": "code",
   "execution_count": 1,
   "metadata": {},
   "outputs": [
    {
     "name": "stdout",
     "output_type": "stream",
     "text": [
      "/vol/ml/apartin/anaconda3/envs/p1/bin/python\n"
     ]
    }
   ],
   "source": [
    "!which python"
   ]
  },
  {
   "cell_type": "code",
   "execution_count": 2,
   "metadata": {},
   "outputs": [],
   "source": [
    "%load_ext autoreload\n",
    "%autoreload 2\n",
    "%matplotlib inline\n",
    "\n",
    "import warnings\n",
    "warnings.filterwarnings('ignore')\n",
    "\n",
    "import os\n",
    "import sys\n",
    "from pathlib import Path\n",
    "import numpy as np\n",
    "import pandas as pd\n",
    "import matplotlib.pyplot as plt\n",
    "import seaborn as sns\n",
    "import collections\n",
    "from glob import glob\n",
    "\n",
    "import sklearn\n",
    "import numpy as np\n",
    "import pandas as pd\n",
    "from math import sqrt"
   ]
  },
  {
   "cell_type": "code",
   "execution_count": 3,
   "metadata": {},
   "outputs": [
    {
     "name": "stdout",
     "output_type": "stream",
     "text": [
      "/vol/ml/apartin/projects/DrugResponseViz/notebooks\n"
     ]
    }
   ],
   "source": [
    "runs_dir_name = 'out_lgbm'\n",
    "file_path = Path.cwd()\n",
    "print(file_path)"
   ]
  },
  {
   "cell_type": "code",
   "execution_count": 4,
   "metadata": {},
   "outputs": [],
   "source": [
    "runs_dir_path = Path(file_path / '..' / runs_dir_name)\n",
    "runs_dirs = [Path(p) for p in glob(str(runs_dir_path/'run_*'))]\n",
    "# pred = pd.read_csv(os.path.join(predsdir, 'dev_lgb_reg_preds.csv'))"
   ]
  },
  {
   "cell_type": "code",
   "execution_count": 5,
   "metadata": {},
   "outputs": [
    {
     "name": "stdout",
     "output_type": "stream",
     "text": [
      "(14590, 2)\n"
     ]
    },
    {
     "data": {
      "text/html": [
       "<div>\n",
       "<style scoped>\n",
       "    .dataframe tbody tr th:only-of-type {\n",
       "        vertical-align: middle;\n",
       "    }\n",
       "\n",
       "    .dataframe tbody tr th {\n",
       "        vertical-align: top;\n",
       "    }\n",
       "\n",
       "    .dataframe thead th {\n",
       "        text-align: right;\n",
       "    }\n",
       "</style>\n",
       "<table border=\"1\" class=\"dataframe\">\n",
       "  <thead>\n",
       "    <tr style=\"text-align: right;\">\n",
       "      <th></th>\n",
       "      <th>CELL</th>\n",
       "      <th>CTYPE</th>\n",
       "    </tr>\n",
       "  </thead>\n",
       "  <tbody>\n",
       "    <tr>\n",
       "      <th>0</th>\n",
       "      <td>CCLE.ALLSIL</td>\n",
       "      <td>Acute_Lymphoblastic_Leukemia</td>\n",
       "    </tr>\n",
       "    <tr>\n",
       "      <th>1</th>\n",
       "      <td>CCLE.DND41</td>\n",
       "      <td>Acute_Lymphoblastic_Leukemia</td>\n",
       "    </tr>\n",
       "  </tbody>\n",
       "</table>\n",
       "</div>"
      ],
      "text/plain": [
       "          CELL                         CTYPE\n",
       "0  CCLE.ALLSIL  Acute_Lymphoblastic_Leukemia\n",
       "1   CCLE.DND41  Acute_Lymphoblastic_Leukemia"
      ]
     },
     "metadata": {},
     "output_type": "display_data"
    }
   ],
   "source": [
    "# Load cell metadata\n",
    "cancer_types = pd.read_csv(file_path/'../data/combined_cancer_types', sep='\\t', names=['CELL', 'CTYPE'])\n",
    "print(cancer_types.shape)\n",
    "display(cancer_types[:2])\n",
    "\n",
    "# cmeta = pd.read_csv(file_path/'../data/combined_metadata_2018May.txt', sep='\\t')\n",
    "# print(cmeta.shape)\n",
    "\n",
    "# dmeta = pd.read_csv(file_path/'../data/drug_info', sep='\\t')\n",
    "# print(dmeta.shape)"
   ]
  },
  {
   "cell_type": "code",
   "execution_count": 6,
   "metadata": {},
   "outputs": [],
   "source": [
    "mltype = 'reg'"
   ]
  },
  {
   "cell_type": "code",
   "execution_count": null,
   "metadata": {},
   "outputs": [],
   "source": []
  },
  {
   "cell_type": "markdown",
   "metadata": {},
   "source": [
    "# Pre-proc data to analyze ML predictions\n",
    "\n",
    "Combine predictions from all runs (shuffles/splits)"
   ]
  },
  {
   "cell_type": "code",
   "execution_count": 7,
   "metadata": {},
   "outputs": [],
   "source": [
    "# def add_run_col(prd_df, dir_name):\n",
    "#     prd_df['run'] = str(dir_name).split(os.sep)[-1].split('_')[-1]\n",
    "#     return prd_df\n",
    "\n",
    "def reorg_cols(df):\n",
    "    cols = df.columns.tolist()\n",
    "    cols.remove('run')\n",
    "    return df[['run'] + cols]\n",
    "    \n",
    "def agg_preds_from_runs(runs_dirs):\n",
    "    \"\"\" Aggregate predictions bootstraped ML trainings. \"\"\"\n",
    "    prd_te = []\n",
    "    for i, dir_name in enumerate(runs_dirs):\n",
    "        # prd_tr_ = pd.read_csv(dir_name/'preds_tr.csv')\n",
    "        # prd_vl_ = pd.read_csv(dir_name/'preds_vl.csv')\n",
    "        prd_te_ = pd.read_csv(dir_name/'preds_te.csv')\n",
    "        \n",
    "        prd_te_['err'] = abs(prd_te_['y_true'] - prd_te_['y_pred']) # add col 'err'\n",
    "        # prd_te_ = add_run_col(prd_df=prd_te_, dir_name=d)  # add col 'run' identifier\n",
    "        prd_te_['run'] = str(dir_name).split(os.sep)[-1].split('_')[-1]  # add col 'run' identifier\n",
    "        prd_te.append(prd_te_)  # append run\n",
    "\n",
    "        if i%20==0:\n",
    "            print(f'Processing {dir_name}')\n",
    "            \n",
    "    # aggregate to df\n",
    "    prd_te = pd.concat(prd_te, axis=0)\n",
    "    return prd_te"
   ]
  },
  {
   "cell_type": "code",
   "execution_count": 8,
   "metadata": {},
   "outputs": [
    {
     "name": "stdout",
     "output_type": "stream",
     "text": [
      "Processing /vol/ml/apartin/projects/DrugResponseViz/notebooks/../out_lgbm/run_s000\n",
      "Processing /vol/ml/apartin/projects/DrugResponseViz/notebooks/../out_lgbm/run_s020\n",
      "Processing /vol/ml/apartin/projects/DrugResponseViz/notebooks/../out_lgbm/run_s040\n",
      "Processing /vol/ml/apartin/projects/DrugResponseViz/notebooks/../out_lgbm/run_s060\n",
      "Processing /vol/ml/apartin/projects/DrugResponseViz/notebooks/../out_lgbm/run_s080\n"
     ]
    }
   ],
   "source": [
    "# Concat preds from all runs      \n",
    "prd_te = agg_preds_from_runs(runs_dirs)\n",
    "prd_te = reorg_cols(prd_te)\n",
    "prd_te = prd_te.reset_index().rename(columns={'index': 'idx'})\n",
    "prd_te.insert(loc=2, column='source', value=[s.split('.')[0].lower() for s in prd_te['CELL']]) # add 'source' column"
   ]
  },
  {
   "cell_type": "code",
   "execution_count": 9,
   "metadata": {},
   "outputs": [
    {
     "data": {
      "text/html": [
       "<div>\n",
       "<style scoped>\n",
       "    .dataframe tbody tr th:only-of-type {\n",
       "        vertical-align: middle;\n",
       "    }\n",
       "\n",
       "    .dataframe tbody tr th {\n",
       "        vertical-align: top;\n",
       "    }\n",
       "\n",
       "    .dataframe thead th {\n",
       "        text-align: right;\n",
       "    }\n",
       "</style>\n",
       "<table border=\"1\" class=\"dataframe\">\n",
       "  <thead>\n",
       "    <tr style=\"text-align: right;\">\n",
       "      <th></th>\n",
       "      <th>idx</th>\n",
       "      <th>run</th>\n",
       "      <th>source</th>\n",
       "      <th>CELL</th>\n",
       "      <th>DRUG</th>\n",
       "      <th>AUC</th>\n",
       "      <th>y_true</th>\n",
       "      <th>y_pred</th>\n",
       "      <th>err</th>\n",
       "    </tr>\n",
       "  </thead>\n",
       "  <tbody>\n",
       "    <tr>\n",
       "      <th>0</th>\n",
       "      <td>0</td>\n",
       "      <td>s000</td>\n",
       "      <td>ctrp</td>\n",
       "      <td>CTRP.Hs-729</td>\n",
       "      <td>CTRP.116</td>\n",
       "      <td>0.8039</td>\n",
       "      <td>0.8039</td>\n",
       "      <td>0.837310</td>\n",
       "      <td>0.033410</td>\n",
       "    </tr>\n",
       "    <tr>\n",
       "      <th>1</th>\n",
       "      <td>1</td>\n",
       "      <td>s000</td>\n",
       "      <td>ctrp</td>\n",
       "      <td>CTRP.NCI-H1184</td>\n",
       "      <td>CTRP.177</td>\n",
       "      <td>0.8107</td>\n",
       "      <td>0.8107</td>\n",
       "      <td>0.837507</td>\n",
       "      <td>0.026807</td>\n",
       "    </tr>\n",
       "  </tbody>\n",
       "</table>\n",
       "</div>"
      ],
      "text/plain": [
       "   idx   run source            CELL      DRUG     AUC  y_true    y_pred  \\\n",
       "0    0  s000   ctrp     CTRP.Hs-729  CTRP.116  0.8039  0.8039  0.837310   \n",
       "1    1  s000   ctrp  CTRP.NCI-H1184  CTRP.177  0.8107  0.8107  0.837507   \n",
       "\n",
       "        err  \n",
       "0  0.033410  \n",
       "1  0.026807  "
      ]
     },
     "execution_count": 9,
     "metadata": {},
     "output_type": "execute_result"
    }
   ],
   "source": [
    "prd_te[:2]"
   ]
  },
  {
   "cell_type": "code",
   "execution_count": 10,
   "metadata": {},
   "outputs": [
    {
     "name": "stdout",
     "output_type": "stream",
     "text": [
      "(5299400, 9)\n",
      "(5299400, 10)\n"
     ]
    }
   ],
   "source": [
    "# Add meta\n",
    "print(prd_te.shape)\n",
    "prd_te = pd.merge(prd_te, cancer_types, how='left', on='CELL')\n",
    "print(prd_te.shape)"
   ]
  },
  {
   "cell_type": "code",
   "execution_count": null,
   "metadata": {},
   "outputs": [],
   "source": []
  },
  {
   "cell_type": "markdown",
   "metadata": {},
   "source": [
    "# Pre-proc data to analyze raw response (w/o preds)\n",
    "Get all responses from Top21.\n",
    "\n",
    "Instead of Top21, we can use the entire response dataframe(?)"
   ]
  },
  {
   "cell_type": "code",
   "execution_count": 11,
   "metadata": {},
   "outputs": [
    {
     "data": {
      "text/html": [
       "<div>\n",
       "<style scoped>\n",
       "    .dataframe tbody tr th:only-of-type {\n",
       "        vertical-align: middle;\n",
       "    }\n",
       "\n",
       "    .dataframe tbody tr th {\n",
       "        vertical-align: top;\n",
       "    }\n",
       "\n",
       "    .dataframe thead th {\n",
       "        text-align: right;\n",
       "    }\n",
       "</style>\n",
       "<table border=\"1\" class=\"dataframe\">\n",
       "  <thead>\n",
       "    <tr style=\"text-align: right;\">\n",
       "      <th></th>\n",
       "      <th>idx</th>\n",
       "      <th>source</th>\n",
       "      <th>CELL</th>\n",
       "      <th>DRUG</th>\n",
       "      <th>AUC</th>\n",
       "      <th>y_true</th>\n",
       "      <th>y_pred</th>\n",
       "    </tr>\n",
       "  </thead>\n",
       "  <tbody>\n",
       "    <tr>\n",
       "      <th>0</th>\n",
       "      <td>0</td>\n",
       "      <td>ctrp</td>\n",
       "      <td>CTRP.JHOC-5</td>\n",
       "      <td>CTRP.391</td>\n",
       "      <td>0.8934</td>\n",
       "      <td>0.8934</td>\n",
       "      <td>0.824278</td>\n",
       "    </tr>\n",
       "    <tr>\n",
       "      <th>1</th>\n",
       "      <td>1</td>\n",
       "      <td>gdsc</td>\n",
       "      <td>GDSC.CAKI-1</td>\n",
       "      <td>GDSC.157</td>\n",
       "      <td>0.6228</td>\n",
       "      <td>0.6228</td>\n",
       "      <td>0.717275</td>\n",
       "    </tr>\n",
       "  </tbody>\n",
       "</table>\n",
       "</div>"
      ],
      "text/plain": [
       "   idx source         CELL      DRUG     AUC  y_true    y_pred\n",
       "0    0   ctrp  CTRP.JHOC-5  CTRP.391  0.8934  0.8934  0.824278\n",
       "1    1   gdsc  GDSC.CAKI-1  GDSC.157  0.6228  0.6228  0.717275"
      ]
     },
     "metadata": {},
     "output_type": "display_data"
    }
   ],
   "source": [
    "dir_name = runs_dirs[0]\n",
    "prd_tr_ = pd.read_csv(dir_name/'preds_tr.csv')\n",
    "prd_vl_ = pd.read_csv(dir_name/'preds_vl.csv')\n",
    "prd_te_ = pd.read_csv(dir_name/'preds_te.csv')\n",
    "rsp = pd.concat([prd_tr_, prd_vl_, prd_te_], axis=0)\n",
    "rsp = rsp.reset_index().rename(columns={'index': 'idx'})\n",
    "rsp.insert(loc=1, column='source', value=[s.split('.')[0].lower() for s in rsp['CELL']]) # add 'source' column\n",
    "\n",
    "display(rsp[:2])"
   ]
  },
  {
   "cell_type": "code",
   "execution_count": 12,
   "metadata": {},
   "outputs": [
    {
     "name": "stdout",
     "output_type": "stream",
     "text": [
      "(529940, 7)\n",
      "(529940, 8)\n"
     ]
    }
   ],
   "source": [
    "# Add meta\n",
    "print(rsp.shape)\n",
    "rsp = pd.merge(rsp, cancer_types, how='left', on='CELL')\n",
    "print(rsp.shape)"
   ]
  },
  {
   "cell_type": "code",
   "execution_count": null,
   "metadata": {},
   "outputs": [],
   "source": []
  },
  {
   "cell_type": "markdown",
   "metadata": {},
   "source": [
    "# Cell Responsiveness\n",
    "\n",
    "Are the cell names consistent across sources?"
   ]
  },
  {
   "cell_type": "code",
   "execution_count": 13,
   "metadata": {},
   "outputs": [],
   "source": [
    "def agg_rsp_by_dim(df, dim):\n",
    "    \"\"\" Aggregate response by 'dim' where dim is either 'CELL' or 'DRUG'. \"\"\"\n",
    "    df_ = df.copy()\n",
    "    \n",
    "    mean_col = 'auc_mean'\n",
    "    std_col  = 'auc_std'\n",
    "    df_[mean_col] = df_['AUC']\n",
    "    df_[std_col]  = df_['AUC']\n",
    "    # rsp_[f'{col.lower()}_mean'] = rsp_[col]\n",
    "    # rsp_[f'{col.lower()}_std'] = rsp_[col]\n",
    "        \n",
    "    # df_ = df_.groupby([dim]).agg({mean_col: np.mean, std_col: np.std, 'idx': len})\n",
    "    if dim=='CELL':\n",
    "        df_ = df_.groupby([dim]).agg({mean_col: np.mean, std_col: np.std, 'idx': len, 'CTYPE': np.unique})\n",
    "    else:\n",
    "        df_ = df_.groupby([dim]).agg({mean_col: np.mean, std_col: np.std, 'idx': len})\n",
    "    df_ = df_.rename(columns={'idx': 'cnt'})\n",
    "    df_ = df_.reset_index()\n",
    "    return df_    "
   ]
  },
  {
   "cell_type": "code",
   "execution_count": 14,
   "metadata": {},
   "outputs": [
    {
     "data": {
      "text/html": [
       "<div>\n",
       "<style scoped>\n",
       "    .dataframe tbody tr th:only-of-type {\n",
       "        vertical-align: middle;\n",
       "    }\n",
       "\n",
       "    .dataframe tbody tr th {\n",
       "        vertical-align: top;\n",
       "    }\n",
       "\n",
       "    .dataframe thead th {\n",
       "        text-align: right;\n",
       "    }\n",
       "</style>\n",
       "<table border=\"1\" class=\"dataframe\">\n",
       "  <thead>\n",
       "    <tr style=\"text-align: right;\">\n",
       "      <th></th>\n",
       "      <th>CELL</th>\n",
       "      <th>auc_mean</th>\n",
       "      <th>auc_std</th>\n",
       "      <th>cnt</th>\n",
       "      <th>CTYPE</th>\n",
       "    </tr>\n",
       "  </thead>\n",
       "  <tbody>\n",
       "    <tr>\n",
       "      <th>0</th>\n",
       "      <td>CCLE.22RV1</td>\n",
       "      <td>0.769696</td>\n",
       "      <td>0.162658</td>\n",
       "      <td>24</td>\n",
       "      <td>Prostate_Adenocarcinoma</td>\n",
       "    </tr>\n",
       "    <tr>\n",
       "      <th>1</th>\n",
       "      <td>CCLE.42MGBA</td>\n",
       "      <td>0.738280</td>\n",
       "      <td>0.172672</td>\n",
       "      <td>20</td>\n",
       "      <td>Glioblastoma_Multiforme</td>\n",
       "    </tr>\n",
       "  </tbody>\n",
       "</table>\n",
       "</div>"
      ],
      "text/plain": [
       "          CELL  auc_mean   auc_std  cnt                    CTYPE\n",
       "0   CCLE.22RV1  0.769696  0.162658   24  Prostate_Adenocarcinoma\n",
       "1  CCLE.42MGBA  0.738280  0.172672   20  Glioblastoma_Multiforme"
      ]
     },
     "execution_count": 14,
     "metadata": {},
     "output_type": "execute_result"
    }
   ],
   "source": [
    "rsp_cell = agg_rsp_by_dim(rsp, dim='CELL')\n",
    "rsp_cell[:2]"
   ]
  },
  {
   "cell_type": "code",
   "execution_count": 15,
   "metadata": {},
   "outputs": [
    {
     "data": {
      "text/html": [
       "<div>\n",
       "<style scoped>\n",
       "    .dataframe tbody tr th:only-of-type {\n",
       "        vertical-align: middle;\n",
       "    }\n",
       "\n",
       "    .dataframe tbody tr th {\n",
       "        vertical-align: top;\n",
       "    }\n",
       "\n",
       "    .dataframe thead th {\n",
       "        text-align: right;\n",
       "    }\n",
       "</style>\n",
       "<table border=\"1\" class=\"dataframe\">\n",
       "  <thead>\n",
       "    <tr style=\"text-align: right;\">\n",
       "      <th></th>\n",
       "      <th>CELL</th>\n",
       "      <th>auc_mean</th>\n",
       "      <th>auc_std</th>\n",
       "      <th>cnt</th>\n",
       "      <th>CTYPE</th>\n",
       "    </tr>\n",
       "  </thead>\n",
       "  <tbody>\n",
       "    <tr>\n",
       "      <th>427</th>\n",
       "      <td>CTRP.HCC-33</td>\n",
       "      <td>0.472225</td>\n",
       "      <td>0.219620</td>\n",
       "      <td>4</td>\n",
       "      <td>Lung_Small_Cell_Carcinoma</td>\n",
       "    </tr>\n",
       "    <tr>\n",
       "      <th>729</th>\n",
       "      <td>CTRP.SCLC-21H</td>\n",
       "      <td>0.482993</td>\n",
       "      <td>0.192537</td>\n",
       "      <td>15</td>\n",
       "      <td>Lung_Small_Cell_Carcinoma</td>\n",
       "    </tr>\n",
       "  </tbody>\n",
       "</table>\n",
       "</div>"
      ],
      "text/plain": [
       "              CELL  auc_mean   auc_std  cnt                      CTYPE\n",
       "427    CTRP.HCC-33  0.472225  0.219620    4  Lung_Small_Cell_Carcinoma\n",
       "729  CTRP.SCLC-21H  0.482993  0.192537   15  Lung_Small_Cell_Carcinoma"
      ]
     },
     "metadata": {},
     "output_type": "display_data"
    },
    {
     "data": {
      "text/html": [
       "<div>\n",
       "<style scoped>\n",
       "    .dataframe tbody tr th:only-of-type {\n",
       "        vertical-align: middle;\n",
       "    }\n",
       "\n",
       "    .dataframe tbody tr th {\n",
       "        vertical-align: top;\n",
       "    }\n",
       "\n",
       "    .dataframe thead th {\n",
       "        text-align: right;\n",
       "    }\n",
       "</style>\n",
       "<table border=\"1\" class=\"dataframe\">\n",
       "  <thead>\n",
       "    <tr style=\"text-align: right;\">\n",
       "      <th></th>\n",
       "      <th>CELL</th>\n",
       "      <th>auc_mean</th>\n",
       "      <th>auc_std</th>\n",
       "      <th>cnt</th>\n",
       "      <th>CTYPE</th>\n",
       "    </tr>\n",
       "  </thead>\n",
       "  <tbody>\n",
       "    <tr>\n",
       "      <th>529</th>\n",
       "      <td>CTRP.KPL-1</td>\n",
       "      <td>0.928594</td>\n",
       "      <td>0.075331</td>\n",
       "      <td>397</td>\n",
       "      <td>Breast_Invasive_Carcinoma</td>\n",
       "    </tr>\n",
       "    <tr>\n",
       "      <th>641</th>\n",
       "      <td>CTRP.NCI-H2172</td>\n",
       "      <td>0.928872</td>\n",
       "      <td>0.081286</td>\n",
       "      <td>383</td>\n",
       "      <td>Lung_Non-Small_Cell_Carcinoma</td>\n",
       "    </tr>\n",
       "  </tbody>\n",
       "</table>\n",
       "</div>"
      ],
      "text/plain": [
       "               CELL  auc_mean   auc_std  cnt                          CTYPE\n",
       "529      CTRP.KPL-1  0.928594  0.075331  397      Breast_Invasive_Carcinoma\n",
       "641  CTRP.NCI-H2172  0.928872  0.081286  383  Lung_Non-Small_Cell_Carcinoma"
      ]
     },
     "metadata": {},
     "output_type": "display_data"
    }
   ],
   "source": [
    "# Get the N most responsive cells\n",
    "N = 10\n",
    "\n",
    "# Most responsive cells\n",
    "most_rsp_cells = rsp_cell.sort_values('auc_mean', ascending=True)[:N]\n",
    "display(most_rsp_cells[:2])\n",
    "\n",
    "# Least responsive cells\n",
    "least_rsp_cells = rsp_cell.sort_values('auc_mean', ascending=True)[-N:]\n",
    "display(least_rsp_cells[:2])"
   ]
  },
  {
   "cell_type": "code",
   "execution_count": 16,
   "metadata": {},
   "outputs": [
    {
     "name": "stdout",
     "output_type": "stream",
     "text": [
      "['CTRP.RCC10RGB' 'CTRP.BEN' 'CTRP.REC-1' 'CTRP.SK-MEL-28' 'CTRP.KPL-1'\n",
      " 'CTRP.NCI-H2172' 'CTRP.KARPAS-620' 'CTRP.CL-34' 'CTRP.HT-29'\n",
      " 'GDSC.SW1116' 'CTRP.RERF-LC-Ad1' 'gCSI.NCI-H292' 'gCSI.KMM-1'\n",
      " 'gCSI.IGROV-1' 'gCSI.TC-71' 'CTRP.RD-ES' 'CTRP.BCP-1' 'gCSI.KMS-26'\n",
      " 'CTRP.SCLC-21H' 'CTRP.HCC-33']\n",
      "(4005, 8)\n"
     ]
    }
   ],
   "source": [
    "# Agg most and least responsive cells\n",
    "c_names = most_rsp_cells['CELL'].tolist()\n",
    "c_names.extend( least_rsp_cells['CELL'].tolist() )\n",
    "\n",
    "tmp_rsp = rsp[ rsp['CELL'].isin(c_names) ].copy()\n",
    "print(tmp_rsp['CELL'].unique())\n",
    "print(tmp_rsp.shape)"
   ]
  },
  {
   "cell_type": "code",
   "execution_count": 19,
   "metadata": {},
   "outputs": [
    {
     "data": {
      "image/png": "[encoded data removed]",
      "text/plain": [
       "<Figure size 584.5x360 with 1 Axes>"
      ]
     },
     "metadata": {
      "needs_background": "light"
     },
     "output_type": "display_data"
    }
   ],
   "source": [
    "# g = sns.catplot(data=tmp_rsp, x='CELL', y='AUC', kind='strip', hue='CTYPE');\n",
    "# g.set_xticklabels(rotation=70);\n",
    "\n",
    "g = sns.catplot(data=tmp_rsp, y='CELL', x='AUC', kind='strip', hue='CTYPE');\n",
    "# g = sns.catplot(data=tmp_rsp, y='CELL', x='AUC', kind='strip', hue='source');"
   ]
  },
  {
   "cell_type": "code",
   "execution_count": null,
   "metadata": {},
   "outputs": [],
   "source": []
  },
  {
   "cell_type": "markdown",
   "metadata": {},
   "source": [
    "### Demo viz"
   ]
  },
  {
   "cell_type": "code",
   "execution_count": 20,
   "metadata": {},
   "outputs": [],
   "source": [
    "# c_names = rsp['CELL'].sample(n=4).values  # get names of random cells\n",
    "# tmp_rsp = rsp[ rsp['CELL'].isin(c_names) ].copy()\n",
    "# print(tmp_rsp['CELL'].unique())\n",
    "# print(tmp_rsp.shape)"
   ]
  },
  {
   "cell_type": "code",
   "execution_count": 21,
   "metadata": {},
   "outputs": [],
   "source": [
    "# g = sns.catplot(data=tmp_rsp, x='CELL', y='AUC', kind='strip');\n",
    "# g = sns.catplot(data=tmp_rsp, x='CELL', y='AUC', kind='box');\n",
    "\n",
    "# g = sns.catplot(data=tmp_rsp, x='CELL', y='AUC', kind='strip', hue='CTYPE');\n",
    "# g.set_xticklabels(rotation=70);"
   ]
  },
  {
   "cell_type": "code",
   "execution_count": null,
   "metadata": {},
   "outputs": [],
   "source": []
  },
  {
   "cell_type": "markdown",
   "metadata": {},
   "source": [
    "# Drug Impactfulness"
   ]
  },
  {
   "cell_type": "code",
   "execution_count": 22,
   "metadata": {},
   "outputs": [],
   "source": [
    "rsp_drug = agg_rsp_by_dim(rsp, dim='DRUG')\n",
    "rsp_drug = rsp_drug.reset_index()"
   ]
  },
  {
   "cell_type": "code",
   "execution_count": 23,
   "metadata": {},
   "outputs": [
    {
     "data": {
      "text/html": [
       "<div>\n",
       "<style scoped>\n",
       "    .dataframe tbody tr th:only-of-type {\n",
       "        vertical-align: middle;\n",
       "    }\n",
       "\n",
       "    .dataframe tbody tr th {\n",
       "        vertical-align: top;\n",
       "    }\n",
       "\n",
       "    .dataframe thead th {\n",
       "        text-align: right;\n",
       "    }\n",
       "</style>\n",
       "<table border=\"1\" class=\"dataframe\">\n",
       "  <thead>\n",
       "    <tr style=\"text-align: right;\">\n",
       "      <th></th>\n",
       "      <th>index</th>\n",
       "      <th>DRUG</th>\n",
       "      <th>auc_mean</th>\n",
       "      <th>auc_std</th>\n",
       "      <th>cnt</th>\n",
       "    </tr>\n",
       "  </thead>\n",
       "  <tbody>\n",
       "    <tr>\n",
       "      <th>1139</th>\n",
       "      <td>1139</td>\n",
       "      <td>NSC.747973</td>\n",
       "      <td>0.208999</td>\n",
       "      <td>0.145005</td>\n",
       "      <td>162</td>\n",
       "    </tr>\n",
       "    <tr>\n",
       "      <th>553</th>\n",
       "      <td>553</td>\n",
       "      <td>GDSC.104</td>\n",
       "      <td>0.326878</td>\n",
       "      <td>0.202973</td>\n",
       "      <td>185</td>\n",
       "    </tr>\n",
       "  </tbody>\n",
       "</table>\n",
       "</div>"
      ],
      "text/plain": [
       "      index        DRUG  auc_mean   auc_std  cnt\n",
       "1139   1139  NSC.747973  0.208999  0.145005  162\n",
       "553     553    GDSC.104  0.326878  0.202973  185"
      ]
     },
     "metadata": {},
     "output_type": "display_data"
    },
    {
     "data": {
      "text/html": [
       "<div>\n",
       "<style scoped>\n",
       "    .dataframe tbody tr th:only-of-type {\n",
       "        vertical-align: middle;\n",
       "    }\n",
       "\n",
       "    .dataframe tbody tr th {\n",
       "        vertical-align: top;\n",
       "    }\n",
       "\n",
       "    .dataframe thead th {\n",
       "        text-align: right;\n",
       "    }\n",
       "</style>\n",
       "<table border=\"1\" class=\"dataframe\">\n",
       "  <thead>\n",
       "    <tr style=\"text-align: right;\">\n",
       "      <th></th>\n",
       "      <th>index</th>\n",
       "      <th>DRUG</th>\n",
       "      <th>auc_mean</th>\n",
       "      <th>auc_std</th>\n",
       "      <th>cnt</th>\n",
       "    </tr>\n",
       "  </thead>\n",
       "  <tbody>\n",
       "    <tr>\n",
       "      <th>1761</th>\n",
       "      <td>1761</td>\n",
       "      <td>NSC.98332</td>\n",
       "      <td>0.990776</td>\n",
       "      <td>0.011697</td>\n",
       "      <td>55</td>\n",
       "    </tr>\n",
       "    <tr>\n",
       "      <th>911</th>\n",
       "      <td>911</td>\n",
       "      <td>NSC.622218</td>\n",
       "      <td>0.991168</td>\n",
       "      <td>0.013014</td>\n",
       "      <td>44</td>\n",
       "    </tr>\n",
       "  </tbody>\n",
       "</table>\n",
       "</div>"
      ],
      "text/plain": [
       "      index        DRUG  auc_mean   auc_std  cnt\n",
       "1761   1761   NSC.98332  0.990776  0.011697   55\n",
       "911     911  NSC.622218  0.991168  0.013014   44"
      ]
     },
     "metadata": {},
     "output_type": "display_data"
    }
   ],
   "source": [
    "# Get the N most responsive cells\n",
    "N = 10\n",
    "\n",
    "# Most responsive cells\n",
    "most_rsp_drugs = rsp_drug.sort_values('auc_mean', ascending=True)[:N]\n",
    "display(most_rsp_drugs[:2])\n",
    "\n",
    "# Least responsive cells\n",
    "least_rsp_drugs = rsp_drug.sort_values('auc_mean', ascending=True)[-N:]\n",
    "display(least_rsp_drugs[:2])"
   ]
  },
  {
   "cell_type": "code",
   "execution_count": 24,
   "metadata": {},
   "outputs": [
    {
     "name": "stdout",
     "output_type": "stream",
     "text": [
      "['GDSC.268' 'NSC.747973' 'CTRP.542' 'CCLE.18' 'CTRP.309' 'CTRP.446'\n",
      " 'GDSC.104' 'GDSC.201' 'CTRP.157' 'NSC.622218' 'NSC.754143' 'NSC.617192'\n",
      " 'NSC.619130' 'NSC.615801' 'NSC.98332' 'NSC.665714' 'NSC.620620'\n",
      " 'NSC.624360' 'NSC.750679' 'NSC.624780']\n",
      "(4039, 8)\n"
     ]
    }
   ],
   "source": [
    "# Agg most and least responsive cells\n",
    "d_names = most_rsp_drugs['DRUG'].tolist()\n",
    "d_names.extend( least_rsp_drugs['DRUG'].tolist() )\n",
    "\n",
    "tmp_rsp = rsp[ rsp['DRUG'].isin(d_names) ].copy()\n",
    "print(tmp_rsp['DRUG'].unique())\n",
    "print(tmp_rsp.shape)"
   ]
  },
  {
   "cell_type": "code",
   "execution_count": 25,
   "metadata": {},
   "outputs": [
    {
     "data": {
      "image/png": "[encoded data removed]",
      "text/plain": [
       "<Figure size 423.375x360 with 1 Axes>"
      ]
     },
     "metadata": {
      "needs_background": "light"
     },
     "output_type": "display_data"
    }
   ],
   "source": [
    "g = sns.catplot(data=tmp_rsp, y='DRUG', x='AUC', kind='strip', hue='source');"
   ]
  },
  {
   "cell_type": "code",
   "execution_count": null,
   "metadata": {},
   "outputs": [],
   "source": []
  },
  {
   "cell_type": "markdown",
   "metadata": {},
   "source": [
    "# Cell Predictiveness"
   ]
  },
  {
   "cell_type": "code",
   "execution_count": 29,
   "metadata": {},
   "outputs": [],
   "source": [
    "def agg_prd_by_dim(df, dim):\n",
    "    df_ = df.copy()\n",
    "    \n",
    "    mean_col = 'err_mean'\n",
    "    std_col  = 'err_std'\n",
    "    df_[mean_col] = df_['err']\n",
    "    df_[std_col]  = df_['err']\n",
    "    # rsp_[f'{col.lower()}_mean'] = rsp_[col]\n",
    "    # rsp_[f'{col.lower()}_std'] = rsp_[col]\n",
    "        \n",
    "    # df_ = df_.groupby([dim]).agg({mean_col: np.mean, std_col: np.std, 'idx': len})\n",
    "    if dim=='CELL':\n",
    "        df_ = df_.groupby([dim]).agg({mean_col: np.mean, std_col: np.std, 'idx': len, 'CTYPE': np.unique})\n",
    "    else:\n",
    "        df_ = df_.groupby([dim]).agg({mean_col: np.mean, std_col: np.std, 'idx': len})\n",
    "    df_ = df_.rename(columns={'idx': 'cnt'})\n",
    "    df_ = df_.reset_index()        \n",
    "    return df_  "
   ]
  },
  {
   "cell_type": "code",
   "execution_count": 30,
   "metadata": {},
   "outputs": [
    {
     "data": {
      "text/html": [
       "<div>\n",
       "<style scoped>\n",
       "    .dataframe tbody tr th:only-of-type {\n",
       "        vertical-align: middle;\n",
       "    }\n",
       "\n",
       "    .dataframe tbody tr th {\n",
       "        vertical-align: top;\n",
       "    }\n",
       "\n",
       "    .dataframe thead th {\n",
       "        text-align: right;\n",
       "    }\n",
       "</style>\n",
       "<table border=\"1\" class=\"dataframe\">\n",
       "  <thead>\n",
       "    <tr style=\"text-align: right;\">\n",
       "      <th></th>\n",
       "      <th>CELL</th>\n",
       "      <th>err_mean</th>\n",
       "      <th>err_std</th>\n",
       "      <th>cnt</th>\n",
       "      <th>CTYPE</th>\n",
       "    </tr>\n",
       "  </thead>\n",
       "  <tbody>\n",
       "    <tr>\n",
       "      <th>0</th>\n",
       "      <td>CCLE.22RV1</td>\n",
       "      <td>0.066999</td>\n",
       "      <td>0.060342</td>\n",
       "      <td>234</td>\n",
       "      <td>Prostate_Adenocarcinoma</td>\n",
       "    </tr>\n",
       "    <tr>\n",
       "      <th>1</th>\n",
       "      <td>CCLE.42MGBA</td>\n",
       "      <td>0.088237</td>\n",
       "      <td>0.083734</td>\n",
       "      <td>210</td>\n",
       "      <td>Glioblastoma_Multiforme</td>\n",
       "    </tr>\n",
       "  </tbody>\n",
       "</table>\n",
       "</div>"
      ],
      "text/plain": [
       "          CELL  err_mean   err_std  cnt                    CTYPE\n",
       "0   CCLE.22RV1  0.066999  0.060342  234  Prostate_Adenocarcinoma\n",
       "1  CCLE.42MGBA  0.088237  0.083734  210  Glioblastoma_Multiforme"
      ]
     },
     "execution_count": 30,
     "metadata": {},
     "output_type": "execute_result"
    }
   ],
   "source": [
    "prd_cell = agg_prd_by_dim(prd_te, dim='CELL')\n",
    "prd_cell[:2]"
   ]
  },
  {
   "cell_type": "code",
   "execution_count": 32,
   "metadata": {},
   "outputs": [
    {
     "data": {
      "text/html": [
       "<div>\n",
       "<style scoped>\n",
       "    .dataframe tbody tr th:only-of-type {\n",
       "        vertical-align: middle;\n",
       "    }\n",
       "\n",
       "    .dataframe tbody tr th {\n",
       "        vertical-align: top;\n",
       "    }\n",
       "\n",
       "    .dataframe thead th {\n",
       "        text-align: right;\n",
       "    }\n",
       "</style>\n",
       "<table border=\"1\" class=\"dataframe\">\n",
       "  <thead>\n",
       "    <tr style=\"text-align: right;\">\n",
       "      <th></th>\n",
       "      <th>CELL</th>\n",
       "      <th>err_mean</th>\n",
       "      <th>err_std</th>\n",
       "      <th>cnt</th>\n",
       "      <th>CTYPE</th>\n",
       "    </tr>\n",
       "  </thead>\n",
       "  <tbody>\n",
       "    <tr>\n",
       "      <th>785</th>\n",
       "      <td>CTRP.SW1088</td>\n",
       "      <td>0.034815</td>\n",
       "      <td>0.030465</td>\n",
       "      <td>4218</td>\n",
       "      <td>Glioblastoma_Multiforme</td>\n",
       "    </tr>\n",
       "    <tr>\n",
       "      <th>416</th>\n",
       "      <td>CTRP.GOS-3</td>\n",
       "      <td>0.035706</td>\n",
       "      <td>0.033799</td>\n",
       "      <td>4194</td>\n",
       "      <td>Brain_NOS</td>\n",
       "    </tr>\n",
       "  </tbody>\n",
       "</table>\n",
       "</div>"
      ],
      "text/plain": [
       "            CELL  err_mean   err_std   cnt                    CTYPE\n",
       "785  CTRP.SW1088  0.034815  0.030465  4218  Glioblastoma_Multiforme\n",
       "416   CTRP.GOS-3  0.035706  0.033799  4194                Brain_NOS"
      ]
     },
     "metadata": {},
     "output_type": "display_data"
    },
    {
     "data": {
      "text/html": [
       "<div>\n",
       "<style scoped>\n",
       "    .dataframe tbody tr th:only-of-type {\n",
       "        vertical-align: middle;\n",
       "    }\n",
       "\n",
       "    .dataframe tbody tr th {\n",
       "        vertical-align: top;\n",
       "    }\n",
       "\n",
       "    .dataframe thead th {\n",
       "        text-align: right;\n",
       "    }\n",
       "</style>\n",
       "<table border=\"1\" class=\"dataframe\">\n",
       "  <thead>\n",
       "    <tr style=\"text-align: right;\">\n",
       "      <th></th>\n",
       "      <th>CELL</th>\n",
       "      <th>err_mean</th>\n",
       "      <th>err_std</th>\n",
       "      <th>cnt</th>\n",
       "      <th>CTYPE</th>\n",
       "    </tr>\n",
       "  </thead>\n",
       "  <tbody>\n",
       "    <tr>\n",
       "      <th>1523</th>\n",
       "      <td>gCSI.NCI-H292</td>\n",
       "      <td>0.150595</td>\n",
       "      <td>0.105609</td>\n",
       "      <td>160</td>\n",
       "      <td>Lung_Non-Small_Cell_Carcinoma</td>\n",
       "    </tr>\n",
       "    <tr>\n",
       "      <th>1463</th>\n",
       "      <td>gCSI.KMM-1</td>\n",
       "      <td>0.153332</td>\n",
       "      <td>0.119862</td>\n",
       "      <td>138</td>\n",
       "      <td>Lymphoid_Leukemia</td>\n",
       "    </tr>\n",
       "  </tbody>\n",
       "</table>\n",
       "</div>"
      ],
      "text/plain": [
       "               CELL  err_mean   err_std  cnt                          CTYPE\n",
       "1523  gCSI.NCI-H292  0.150595  0.105609  160  Lung_Non-Small_Cell_Carcinoma\n",
       "1463     gCSI.KMM-1  0.153332  0.119862  138              Lymphoid_Leukemia"
      ]
     },
     "metadata": {},
     "output_type": "display_data"
    }
   ],
   "source": [
    "# Get the N most responsive cells\n",
    "N = 10\n",
    "\n",
    "# Most responsive cells\n",
    "most_prd_cells = prd_cell.sort_values('err_mean', ascending=True)[:N]\n",
    "display(most_prd_cells[:2])\n",
    "\n",
    "# Least responsive cells\n",
    "least_prd_cells = prd_cell.sort_values('err_mean', ascending=True)[-N:]\n",
    "display(least_prd_cells[:2])"
   ]
  },
  {
   "cell_type": "code",
   "execution_count": null,
   "metadata": {},
   "outputs": [],
   "source": []
  },
  {
   "cell_type": "code",
   "execution_count": 27,
   "metadata": {},
   "outputs": [
    {
     "data": {
      "text/html": [
       "<div>\n",
       "<style scoped>\n",
       "    .dataframe tbody tr th:only-of-type {\n",
       "        vertical-align: middle;\n",
       "    }\n",
       "\n",
       "    .dataframe tbody tr th {\n",
       "        vertical-align: top;\n",
       "    }\n",
       "\n",
       "    .dataframe thead th {\n",
       "        text-align: right;\n",
       "    }\n",
       "</style>\n",
       "<table border=\"1\" class=\"dataframe\">\n",
       "  <thead>\n",
       "    <tr style=\"text-align: right;\">\n",
       "      <th></th>\n",
       "      <th>CELL</th>\n",
       "      <th>err_mean</th>\n",
       "      <th>err_std</th>\n",
       "      <th>cnt</th>\n",
       "    </tr>\n",
       "  </thead>\n",
       "  <tbody>\n",
       "    <tr>\n",
       "      <th>785</th>\n",
       "      <td>CTRP.SW1088</td>\n",
       "      <td>0.034815</td>\n",
       "      <td>0.030465</td>\n",
       "      <td>4218</td>\n",
       "    </tr>\n",
       "    <tr>\n",
       "      <th>416</th>\n",
       "      <td>CTRP.GOS-3</td>\n",
       "      <td>0.035706</td>\n",
       "      <td>0.033799</td>\n",
       "      <td>4194</td>\n",
       "    </tr>\n",
       "    <tr>\n",
       "      <th>473</th>\n",
       "      <td>CTRP.Hs-729</td>\n",
       "      <td>0.036052</td>\n",
       "      <td>0.033511</td>\n",
       "      <td>4175</td>\n",
       "    </tr>\n",
       "    <tr>\n",
       "      <th>825</th>\n",
       "      <td>CTRP.WM1799</td>\n",
       "      <td>0.036888</td>\n",
       "      <td>0.033020</td>\n",
       "      <td>4154</td>\n",
       "    </tr>\n",
       "  </tbody>\n",
       "</table>\n",
       "</div>"
      ],
      "text/plain": [
       "            CELL  err_mean   err_std   cnt\n",
       "785  CTRP.SW1088  0.034815  0.030465  4218\n",
       "416   CTRP.GOS-3  0.035706  0.033799  4194\n",
       "473  CTRP.Hs-729  0.036052  0.033511  4175\n",
       "825  CTRP.WM1799  0.036888  0.033020  4154"
      ]
     },
     "execution_count": 27,
     "metadata": {},
     "output_type": "execute_result"
    }
   ],
   "source": [
    "prd_cell.sort_values('err_mean', ascending=True)[:4]"
   ]
  },
  {
   "cell_type": "code",
   "execution_count": null,
   "metadata": {},
   "outputs": [],
   "source": []
  },
  {
   "cell_type": "markdown",
   "metadata": {},
   "source": [
    "# Drug Predictiveness"
   ]
  },
  {
   "cell_type": "code",
   "execution_count": 28,
   "metadata": {},
   "outputs": [
    {
     "data": {
      "text/html": [
       "<div>\n",
       "<style scoped>\n",
       "    .dataframe tbody tr th:only-of-type {\n",
       "        vertical-align: middle;\n",
       "    }\n",
       "\n",
       "    .dataframe tbody tr th {\n",
       "        vertical-align: top;\n",
       "    }\n",
       "\n",
       "    .dataframe thead th {\n",
       "        text-align: right;\n",
       "    }\n",
       "</style>\n",
       "<table border=\"1\" class=\"dataframe\">\n",
       "  <thead>\n",
       "    <tr style=\"text-align: right;\">\n",
       "      <th></th>\n",
       "      <th>DRUG</th>\n",
       "      <th>err_mean</th>\n",
       "      <th>err_std</th>\n",
       "      <th>cnt</th>\n",
       "    </tr>\n",
       "  </thead>\n",
       "  <tbody>\n",
       "    <tr>\n",
       "      <th>0</th>\n",
       "      <td>CCLE.1</td>\n",
       "      <td>0.057175</td>\n",
       "      <td>0.042345</td>\n",
       "      <td>3055</td>\n",
       "    </tr>\n",
       "    <tr>\n",
       "      <th>1</th>\n",
       "      <td>CCLE.10</td>\n",
       "      <td>0.063626</td>\n",
       "      <td>0.052287</td>\n",
       "      <td>3174</td>\n",
       "    </tr>\n",
       "    <tr>\n",
       "      <th>2</th>\n",
       "      <td>CCLE.11</td>\n",
       "      <td>0.045181</td>\n",
       "      <td>0.034647</td>\n",
       "      <td>3010</td>\n",
       "    </tr>\n",
       "  </tbody>\n",
       "</table>\n",
       "</div>"
      ],
      "text/plain": [
       "      DRUG  err_mean   err_std   cnt\n",
       "0   CCLE.1  0.057175  0.042345  3055\n",
       "1  CCLE.10  0.063626  0.052287  3174\n",
       "2  CCLE.11  0.045181  0.034647  3010"
      ]
     },
     "execution_count": 28,
     "metadata": {},
     "output_type": "execute_result"
    }
   ],
   "source": [
    "prd_drug = agg_prd_by_dim(prd_te, dim='DRUG')\n",
    "prd_drug[:3]"
   ]
  },
  {
   "cell_type": "code",
   "execution_count": 29,
   "metadata": {},
   "outputs": [
    {
     "data": {
      "text/html": [
       "<div>\n",
       "<style scoped>\n",
       "    .dataframe tbody tr th:only-of-type {\n",
       "        vertical-align: middle;\n",
       "    }\n",
       "\n",
       "    .dataframe tbody tr th {\n",
       "        vertical-align: top;\n",
       "    }\n",
       "\n",
       "    .dataframe thead th {\n",
       "        text-align: right;\n",
       "    }\n",
       "</style>\n",
       "<table border=\"1\" class=\"dataframe\">\n",
       "  <thead>\n",
       "    <tr style=\"text-align: right;\">\n",
       "      <th></th>\n",
       "      <th>DRUG</th>\n",
       "      <th>err_mean</th>\n",
       "      <th>err_std</th>\n",
       "      <th>cnt</th>\n",
       "    </tr>\n",
       "  </thead>\n",
       "  <tbody>\n",
       "    <tr>\n",
       "      <th>812</th>\n",
       "      <td>NSC.25154</td>\n",
       "      <td>0.017677</td>\n",
       "      <td>0.027527</td>\n",
       "      <td>18926</td>\n",
       "    </tr>\n",
       "    <tr>\n",
       "      <th>1081</th>\n",
       "      <td>NSC.717477</td>\n",
       "      <td>0.018077</td>\n",
       "      <td>0.012793</td>\n",
       "      <td>602</td>\n",
       "    </tr>\n",
       "    <tr>\n",
       "      <th>840</th>\n",
       "      <td>NSC.32065</td>\n",
       "      <td>0.018967</td>\n",
       "      <td>0.040742</td>\n",
       "      <td>13956</td>\n",
       "    </tr>\n",
       "    <tr>\n",
       "      <th>892</th>\n",
       "      <td>NSC.59791</td>\n",
       "      <td>0.019139</td>\n",
       "      <td>0.015773</td>\n",
       "      <td>620</td>\n",
       "    </tr>\n",
       "  </tbody>\n",
       "</table>\n",
       "</div>"
      ],
      "text/plain": [
       "            DRUG  err_mean   err_std    cnt\n",
       "812    NSC.25154  0.017677  0.027527  18926\n",
       "1081  NSC.717477  0.018077  0.012793    602\n",
       "840    NSC.32065  0.018967  0.040742  13956\n",
       "892    NSC.59791  0.019139  0.015773    620"
      ]
     },
     "execution_count": 29,
     "metadata": {},
     "output_type": "execute_result"
    }
   ],
   "source": [
    "prd_drug.sort_values('err_mean', ascending=True)[:4]"
   ]
  },
  {
   "cell_type": "code",
   "execution_count": null,
   "metadata": {},
   "outputs": [],
   "source": []
  },
  {
   "cell_type": "code",
   "execution_count": null,
   "metadata": {},
   "outputs": [],
   "source": []
  }
 ],
 "metadata": {
  "kernelspec": {
   "display_name": "Python 3",
   "language": "python",
   "name": "python3"
  },
  "language_info": {
   "codemirror_mode": {
    "name": "ipython",
    "version": 3
   },
   "file_extension": ".py",
   "mimetype": "text/x-python",
   "name": "python",
   "nbconvert_exporter": "python",
   "pygments_lexer": "ipython3",
   "version": "3.6.8"
  }
 },
 "nbformat": 4,
 "nbformat_minor": 2
}
