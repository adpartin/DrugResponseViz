{
 "cells": [
  {
   "cell_type": "code",
   "execution_count": 1,
   "metadata": {},
   "outputs": [
    {
     "name": "stdout",
     "output_type": "stream",
     "text": [
      "/Users/apartin/Box Sync/projects/DrugResponseViz/notebooks\n"
     ]
    }
   ],
   "source": [
    "%load_ext autoreload\n",
    "%autoreload 2\n",
    "%matplotlib inline\n",
    "\n",
    "import warnings\n",
    "warnings.filterwarnings('ignore')\n",
    "\n",
    "import os\n",
    "import sys\n",
    "from pathlib import Path\n",
    "import numpy as np\n",
    "import pandas as pd\n",
    "import matplotlib.pyplot as plt\n",
    "import seaborn as sns\n",
    "import collections\n",
    "from glob import glob\n",
    "\n",
    "import sklearn\n",
    "import numpy as np\n",
    "import pandas as pd\n",
    "from math import sqrt\n",
    "\n",
    "from sklearn.metrics import confusion_matrix\n",
    "# from sklearn.metrics import ConfusionMatrixDisplay  # error\n",
    "\n",
    "file_path = Path.cwd()\n",
    "print(file_path)"
   ]
  },
  {
   "cell_type": "code",
   "execution_count": 2,
   "metadata": {},
   "outputs": [
    {
     "data": {
      "text/html": [
       "<div>\n",
       "<style scoped>\n",
       "    .dataframe tbody tr th:only-of-type {\n",
       "        vertical-align: middle;\n",
       "    }\n",
       "\n",
       "    .dataframe tbody tr th {\n",
       "        vertical-align: top;\n",
       "    }\n",
       "\n",
       "    .dataframe thead th {\n",
       "        text-align: right;\n",
       "    }\n",
       "</style>\n",
       "<table border=\"1\" class=\"dataframe\">\n",
       "  <thead>\n",
       "    <tr style=\"text-align: right;\">\n",
       "      <th></th>\n",
       "      <th>idx</th>\n",
       "      <th>SOURCE</th>\n",
       "      <th>CELL</th>\n",
       "      <th>DRUG</th>\n",
       "      <th>STUDY</th>\n",
       "      <th>AUC</th>\n",
       "      <th>IC50</th>\n",
       "      <th>EC50</th>\n",
       "      <th>EC50se</th>\n",
       "      <th>R2fit</th>\n",
       "      <th>Einf</th>\n",
       "      <th>HS</th>\n",
       "      <th>AAC1</th>\n",
       "      <th>AUC1</th>\n",
       "      <th>DSS1</th>\n",
       "      <th>AUC_cls</th>\n",
       "    </tr>\n",
       "  </thead>\n",
       "  <tbody>\n",
       "    <tr>\n",
       "      <th>0</th>\n",
       "      <td>0</td>\n",
       "      <td>CCLE</td>\n",
       "      <td>CCLE.42MGBA</td>\n",
       "      <td>CCLE.1</td>\n",
       "      <td>fake_exp</td>\n",
       "      <td>0.8126</td>\n",
       "      <td>5.570</td>\n",
       "      <td>5.764</td>\n",
       "      <td>0.0229</td>\n",
       "      <td>0.9972</td>\n",
       "      <td>0.3626</td>\n",
       "      <td>2.899</td>\n",
       "      <td>0.1216</td>\n",
       "      <td>0.8784</td>\n",
       "      <td>0.1008</td>\n",
       "      <td>0</td>\n",
       "    </tr>\n",
       "    <tr>\n",
       "      <th>1</th>\n",
       "      <td>1</td>\n",
       "      <td>CCLE</td>\n",
       "      <td>CCLE.697</td>\n",
       "      <td>CCLE.1</td>\n",
       "      <td>fake_exp</td>\n",
       "      <td>0.7692</td>\n",
       "      <td>5.379</td>\n",
       "      <td>5.379</td>\n",
       "      <td>0.8163</td>\n",
       "      <td>0.8768</td>\n",
       "      <td>0.0000</td>\n",
       "      <td>1.299</td>\n",
       "      <td>0.1146</td>\n",
       "      <td>0.8854</td>\n",
       "      <td>0.0840</td>\n",
       "      <td>0</td>\n",
       "    </tr>\n",
       "    <tr>\n",
       "      <th>2</th>\n",
       "      <td>2</td>\n",
       "      <td>CCLE</td>\n",
       "      <td>CCLE.769P</td>\n",
       "      <td>CCLE.1</td>\n",
       "      <td>fake_exp</td>\n",
       "      <td>0.8371</td>\n",
       "      <td>NaN</td>\n",
       "      <td>6.524</td>\n",
       "      <td>0.1646</td>\n",
       "      <td>0.8962</td>\n",
       "      <td>0.6129</td>\n",
       "      <td>3.376</td>\n",
       "      <td>0.1576</td>\n",
       "      <td>0.8424</td>\n",
       "      <td>0.1209</td>\n",
       "      <td>0</td>\n",
       "    </tr>\n",
       "  </tbody>\n",
       "</table>\n",
       "</div>"
      ],
      "text/plain": [
       "   idx SOURCE         CELL    DRUG     STUDY     AUC   IC50   EC50  EC50se  \\\n",
       "0    0   CCLE  CCLE.42MGBA  CCLE.1  fake_exp  0.8126  5.570  5.764  0.0229   \n",
       "1    1   CCLE     CCLE.697  CCLE.1  fake_exp  0.7692  5.379  5.379  0.8163   \n",
       "2    2   CCLE    CCLE.769P  CCLE.1  fake_exp  0.8371    NaN  6.524  0.1646   \n",
       "\n",
       "    R2fit    Einf     HS    AAC1    AUC1    DSS1  AUC_cls  \n",
       "0  0.9972  0.3626  2.899  0.1216  0.8784  0.1008        0  \n",
       "1  0.8768  0.0000  1.299  0.1146  0.8854  0.0840        0  \n",
       "2  0.8962  0.6129  3.376  0.1576  0.8424  0.1209        0  "
      ]
     },
     "metadata": {},
     "output_type": "display_data"
    }
   ],
   "source": [
    "cancer_types = pd.read_csv(file_path/'../data/combined_cancer_types', sep='\\t', names=['CELL', 'CTYPE'])\n",
    "df = pd.read_csv('../all_meta.csv')\n",
    "df['AUC_cls'] = [0 if v>0.5 else 1 for v in df['AUC'].values]\n",
    "df = df.reset_index().rename(columns={'index': 'idx'})\n",
    "display(df[:3])"
   ]
  },
  {
   "cell_type": "code",
   "execution_count": 3,
   "metadata": {},
   "outputs": [],
   "source": [
    "# def plot_target(data_to_plot, y_name, x_name, kind='box', hue_name=None, height=None, aspect=None):\n",
    "#     \"\"\" Plot function. \"\"\"\n",
    "#     if hue_name:\n",
    "#         g = sns.catplot(data=data_to_plot, y=y_name, x=x_name, kind=kind, hue=hue_name, **args);\n",
    "#     else:\n",
    "#         g = sns.catplot(data=data_to_plot, y=y_name, x=x_name, kind=kind, **args);\n",
    "#     return g"
   ]
  },
  {
   "cell_type": "code",
   "execution_count": 4,
   "metadata": {},
   "outputs": [
    {
     "name": "stdout",
     "output_type": "stream",
     "text": [
      "0.0001\n"
     ]
    },
    {
     "data": {
      "text/plain": [
       "Text(0, 0.5, 'Count')"
      ]
     },
     "execution_count": 4,
     "metadata": {},
     "output_type": "execute_result"
    },
    {
     "data": {
      "image/png": "[encoded data removed]",
      "text/plain": [
       "<Figure size 432x288 with 1 Axes>"
      ]
     },
     "metadata": {
      "needs_background": "light"
     },
     "output_type": "display_data"
    }
   ],
   "source": [
    "th = 0\n",
    "print(df.R2fit[df.R2fit>th].min())\n",
    "ax = sns.distplot(df.R2fit[df.R2fit>th], bins=50, kde=False);\n",
    "ax.set_title('Distribution of R2 fit values (for R2>0)')\n",
    "ax.set_ylabel('Count')"
   ]
  },
  {
   "cell_type": "code",
   "execution_count": 5,
   "metadata": {},
   "outputs": [],
   "source": [
    "# Bin R2fit values\n",
    "bins_ = np.arange(0, 1.1, 0.1).tolist()\n",
    "bins = [-np.Inf]\n",
    "bins.extend(bins_)\n",
    "df['R2_Fit_bin'] = pd.cut(df.R2fit, bins, right=True, labels=None, retbins=False, precision=3, include_lowest=False, duplicates='raise')\n",
    "# df['R2_Fit_bin'] = df['R2_Fit_bin'].astype(str)"
   ]
  },
  {
   "cell_type": "code",
   "execution_count": 6,
   "metadata": {},
   "outputs": [
    {
     "name": "stdout",
     "output_type": "stream",
     "text": [
      "(-inf, 0.0] 46108\n",
      "(0.0, 0.1] 13302\n",
      "(0.1, 0.2] 10955\n",
      "(0.2, 0.3] 9148\n",
      "(0.3, 0.4] 9640\n",
      "(0.4, 0.5] 8983\n",
      "(0.5, 0.6] 10377\n",
      "(0.6, 0.7] 13208\n",
      "(0.7, 0.8] 18926\n",
      "(0.8, 0.9] 38753\n",
      "(0.9, 1.0] 190857\n"
     ]
    }
   ],
   "source": [
    "for c in df['R2_Fit_bin'].cat.categories:\n",
    "    aa = df[df['R2_Fit_bin']==c]\n",
    "    print(c, aa.shape[0])"
   ]
  },
  {
   "cell_type": "code",
   "execution_count": 7,
   "metadata": {},
   "outputs": [
    {
     "data": {
      "text/html": [
       "<div>\n",
       "<style scoped>\n",
       "    .dataframe tbody tr th:only-of-type {\n",
       "        vertical-align: middle;\n",
       "    }\n",
       "\n",
       "    .dataframe tbody tr th {\n",
       "        vertical-align: top;\n",
       "    }\n",
       "\n",
       "    .dataframe thead th {\n",
       "        text-align: right;\n",
       "    }\n",
       "</style>\n",
       "<table border=\"1\" class=\"dataframe\">\n",
       "  <thead>\n",
       "    <tr style=\"text-align: right;\">\n",
       "      <th></th>\n",
       "      <th>R2_Fit_bin</th>\n",
       "      <th>no_rsp</th>\n",
       "      <th>rsp</th>\n",
       "      <th>tot</th>\n",
       "      <th>rsp_ratio</th>\n",
       "    </tr>\n",
       "  </thead>\n",
       "  <tbody>\n",
       "    <tr>\n",
       "      <th>0</th>\n",
       "      <td>(-inf, 0.0]</td>\n",
       "      <td>45820</td>\n",
       "      <td>288</td>\n",
       "      <td>46108</td>\n",
       "      <td>0.006246</td>\n",
       "    </tr>\n",
       "    <tr>\n",
       "      <th>1</th>\n",
       "      <td>(0.0, 0.1]</td>\n",
       "      <td>13152</td>\n",
       "      <td>150</td>\n",
       "      <td>13302</td>\n",
       "      <td>0.011276</td>\n",
       "    </tr>\n",
       "    <tr>\n",
       "      <th>2</th>\n",
       "      <td>(0.1, 0.2]</td>\n",
       "      <td>10832</td>\n",
       "      <td>123</td>\n",
       "      <td>10955</td>\n",
       "      <td>0.011228</td>\n",
       "    </tr>\n",
       "    <tr>\n",
       "      <th>3</th>\n",
       "      <td>(0.2, 0.3]</td>\n",
       "      <td>9001</td>\n",
       "      <td>147</td>\n",
       "      <td>9148</td>\n",
       "      <td>0.016069</td>\n",
       "    </tr>\n",
       "    <tr>\n",
       "      <th>4</th>\n",
       "      <td>(0.3, 0.4]</td>\n",
       "      <td>9422</td>\n",
       "      <td>218</td>\n",
       "      <td>9640</td>\n",
       "      <td>0.022614</td>\n",
       "    </tr>\n",
       "    <tr>\n",
       "      <th>5</th>\n",
       "      <td>(0.4, 0.5]</td>\n",
       "      <td>8704</td>\n",
       "      <td>279</td>\n",
       "      <td>8983</td>\n",
       "      <td>0.031059</td>\n",
       "    </tr>\n",
       "    <tr>\n",
       "      <th>6</th>\n",
       "      <td>(0.5, 0.6]</td>\n",
       "      <td>10064</td>\n",
       "      <td>313</td>\n",
       "      <td>10377</td>\n",
       "      <td>0.030163</td>\n",
       "    </tr>\n",
       "    <tr>\n",
       "      <th>7</th>\n",
       "      <td>(0.6, 0.7]</td>\n",
       "      <td>12808</td>\n",
       "      <td>400</td>\n",
       "      <td>13208</td>\n",
       "      <td>0.030285</td>\n",
       "    </tr>\n",
       "    <tr>\n",
       "      <th>8</th>\n",
       "      <td>(0.7, 0.8]</td>\n",
       "      <td>18276</td>\n",
       "      <td>650</td>\n",
       "      <td>18926</td>\n",
       "      <td>0.034344</td>\n",
       "    </tr>\n",
       "    <tr>\n",
       "      <th>9</th>\n",
       "      <td>(0.8, 0.9]</td>\n",
       "      <td>37267</td>\n",
       "      <td>1486</td>\n",
       "      <td>38753</td>\n",
       "      <td>0.038345</td>\n",
       "    </tr>\n",
       "    <tr>\n",
       "      <th>10</th>\n",
       "      <td>(0.9, 1.0]</td>\n",
       "      <td>181949</td>\n",
       "      <td>8908</td>\n",
       "      <td>190857</td>\n",
       "      <td>0.046674</td>\n",
       "    </tr>\n",
       "  </tbody>\n",
       "</table>\n",
       "</div>"
      ],
      "text/plain": [
       "     R2_Fit_bin  no_rsp   rsp     tot  rsp_ratio\n",
       "0   (-inf, 0.0]   45820   288   46108   0.006246\n",
       "1    (0.0, 0.1]   13152   150   13302   0.011276\n",
       "2    (0.1, 0.2]   10832   123   10955   0.011228\n",
       "3    (0.2, 0.3]    9001   147    9148   0.016069\n",
       "4    (0.3, 0.4]    9422   218    9640   0.022614\n",
       "5    (0.4, 0.5]    8704   279    8983   0.031059\n",
       "6    (0.5, 0.6]   10064   313   10377   0.030163\n",
       "7    (0.6, 0.7]   12808   400   13208   0.030285\n",
       "8    (0.7, 0.8]   18276   650   18926   0.034344\n",
       "9    (0.8, 0.9]   37267  1486   38753   0.038345\n",
       "10   (0.9, 1.0]  181949  8908  190857   0.046674"
      ]
     },
     "execution_count": 7,
     "metadata": {},
     "output_type": "execute_result"
    }
   ],
   "source": [
    "aa = df.groupby(['R2_Fit_bin', 'AUC_cls']).agg({'idx': len}).reset_index()\n",
    "aa = pd.pivot_table(aa, values='idx', index='R2_Fit_bin', columns='AUC_cls')\n",
    "aa.columns.name = None\n",
    "aa = aa.reset_index()\n",
    "aa = aa.rename(columns={0: 'no_rsp', 1: 'rsp'})\n",
    "aa['tot'] = aa.no_rsp + aa.rsp\n",
    "aa['rsp_ratio'] = aa.rsp/(aa.rsp + aa.no_rsp)\n",
    "\n",
    "bin_cnt = aa\n",
    "bin_cnt"
   ]
  },
  {
   "cell_type": "code",
   "execution_count": 8,
   "metadata": {},
   "outputs": [],
   "source": [
    "tot = bin_cnt['tot'].values.sum()\n",
    "prc = []\n",
    "for i in range(bin_cnt.shape[0]):\n",
    "    prc.append( sum(bin_cnt.loc[:i, 'tot'].values)/tot )  # cummulative percent\n",
    "bin_cnt['cum_prcnt'] = prc\n",
    "display(bin_cnt)"
   ]
  },
  {
   "cell_type": "code",
   "execution_count": 10,
   "metadata": {},
   "outputs": [
    {
     "data": {
      "text/html": [
       "<div>\n",
       "<style scoped>\n",
       "    .dataframe tbody tr th:only-of-type {\n",
       "        vertical-align: middle;\n",
       "    }\n",
       "\n",
       "    .dataframe tbody tr th {\n",
       "        vertical-align: top;\n",
       "    }\n",
       "\n",
       "    .dataframe thead th {\n",
       "        text-align: right;\n",
       "    }\n",
       "</style>\n",
       "<table border=\"1\" class=\"dataframe\">\n",
       "  <thead>\n",
       "    <tr style=\"text-align: right;\">\n",
       "      <th></th>\n",
       "      <th>R2_Fit_bin</th>\n",
       "      <th>SOURCE</th>\n",
       "      <th>idx</th>\n",
       "    </tr>\n",
       "  </thead>\n",
       "  <tbody>\n",
       "    <tr>\n",
       "      <th>0</th>\n",
       "      <td>(-inf, 0.0]</td>\n",
       "      <td>CCLE</td>\n",
       "      <td>999</td>\n",
       "    </tr>\n",
       "    <tr>\n",
       "      <th>1</th>\n",
       "      <td>(-inf, 0.0]</td>\n",
       "      <td>CTRP</td>\n",
       "      <td>28106</td>\n",
       "    </tr>\n",
       "    <tr>\n",
       "      <th>2</th>\n",
       "      <td>(-inf, 0.0]</td>\n",
       "      <td>GDSC</td>\n",
       "      <td>14876</td>\n",
       "    </tr>\n",
       "    <tr>\n",
       "      <th>3</th>\n",
       "      <td>(-inf, 0.0]</td>\n",
       "      <td>NCI60</td>\n",
       "      <td>2029</td>\n",
       "    </tr>\n",
       "    <tr>\n",
       "      <th>4</th>\n",
       "      <td>(-inf, 0.0]</td>\n",
       "      <td>gCSI</td>\n",
       "      <td>98</td>\n",
       "    </tr>\n",
       "    <tr>\n",
       "      <th>5</th>\n",
       "      <td>(0.0, 0.1]</td>\n",
       "      <td>CCLE</td>\n",
       "      <td>292</td>\n",
       "    </tr>\n",
       "    <tr>\n",
       "      <th>6</th>\n",
       "      <td>(0.0, 0.1]</td>\n",
       "      <td>CTRP</td>\n",
       "      <td>9984</td>\n",
       "    </tr>\n",
       "  </tbody>\n",
       "</table>\n",
       "</div>"
      ],
      "text/plain": [
       "    R2_Fit_bin SOURCE    idx\n",
       "0  (-inf, 0.0]   CCLE    999\n",
       "1  (-inf, 0.0]   CTRP  28106\n",
       "2  (-inf, 0.0]   GDSC  14876\n",
       "3  (-inf, 0.0]  NCI60   2029\n",
       "4  (-inf, 0.0]   gCSI     98\n",
       "5   (0.0, 0.1]   CCLE    292\n",
       "6   (0.0, 0.1]   CTRP   9984"
      ]
     },
     "execution_count": 10,
     "metadata": {},
     "output_type": "execute_result"
    }
   ],
   "source": [
    "df.groupby(['R2_Fit_bin', 'SOURCE']).agg({'idx': len}).reset_index()[:7]"
   ]
  },
  {
   "cell_type": "code",
   "execution_count": null,
   "metadata": {},
   "outputs": [],
   "source": []
  },
  {
   "cell_type": "code",
   "execution_count": 87,
   "metadata": {},
   "outputs": [
    {
     "data": {
      "image/png": "[encoded data removed]",
      "text/plain": [
       "<Figure size 360x360 with 1 Axes>"
      ]
     },
     "metadata": {
      "needs_background": "light"
     },
     "output_type": "display_data"
    }
   ],
   "source": [
    "# g = sns.catplot(data=df, x='R2_Fit_bin', kind='bar', orient='h');  # doesn't work\n",
    "\n",
    "# g = sns.catplot(data=df, x='R2_Fit_bin', kind='count');\n",
    "\n",
    "g = sns.catplot(data=df, y='R2_Fit_bin', kind='count');\n",
    "# g = sns.catplot(data=df, y='R2_Fit_bin', kind='count', row='SOURCE');\n",
    "# g = sns.catplot(data=df, y='R2_Fit_bin', kind='count', hue='SOURCE');\n",
    "# g.xlabel('Total Samples')\n",
    "# g.set_ylabel('R2 Fit of AUC curve')\n",
    "g.set_xticklabels(rotation=45);"
   ]
  },
  {
   "cell_type": "code",
   "execution_count": null,
   "metadata": {},
   "outputs": [],
   "source": []
  },
  {
   "cell_type": "code",
   "execution_count": null,
   "metadata": {},
   "outputs": [],
   "source": []
  },
  {
   "cell_type": "markdown",
   "metadata": {},
   "source": [
    "# Analyze the effect ot R2 Fit"
   ]
  },
  {
   "cell_type": "code",
   "execution_count": 69,
   "metadata": {},
   "outputs": [],
   "source": [
    "path = Path('/Users/apartin/Box Sync/projects/DrugResponseViz/R2fit_analysis')\n",
    "trn_rv_dirs = [Path(d) for d in glob(str(path/'trn_rv0.*'))]"
   ]
  },
  {
   "cell_type": "code",
   "execution_count": 74,
   "metadata": {},
   "outputs": [
    {
     "data": {
      "text/html": [
       "<div>\n",
       "<style scoped>\n",
       "    .dataframe tbody tr th:only-of-type {\n",
       "        vertical-align: middle;\n",
       "    }\n",
       "\n",
       "    .dataframe tbody tr th {\n",
       "        vertical-align: top;\n",
       "    }\n",
       "\n",
       "    .dataframe thead th {\n",
       "        text-align: right;\n",
       "    }\n",
       "</style>\n",
       "<table border=\"1\" class=\"dataframe\">\n",
       "  <thead>\n",
       "    <tr style=\"text-align: right;\">\n",
       "      <th></th>\n",
       "      <th>rv</th>\n",
       "      <th>mcc_median</th>\n",
       "      <th>mcc_std</th>\n",
       "      <th>brier_median</th>\n",
       "      <th>brier_std</th>\n",
       "      <th>f1_median</th>\n",
       "      <th>f1_std</th>\n",
       "    </tr>\n",
       "  </thead>\n",
       "  <tbody>\n",
       "    <tr>\n",
       "      <th>0</th>\n",
       "      <td>0.0</td>\n",
       "      <td>0.601335</td>\n",
       "      <td>0.012717</td>\n",
       "      <td>0.019008</td>\n",
       "      <td>0.000504</td>\n",
       "      <td>0.973964</td>\n",
       "      <td>0.000853</td>\n",
       "    </tr>\n",
       "    <tr>\n",
       "      <th>1</th>\n",
       "      <td>0.1</td>\n",
       "      <td>0.604802</td>\n",
       "      <td>0.011972</td>\n",
       "      <td>0.019516</td>\n",
       "      <td>0.000562</td>\n",
       "      <td>0.973337</td>\n",
       "      <td>0.000903</td>\n",
       "    </tr>\n",
       "  </tbody>\n",
       "</table>\n",
       "</div>"
      ],
      "text/plain": [
       "    rv  mcc_median   mcc_std  brier_median  brier_std  f1_median    f1_std\n",
       "0  0.0    0.601335  0.012717      0.019008   0.000504   0.973964  0.000853\n",
       "1  0.1    0.604802  0.011972      0.019516   0.000562   0.973337  0.000903"
      ]
     },
     "metadata": {},
     "output_type": "display_data"
    }
   ],
   "source": [
    "# Combine results\n",
    "te_scr = []\n",
    "for p in trn_rv_dirs:\n",
    "    dd = pd.read_csv( p/'te_scores.csv' )\n",
    "    dd.insert( loc=0, column='rv', value=str(p).split('/')[-1].split('_rv')[-1] )\n",
    "    te_scr.append(dd)\n",
    "    \n",
    "te_scr = pd.concat(te_scr, axis=0)\n",
    "\n",
    "# Agg results\n",
    "te_scr['mcc_median'] = te_scr['mcc']\n",
    "te_scr['mcc_std'] = te_scr['mcc']\n",
    "te_scr['brier_median'] = te_scr['brier']\n",
    "te_scr['brier_std'] = te_scr['brier']\n",
    "te_scr['f1_median'] = te_scr['f1_score']\n",
    "te_scr['f1_std'] = te_scr['f1_score']\n",
    "\n",
    "te_scr = te_scr.groupby(['rv']).agg(\n",
    "    {'mcc_median': 'median',   'mcc_std': 'std',\n",
    "     'brier_median': 'median', 'brier_std': 'std',\n",
    "     'f1_median': 'median',   'f1_std': 'std'}).reset_index()\n",
    "\n",
    "display( te_scr )"
   ]
  },
  {
   "cell_type": "code",
   "execution_count": 84,
   "metadata": {},
   "outputs": [
    {
     "data": {
      "image/png": "[encoded data removed]",
      "text/plain": [
       "<Figure size 720x720 with 3 Axes>"
      ]
     },
     "metadata": {
      "needs_background": "light"
     },
     "output_type": "display_data"
    }
   ],
   "source": [
    "# _, ax = plt.subplots(1,3,figsize=(15,7))\n",
    "_, ax = plt.subplots(3, 1, figsize=(10,10), sharex=True)\n",
    "ax = ax.ravel()\n",
    "\n",
    "ax[0].errorbar(te_scr.rv, te_scr.mcc_median, yerr=te_scr.mcc_std, label='MCC');\n",
    "ax[0].set_ylabel('MCC')\n",
    "ax[1].errorbar(te_scr.rv, te_scr.brier_median, yerr=te_scr.brier_std, label='Brier');\n",
    "ax[1].set_ylabel('Brier')\n",
    "ax[2].errorbar(te_scr.rv, te_scr.f1_median, yerr=te_scr.f1_std, label='F1');\n",
    "ax[2].set_ylabel('F1')\n",
    "ax[2].set_xlabel('Samples below this R2 Fit  value were removed');"
   ]
  },
  {
   "cell_type": "code",
   "execution_count": null,
   "metadata": {},
   "outputs": [],
   "source": []
  }
 ],
 "metadata": {
  "kernelspec": {
   "display_name": "Python 3",
   "language": "python",
   "name": "python3"
  },
  "language_info": {
   "codemirror_mode": {
    "name": "ipython",
    "version": 3
   },
   "file_extension": ".py",
   "mimetype": "text/x-python",
   "name": "python",
   "nbconvert_exporter": "python",
   "pygments_lexer": "ipython3",
   "version": "3.6.8"
  }
 },
 "nbformat": 4,
 "nbformat_minor": 4
}
